{
  "nbformat": 4,
  "nbformat_minor": 0,
  "metadata": {
    "colab": {
      "name": "Capstone 2 - West Nile Virus Prediction.ipynb",
      "provenance": [],
      "collapsed_sections": [],
      "authorship_tag": "ABX9TyPkk8Li9c4jTVjmYvYC4J4t"
    },
    "kernelspec": {
      "name": "python3",
      "display_name": "Python 3"
    }
  },
  "cells": [
    {
      "cell_type": "markdown",
      "metadata": {
        "id": "xyDXO6uJw805"
      },
      "source": [
        "# **Capstone 2 - West Nile Virus Prediction**<br>"
      ]
    },
    {
      "cell_type": "markdown",
      "metadata": {
        "id": "WbdtKRc4zqIW"
      },
      "source": [
        "West Nile virus (WNV), according to [Centers for Disease Control & Prevention (CDC)](https://www.cdc.gov/westnile/index.html#:~:text=West%20Nile%20virus%20(WNV)%20is,summer%20and%20continues%20through%20fall.), is the leading cause of mosquito-borne disease in the continental United States.  It is most commonly spread to people by the bite of an infected mosquito. WNV usually occurs during mosquito seasons in summer and fall. There are no vaccines to prevent or medications to treat WNV in people.<br>\r\n",
        "\r\n"
      ]
    },
    {
      "cell_type": "markdown",
      "metadata": {
        "id": "3okc9QMHFLPf"
      },
      "source": [
        "**The Problem Statement:**\r\n",
        "\r\n",
        "The objective of this project is to analyze the data provided, build a model and predict if WNV is present at a location in Chicago. "
      ]
    },
    {
      "cell_type": "code",
      "metadata": {
        "id": "x42Nr3V8vAXl"
      },
      "source": [
        "import pandas as pd\r\n",
        "import matplotlib.pyplot as plt\r\n",
        "import seaborn as sns\r\n",
        "import numpy as np\r\n",
        "\r\n",
        "from sklearn.cluster import DBSCAN\r\n",
        "from sklearn.preprocessing import StandardScaler, MinMaxScaler\r\n",
        "from sklearn.model_selection import train_test_split\r\n",
        "from sklearn.ensemble import RandomForestClassifier, GradientBoostingClassifier\r\n",
        "from sklearn.neighbors import KNeighborsClassifier\r\n",
        "from sklearn.metrics import confusion_matrix, plot_confusion_matrix, recall_score\r\n",
        "from sklearn.metrics import f1_score, accuracy_score, roc_auc_score, plot_roc_curve\r\n",
        "from imblearn.over_sampling import SMOTE\r\n",
        "import xgboost as xgb\r\n",
        "from xgboost import XGBClassifier, plot_importance"
      ],
      "execution_count": 527,
      "outputs": []
    },
    {
      "cell_type": "markdown",
      "metadata": {
        "id": "dYful-7_vIfn"
      },
      "source": [
        "## **0) Loading the Data**"
      ]
    },
    {
      "cell_type": "markdown",
      "metadata": {
        "id": "MVTeKLQ8uXIs"
      },
      "source": [
        "Downloading Data from Kaggle into Colab"
      ]
    },
    {
      "cell_type": "code",
      "metadata": {
        "colab": {
          "base_uri": "https://localhost:8080/"
        },
        "id": "tvD9W7HaMeXI",
        "outputId": "2b243f06-ee8a-49bd-9b59-68abbd3ca5fc"
      },
      "source": [
        "from google.colab import drive\r\n",
        "drive.mount('/content/drive')"
      ],
      "execution_count": 429,
      "outputs": [
        {
          "output_type": "stream",
          "text": [
            "Drive already mounted at /content/drive; to attempt to forcibly remount, call drive.mount(\"/content/drive\", force_remount=True).\n"
          ],
          "name": "stdout"
        }
      ]
    },
    {
      "cell_type": "code",
      "metadata": {
        "id": "yCaPmNR1NVD_"
      },
      "source": [
        "#! pip install -q kaggle"
      ],
      "execution_count": 430,
      "outputs": []
    },
    {
      "cell_type": "code",
      "metadata": {
        "id": "CbppZyOFOH21"
      },
      "source": [
        "#import os\r\n",
        "#os.environ['KAGGLE_CONFIG_DIR'] = '/content/drive/MyDrive/Colab Notebooks/Springboard - Data Science Career Track/7 - Capstone 2 - West Nile Virus Prediction/Data'\r\n",
        "#changing the working directory \r\n",
        "#%cd /content/drive/MyDrive/Colab Notebooks/Springboard - Data Science Career Track/7 - Capstone 2 - West Nile Virus Prediction/Data\r\n",
        "\r\n",
        "# Kaggle API command for the dataset\r\n",
        "#! kaggle competitions download -c 'predict-west-nile-virus'"
      ],
      "execution_count": 431,
      "outputs": []
    },
    {
      "cell_type": "code",
      "metadata": {
        "id": "Nw4ET3evOkMb"
      },
      "source": [
        "#check content in the directory\r\n",
        "#!ls"
      ],
      "execution_count": 432,
      "outputs": []
    },
    {
      "cell_type": "code",
      "metadata": {
        "id": "ecQMzqVEuDkZ"
      },
      "source": [
        "#unzipping the zip files and deleting the zip files\r\n",
        "#!unzip \\*.zip  && rm *.zip"
      ],
      "execution_count": 433,
      "outputs": []
    },
    {
      "cell_type": "markdown",
      "metadata": {
        "id": "k01f_bgDvXzA"
      },
      "source": [
        "Checking the initial content of the data"
      ]
    },
    {
      "cell_type": "code",
      "metadata": {
        "id": "CrMVaPBJuItc"
      },
      "source": [
        "#Establish the data directory\r\n",
        "mapdata_txt = '/content/drive/MyDrive/Colab Notebooks/Springboard - Data Science Career Track/7 - Capstone 2 - West Nile Virus Prediction/Data/mapdata_copyright_openstreetmap_contributors.txt'\r\n",
        "spray_org = '/content/drive/MyDrive/Colab Notebooks/Springboard - Data Science Career Track/7 - Capstone 2 - West Nile Virus Prediction/Data/spray.csv'\r\n",
        "test_org = '/content/drive/MyDrive/Colab Notebooks/Springboard - Data Science Career Track/7 - Capstone 2 - West Nile Virus Prediction/Data/test.csv'\r\n",
        "train_org = '/content/drive/MyDrive/Colab Notebooks/Springboard - Data Science Career Track/7 - Capstone 2 - West Nile Virus Prediction/Data/train.csv'\r\n",
        "weather_org = '/content/drive/MyDrive/Colab Notebooks/Springboard - Data Science Career Track/7 - Capstone 2 - West Nile Virus Prediction/Data/weather.csv'"
      ],
      "execution_count": 434,
      "outputs": []
    },
    {
      "cell_type": "code",
      "metadata": {
        "colab": {
          "base_uri": "https://localhost:8080/",
          "height": 421
        },
        "id": "kC5bcwSO14Xh",
        "outputId": "89e84b44-59d1-4152-e115-688b1c48ba41"
      },
      "source": [
        "#train data\r\n",
        "train_raw = pd.read_csv(train_org, parse_dates=['Date'])\r\n",
        "train_raw.head(2).T"
      ],
      "execution_count": 435,
      "outputs": [
        {
          "output_type": "execute_result",
          "data": {
            "text/html": [
              "<div>\n",
              "<style scoped>\n",
              "    .dataframe tbody tr th:only-of-type {\n",
              "        vertical-align: middle;\n",
              "    }\n",
              "\n",
              "    .dataframe tbody tr th {\n",
              "        vertical-align: top;\n",
              "    }\n",
              "\n",
              "    .dataframe thead th {\n",
              "        text-align: right;\n",
              "    }\n",
              "</style>\n",
              "<table border=\"1\" class=\"dataframe\">\n",
              "  <thead>\n",
              "    <tr style=\"text-align: right;\">\n",
              "      <th></th>\n",
              "      <th>0</th>\n",
              "      <th>1</th>\n",
              "    </tr>\n",
              "  </thead>\n",
              "  <tbody>\n",
              "    <tr>\n",
              "      <th>Date</th>\n",
              "      <td>2007-05-29 00:00:00</td>\n",
              "      <td>2007-05-29 00:00:00</td>\n",
              "    </tr>\n",
              "    <tr>\n",
              "      <th>Address</th>\n",
              "      <td>4100 North Oak Park Avenue, Chicago, IL 60634,...</td>\n",
              "      <td>4100 North Oak Park Avenue, Chicago, IL 60634,...</td>\n",
              "    </tr>\n",
              "    <tr>\n",
              "      <th>Species</th>\n",
              "      <td>CULEX PIPIENS/RESTUANS</td>\n",
              "      <td>CULEX RESTUANS</td>\n",
              "    </tr>\n",
              "    <tr>\n",
              "      <th>Block</th>\n",
              "      <td>41</td>\n",
              "      <td>41</td>\n",
              "    </tr>\n",
              "    <tr>\n",
              "      <th>Street</th>\n",
              "      <td>N OAK PARK AVE</td>\n",
              "      <td>N OAK PARK AVE</td>\n",
              "    </tr>\n",
              "    <tr>\n",
              "      <th>Trap</th>\n",
              "      <td>T002</td>\n",
              "      <td>T002</td>\n",
              "    </tr>\n",
              "    <tr>\n",
              "      <th>AddressNumberAndStreet</th>\n",
              "      <td>4100  N OAK PARK AVE, Chicago, IL</td>\n",
              "      <td>4100  N OAK PARK AVE, Chicago, IL</td>\n",
              "    </tr>\n",
              "    <tr>\n",
              "      <th>Latitude</th>\n",
              "      <td>41.9547</td>\n",
              "      <td>41.9547</td>\n",
              "    </tr>\n",
              "    <tr>\n",
              "      <th>Longitude</th>\n",
              "      <td>-87.801</td>\n",
              "      <td>-87.801</td>\n",
              "    </tr>\n",
              "    <tr>\n",
              "      <th>AddressAccuracy</th>\n",
              "      <td>9</td>\n",
              "      <td>9</td>\n",
              "    </tr>\n",
              "    <tr>\n",
              "      <th>NumMosquitos</th>\n",
              "      <td>1</td>\n",
              "      <td>1</td>\n",
              "    </tr>\n",
              "    <tr>\n",
              "      <th>WnvPresent</th>\n",
              "      <td>0</td>\n",
              "      <td>0</td>\n",
              "    </tr>\n",
              "  </tbody>\n",
              "</table>\n",
              "</div>"
            ],
            "text/plain": [
              "                                                                        0                                                  1\n",
              "Date                                                  2007-05-29 00:00:00                                2007-05-29 00:00:00\n",
              "Address                 4100 North Oak Park Avenue, Chicago, IL 60634,...  4100 North Oak Park Avenue, Chicago, IL 60634,...\n",
              "Species                                            CULEX PIPIENS/RESTUANS                                     CULEX RESTUANS\n",
              "Block                                                                  41                                                 41\n",
              "Street                                                     N OAK PARK AVE                                     N OAK PARK AVE\n",
              "Trap                                                                 T002                                               T002\n",
              "AddressNumberAndStreet                  4100  N OAK PARK AVE, Chicago, IL                  4100  N OAK PARK AVE, Chicago, IL\n",
              "Latitude                                                          41.9547                                            41.9547\n",
              "Longitude                                                         -87.801                                            -87.801\n",
              "AddressAccuracy                                                         9                                                  9\n",
              "NumMosquitos                                                            1                                                  1\n",
              "WnvPresent                                                              0                                                  0"
            ]
          },
          "metadata": {
            "tags": []
          },
          "execution_count": 435
        }
      ]
    },
    {
      "cell_type": "code",
      "metadata": {
        "colab": {
          "base_uri": "https://localhost:8080/"
        },
        "id": "3d62MCBTmpNQ",
        "outputId": "14abbaf3-da41-4d28-9a34-d4ba15644bd7"
      },
      "source": [
        "train_raw.info()"
      ],
      "execution_count": 436,
      "outputs": [
        {
          "output_type": "stream",
          "text": [
            "<class 'pandas.core.frame.DataFrame'>\n",
            "RangeIndex: 10506 entries, 0 to 10505\n",
            "Data columns (total 12 columns):\n",
            " #   Column                  Non-Null Count  Dtype         \n",
            "---  ------                  --------------  -----         \n",
            " 0   Date                    10506 non-null  datetime64[ns]\n",
            " 1   Address                 10506 non-null  object        \n",
            " 2   Species                 10506 non-null  object        \n",
            " 3   Block                   10506 non-null  int64         \n",
            " 4   Street                  10506 non-null  object        \n",
            " 5   Trap                    10506 non-null  object        \n",
            " 6   AddressNumberAndStreet  10506 non-null  object        \n",
            " 7   Latitude                10506 non-null  float64       \n",
            " 8   Longitude               10506 non-null  float64       \n",
            " 9   AddressAccuracy         10506 non-null  int64         \n",
            " 10  NumMosquitos            10506 non-null  int64         \n",
            " 11  WnvPresent              10506 non-null  int64         \n",
            "dtypes: datetime64[ns](1), float64(2), int64(4), object(5)\n",
            "memory usage: 985.1+ KB\n"
          ],
          "name": "stdout"
        }
      ]
    },
    {
      "cell_type": "code",
      "metadata": {
        "colab": {
          "base_uri": "https://localhost:8080/",
          "height": 731
        },
        "id": "ZkDTrYM22Asq",
        "outputId": "c5a3be8d-e5c4-4ef9-c1b0-e868c95614ea"
      },
      "source": [
        "#weather data\r\n",
        "weather_raw = pd.read_csv(weather_org, parse_dates=['Date'])\r\n",
        "weather_raw.head(2).T"
      ],
      "execution_count": 437,
      "outputs": [
        {
          "output_type": "execute_result",
          "data": {
            "text/html": [
              "<div>\n",
              "<style scoped>\n",
              "    .dataframe tbody tr th:only-of-type {\n",
              "        vertical-align: middle;\n",
              "    }\n",
              "\n",
              "    .dataframe tbody tr th {\n",
              "        vertical-align: top;\n",
              "    }\n",
              "\n",
              "    .dataframe thead th {\n",
              "        text-align: right;\n",
              "    }\n",
              "</style>\n",
              "<table border=\"1\" class=\"dataframe\">\n",
              "  <thead>\n",
              "    <tr style=\"text-align: right;\">\n",
              "      <th></th>\n",
              "      <th>0</th>\n",
              "      <th>1</th>\n",
              "    </tr>\n",
              "  </thead>\n",
              "  <tbody>\n",
              "    <tr>\n",
              "      <th>Station</th>\n",
              "      <td>1</td>\n",
              "      <td>2</td>\n",
              "    </tr>\n",
              "    <tr>\n",
              "      <th>Date</th>\n",
              "      <td>2007-05-01 00:00:00</td>\n",
              "      <td>2007-05-01 00:00:00</td>\n",
              "    </tr>\n",
              "    <tr>\n",
              "      <th>Tmax</th>\n",
              "      <td>83</td>\n",
              "      <td>84</td>\n",
              "    </tr>\n",
              "    <tr>\n",
              "      <th>Tmin</th>\n",
              "      <td>50</td>\n",
              "      <td>52</td>\n",
              "    </tr>\n",
              "    <tr>\n",
              "      <th>Tavg</th>\n",
              "      <td>67</td>\n",
              "      <td>68</td>\n",
              "    </tr>\n",
              "    <tr>\n",
              "      <th>Depart</th>\n",
              "      <td>14</td>\n",
              "      <td>M</td>\n",
              "    </tr>\n",
              "    <tr>\n",
              "      <th>DewPoint</th>\n",
              "      <td>51</td>\n",
              "      <td>51</td>\n",
              "    </tr>\n",
              "    <tr>\n",
              "      <th>WetBulb</th>\n",
              "      <td>56</td>\n",
              "      <td>57</td>\n",
              "    </tr>\n",
              "    <tr>\n",
              "      <th>Heat</th>\n",
              "      <td>0</td>\n",
              "      <td>0</td>\n",
              "    </tr>\n",
              "    <tr>\n",
              "      <th>Cool</th>\n",
              "      <td>2</td>\n",
              "      <td>3</td>\n",
              "    </tr>\n",
              "    <tr>\n",
              "      <th>Sunrise</th>\n",
              "      <td>0448</td>\n",
              "      <td>-</td>\n",
              "    </tr>\n",
              "    <tr>\n",
              "      <th>Sunset</th>\n",
              "      <td>1849</td>\n",
              "      <td>-</td>\n",
              "    </tr>\n",
              "    <tr>\n",
              "      <th>CodeSum</th>\n",
              "      <td></td>\n",
              "      <td></td>\n",
              "    </tr>\n",
              "    <tr>\n",
              "      <th>Depth</th>\n",
              "      <td>0</td>\n",
              "      <td>M</td>\n",
              "    </tr>\n",
              "    <tr>\n",
              "      <th>Water1</th>\n",
              "      <td>M</td>\n",
              "      <td>M</td>\n",
              "    </tr>\n",
              "    <tr>\n",
              "      <th>SnowFall</th>\n",
              "      <td>0.0</td>\n",
              "      <td>M</td>\n",
              "    </tr>\n",
              "    <tr>\n",
              "      <th>PrecipTotal</th>\n",
              "      <td>0.00</td>\n",
              "      <td>0.00</td>\n",
              "    </tr>\n",
              "    <tr>\n",
              "      <th>StnPressure</th>\n",
              "      <td>29.10</td>\n",
              "      <td>29.18</td>\n",
              "    </tr>\n",
              "    <tr>\n",
              "      <th>SeaLevel</th>\n",
              "      <td>29.82</td>\n",
              "      <td>29.82</td>\n",
              "    </tr>\n",
              "    <tr>\n",
              "      <th>ResultSpeed</th>\n",
              "      <td>1.7</td>\n",
              "      <td>2.7</td>\n",
              "    </tr>\n",
              "    <tr>\n",
              "      <th>ResultDir</th>\n",
              "      <td>27</td>\n",
              "      <td>25</td>\n",
              "    </tr>\n",
              "    <tr>\n",
              "      <th>AvgSpeed</th>\n",
              "      <td>9.2</td>\n",
              "      <td>9.6</td>\n",
              "    </tr>\n",
              "  </tbody>\n",
              "</table>\n",
              "</div>"
            ],
            "text/plain": [
              "                               0                    1\n",
              "Station                        1                    2\n",
              "Date         2007-05-01 00:00:00  2007-05-01 00:00:00\n",
              "Tmax                          83                   84\n",
              "Tmin                          50                   52\n",
              "Tavg                          67                   68\n",
              "Depart                        14                    M\n",
              "DewPoint                      51                   51\n",
              "WetBulb                       56                   57\n",
              "Heat                           0                    0\n",
              "Cool                           2                    3\n",
              "Sunrise                     0448                    -\n",
              "Sunset                      1849                    -\n",
              "CodeSum                                              \n",
              "Depth                          0                    M\n",
              "Water1                         M                    M\n",
              "SnowFall                     0.0                    M\n",
              "PrecipTotal                 0.00                 0.00\n",
              "StnPressure                29.10                29.18\n",
              "SeaLevel                   29.82                29.82\n",
              "ResultSpeed                  1.7                  2.7\n",
              "ResultDir                     27                   25\n",
              "AvgSpeed                     9.2                  9.6"
            ]
          },
          "metadata": {
            "tags": []
          },
          "execution_count": 437
        }
      ]
    },
    {
      "cell_type": "code",
      "metadata": {
        "colab": {
          "base_uri": "https://localhost:8080/"
        },
        "id": "U1Z0LOkgnlBJ",
        "outputId": "00b87ab4-2e42-4036-9c5b-ecb8204f0bee"
      },
      "source": [
        "weather_raw.info()"
      ],
      "execution_count": 438,
      "outputs": [
        {
          "output_type": "stream",
          "text": [
            "<class 'pandas.core.frame.DataFrame'>\n",
            "RangeIndex: 2944 entries, 0 to 2943\n",
            "Data columns (total 22 columns):\n",
            " #   Column       Non-Null Count  Dtype         \n",
            "---  ------       --------------  -----         \n",
            " 0   Station      2944 non-null   int64         \n",
            " 1   Date         2944 non-null   datetime64[ns]\n",
            " 2   Tmax         2944 non-null   int64         \n",
            " 3   Tmin         2944 non-null   int64         \n",
            " 4   Tavg         2944 non-null   object        \n",
            " 5   Depart       2944 non-null   object        \n",
            " 6   DewPoint     2944 non-null   int64         \n",
            " 7   WetBulb      2944 non-null   object        \n",
            " 8   Heat         2944 non-null   object        \n",
            " 9   Cool         2944 non-null   object        \n",
            " 10  Sunrise      2944 non-null   object        \n",
            " 11  Sunset       2944 non-null   object        \n",
            " 12  CodeSum      2944 non-null   object        \n",
            " 13  Depth        2944 non-null   object        \n",
            " 14  Water1       2944 non-null   object        \n",
            " 15  SnowFall     2944 non-null   object        \n",
            " 16  PrecipTotal  2944 non-null   object        \n",
            " 17  StnPressure  2944 non-null   object        \n",
            " 18  SeaLevel     2944 non-null   object        \n",
            " 19  ResultSpeed  2944 non-null   float64       \n",
            " 20  ResultDir    2944 non-null   int64         \n",
            " 21  AvgSpeed     2944 non-null   object        \n",
            "dtypes: datetime64[ns](1), float64(1), int64(5), object(15)\n",
            "memory usage: 506.1+ KB\n"
          ],
          "name": "stdout"
        }
      ]
    },
    {
      "cell_type": "code",
      "metadata": {
        "colab": {
          "base_uri": "https://localhost:8080/"
        },
        "id": "9hYdB8w7pPdB",
        "outputId": "d4f47065-8e1f-4a32-a69d-524b8c42f0b3"
      },
      "source": [
        "train_raw.shape, weather_raw.shape"
      ],
      "execution_count": 439,
      "outputs": [
        {
          "output_type": "execute_result",
          "data": {
            "text/plain": [
              "((10506, 12), (2944, 22))"
            ]
          },
          "metadata": {
            "tags": []
          },
          "execution_count": 439
        }
      ]
    },
    {
      "cell_type": "markdown",
      "metadata": {
        "id": "El2Fp4_aFVhi"
      },
      "source": [
        "## **1) Understanding the Data & Data Cleaning**\r\n",
        "\r\n",
        "\r\n"
      ]
    },
    {
      "cell_type": "markdown",
      "metadata": {
        "id": "UQYbtHr8Frgy"
      },
      "source": [
        "According to National Center for Biotechnology Information, [Culex mosquitoes](https://www.ncbi.nlm.nih.gov/pmc/articles/PMC3485754/) are accepted as the primary global transmission vector. <br>\r\n",
        "\r\n",
        "Comprhensively, these are the mosquito breeds identified by CDC which could cause WNV - \r\n",
        "https://www.cdc.gov/westnile/resources/pdfs/MosquitoSpecies1999-2016.pdf"
      ]
    },
    {
      "cell_type": "markdown",
      "metadata": {
        "id": "8uD-xH9ZHw9O"
      },
      "source": [
        "A few other facts in relation to Culex mosquitoes according to [CDC](https://www.cdc.gov/mosquitoes/about/life-cycles/culex.html):\r\n",
        "\r\n",
        "\r\n",
        "*   It takes 7-10 days for a Culex mosquito egg to develop into an adult Culex mosquito\r\n",
        "*   Adult female mosquitos usually lay eggs in fresh or stagnant water, including barrels, unmaintained swimming pools, puddles, creaks, marsh areas\r\n",
        "*   Once an adult turned from pupa, it flies away. Their flying distance is up to 2 miles (or 3.2 km)\r\n",
        "*   According to [Pestworld](https://www.pestworld.org/pest-guide/mosquitoes/culex-mosquitoes/#:~:text=Culex%20mosquitoes%20are%20usually%20about,active%20at%20dawn%20and%20dusk.), they are most active at dawn or dusk\r\n",
        "\r\n",
        "\r\n",
        "\r\n",
        "\r\n",
        "\r\n"
      ]
    },
    {
      "cell_type": "markdown",
      "metadata": {
        "id": "wkWRvexwDHxh"
      },
      "source": [
        "From the types of mosquitos identified in the dataset, basically all could contributed to WNV. Culex Pipens or Restuans were the most prevailing types of moquitos trapped.\r\n",
        "\r\n"
      ]
    },
    {
      "cell_type": "markdown",
      "metadata": {
        "id": "TniO7MlmNZkw"
      },
      "source": [
        "## **1.1) The Training Data**\r\n",
        "\r\n",
        "\r\n"
      ]
    },
    {
      "cell_type": "code",
      "metadata": {
        "colab": {
          "base_uri": "https://localhost:8080/"
        },
        "id": "kY17BCynsLo8",
        "outputId": "5b3deaae-1eb6-4941-e38b-77a027eb144d"
      },
      "source": [
        "#understanding the date range of the training data\r\n",
        "train_raw['Date'].min(), train_raw['Date'].max()"
      ],
      "execution_count": 440,
      "outputs": [
        {
          "output_type": "execute_result",
          "data": {
            "text/plain": [
              "(Timestamp('2007-05-29 00:00:00'), Timestamp('2013-09-26 00:00:00'))"
            ]
          },
          "metadata": {
            "tags": []
          },
          "execution_count": 440
        }
      ]
    },
    {
      "cell_type": "code",
      "metadata": {
        "colab": {
          "base_uri": "https://localhost:8080/"
        },
        "id": "_CBFOWFnvwWE",
        "outputId": "b1d0c190-ec98-4f4b-8aed-c3b70760befc"
      },
      "source": [
        "#if there are null values in the training data\r\n",
        "train_raw.isnull().sum()"
      ],
      "execution_count": 441,
      "outputs": [
        {
          "output_type": "execute_result",
          "data": {
            "text/plain": [
              "Date                      0\n",
              "Address                   0\n",
              "Species                   0\n",
              "Block                     0\n",
              "Street                    0\n",
              "Trap                      0\n",
              "AddressNumberAndStreet    0\n",
              "Latitude                  0\n",
              "Longitude                 0\n",
              "AddressAccuracy           0\n",
              "NumMosquitos              0\n",
              "WnvPresent                0\n",
              "dtype: int64"
            ]
          },
          "metadata": {
            "tags": []
          },
          "execution_count": 441
        }
      ]
    },
    {
      "cell_type": "code",
      "metadata": {
        "colab": {
          "base_uri": "https://localhost:8080/"
        },
        "id": "UwBrKJIpuQ3f",
        "outputId": "7e77a703-d172-4307-be8f-d38d92aae1ee"
      },
      "source": [
        "#check for duplicated columns - defined as all records in the row is identical\r\n",
        "train_raw_duplicated = train_raw[train_raw.duplicated()].value_counts().sum()\r\n",
        "total_records = train_raw.index.value_counts().sum()\r\n",
        "print(f'Total number of records: {total_records}')\r\n",
        "print(f'Number of duplicated rows: {train_raw_duplicated}')\r\n",
        "print(f'Percentage of duplicated records: {train_raw_duplicated/ total_records*100:.2f}%')"
      ],
      "execution_count": 442,
      "outputs": [
        {
          "output_type": "stream",
          "text": [
            "Total number of records: 10506\n",
            "Number of duplicated rows: 813\n",
            "Percentage of duplicated records: 7.74%\n"
          ],
          "name": "stdout"
        }
      ]
    },
    {
      "cell_type": "code",
      "metadata": {
        "id": "Gr6L8IYPxMOV"
      },
      "source": [
        "#dropping duplicated columns - keeping last records\r\n",
        "train_raw = train_raw.drop_duplicates(subset=None, keep='first', inplace=False)"
      ],
      "execution_count": 443,
      "outputs": []
    },
    {
      "cell_type": "code",
      "metadata": {
        "colab": {
          "base_uri": "https://localhost:8080/"
        },
        "id": "yaGv9uFY0GNz",
        "outputId": "dc7f0cc7-851f-4e39-ed08-b2a7e0ec5877"
      },
      "source": [
        "print(f'Total number of records after dropping duplicates: {train_raw.shape[0]}')"
      ],
      "execution_count": 444,
      "outputs": [
        {
          "output_type": "stream",
          "text": [
            "Total number of records after dropping duplicates: 9693\n"
          ],
          "name": "stdout"
        }
      ]
    },
    {
      "cell_type": "code",
      "metadata": {
        "colab": {
          "base_uri": "https://localhost:8080/",
          "height": 514
        },
        "id": "Atv-6p5_zipQ",
        "outputId": "33d74501-3e3b-4d96-8ae4-322982878e77"
      },
      "source": [
        "# adding year and month column for future EDA\r\n",
        "train_raw['Year'] = train_raw['Date'].dt.year\r\n",
        "train_raw['Year-Month'] = train_raw['Date'].dt.to_period('M')\r\n",
        "train_raw['Year-Week'] = train_raw['Date'].dt.strftime('%Y-%W')\r\n",
        "train_raw.head(2).T"
      ],
      "execution_count": 445,
      "outputs": [
        {
          "output_type": "execute_result",
          "data": {
            "text/html": [
              "<div>\n",
              "<style scoped>\n",
              "    .dataframe tbody tr th:only-of-type {\n",
              "        vertical-align: middle;\n",
              "    }\n",
              "\n",
              "    .dataframe tbody tr th {\n",
              "        vertical-align: top;\n",
              "    }\n",
              "\n",
              "    .dataframe thead th {\n",
              "        text-align: right;\n",
              "    }\n",
              "</style>\n",
              "<table border=\"1\" class=\"dataframe\">\n",
              "  <thead>\n",
              "    <tr style=\"text-align: right;\">\n",
              "      <th></th>\n",
              "      <th>0</th>\n",
              "      <th>1</th>\n",
              "    </tr>\n",
              "  </thead>\n",
              "  <tbody>\n",
              "    <tr>\n",
              "      <th>Date</th>\n",
              "      <td>2007-05-29 00:00:00</td>\n",
              "      <td>2007-05-29 00:00:00</td>\n",
              "    </tr>\n",
              "    <tr>\n",
              "      <th>Address</th>\n",
              "      <td>4100 North Oak Park Avenue, Chicago, IL 60634,...</td>\n",
              "      <td>4100 North Oak Park Avenue, Chicago, IL 60634,...</td>\n",
              "    </tr>\n",
              "    <tr>\n",
              "      <th>Species</th>\n",
              "      <td>CULEX PIPIENS/RESTUANS</td>\n",
              "      <td>CULEX RESTUANS</td>\n",
              "    </tr>\n",
              "    <tr>\n",
              "      <th>Block</th>\n",
              "      <td>41</td>\n",
              "      <td>41</td>\n",
              "    </tr>\n",
              "    <tr>\n",
              "      <th>Street</th>\n",
              "      <td>N OAK PARK AVE</td>\n",
              "      <td>N OAK PARK AVE</td>\n",
              "    </tr>\n",
              "    <tr>\n",
              "      <th>Trap</th>\n",
              "      <td>T002</td>\n",
              "      <td>T002</td>\n",
              "    </tr>\n",
              "    <tr>\n",
              "      <th>AddressNumberAndStreet</th>\n",
              "      <td>4100  N OAK PARK AVE, Chicago, IL</td>\n",
              "      <td>4100  N OAK PARK AVE, Chicago, IL</td>\n",
              "    </tr>\n",
              "    <tr>\n",
              "      <th>Latitude</th>\n",
              "      <td>41.9547</td>\n",
              "      <td>41.9547</td>\n",
              "    </tr>\n",
              "    <tr>\n",
              "      <th>Longitude</th>\n",
              "      <td>-87.801</td>\n",
              "      <td>-87.801</td>\n",
              "    </tr>\n",
              "    <tr>\n",
              "      <th>AddressAccuracy</th>\n",
              "      <td>9</td>\n",
              "      <td>9</td>\n",
              "    </tr>\n",
              "    <tr>\n",
              "      <th>NumMosquitos</th>\n",
              "      <td>1</td>\n",
              "      <td>1</td>\n",
              "    </tr>\n",
              "    <tr>\n",
              "      <th>WnvPresent</th>\n",
              "      <td>0</td>\n",
              "      <td>0</td>\n",
              "    </tr>\n",
              "    <tr>\n",
              "      <th>Year</th>\n",
              "      <td>2007</td>\n",
              "      <td>2007</td>\n",
              "    </tr>\n",
              "    <tr>\n",
              "      <th>Year-Month</th>\n",
              "      <td>2007-05</td>\n",
              "      <td>2007-05</td>\n",
              "    </tr>\n",
              "    <tr>\n",
              "      <th>Year-Week</th>\n",
              "      <td>2007-22</td>\n",
              "      <td>2007-22</td>\n",
              "    </tr>\n",
              "  </tbody>\n",
              "</table>\n",
              "</div>"
            ],
            "text/plain": [
              "                                                                        0                                                  1\n",
              "Date                                                  2007-05-29 00:00:00                                2007-05-29 00:00:00\n",
              "Address                 4100 North Oak Park Avenue, Chicago, IL 60634,...  4100 North Oak Park Avenue, Chicago, IL 60634,...\n",
              "Species                                            CULEX PIPIENS/RESTUANS                                     CULEX RESTUANS\n",
              "Block                                                                  41                                                 41\n",
              "Street                                                     N OAK PARK AVE                                     N OAK PARK AVE\n",
              "Trap                                                                 T002                                               T002\n",
              "AddressNumberAndStreet                  4100  N OAK PARK AVE, Chicago, IL                  4100  N OAK PARK AVE, Chicago, IL\n",
              "Latitude                                                          41.9547                                            41.9547\n",
              "Longitude                                                         -87.801                                            -87.801\n",
              "AddressAccuracy                                                         9                                                  9\n",
              "NumMosquitos                                                            1                                                  1\n",
              "WnvPresent                                                              0                                                  0\n",
              "Year                                                                 2007                                               2007\n",
              "Year-Month                                                        2007-05                                            2007-05\n",
              "Year-Week                                                         2007-22                                            2007-22"
            ]
          },
          "metadata": {
            "tags": []
          },
          "execution_count": 445
        }
      ]
    },
    {
      "cell_type": "code",
      "metadata": {
        "colab": {
          "base_uri": "https://localhost:8080/",
          "height": 111
        },
        "id": "InW-uqGyEnCU",
        "outputId": "a5b63054-2363-4517-8d38-7d5c97780e6b"
      },
      "source": [
        "#merging rows with mosquitos in the trap > 50\r\n",
        "train_grouped = train_raw.groupby(['Date', 'Address', 'Species', 'Block', 'Street', 'Trap',\r\n",
        "       'AddressNumberAndStreet', 'Latitude', 'Longitude', 'AddressAccuracy', 'WnvPresent',\r\n",
        "       'Year', 'Year-Month', 'Year-Week'])['NumMosquitos'].sum().reset_index()\r\n",
        "train_grouped.head(2)"
      ],
      "execution_count": 446,
      "outputs": [
        {
          "output_type": "execute_result",
          "data": {
            "text/html": [
              "<div>\n",
              "<style scoped>\n",
              "    .dataframe tbody tr th:only-of-type {\n",
              "        vertical-align: middle;\n",
              "    }\n",
              "\n",
              "    .dataframe tbody tr th {\n",
              "        vertical-align: top;\n",
              "    }\n",
              "\n",
              "    .dataframe thead th {\n",
              "        text-align: right;\n",
              "    }\n",
              "</style>\n",
              "<table border=\"1\" class=\"dataframe\">\n",
              "  <thead>\n",
              "    <tr style=\"text-align: right;\">\n",
              "      <th></th>\n",
              "      <th>Date</th>\n",
              "      <th>Address</th>\n",
              "      <th>Species</th>\n",
              "      <th>Block</th>\n",
              "      <th>Street</th>\n",
              "      <th>Trap</th>\n",
              "      <th>AddressNumberAndStreet</th>\n",
              "      <th>Latitude</th>\n",
              "      <th>Longitude</th>\n",
              "      <th>AddressAccuracy</th>\n",
              "      <th>WnvPresent</th>\n",
              "      <th>Year</th>\n",
              "      <th>Year-Month</th>\n",
              "      <th>Year-Week</th>\n",
              "      <th>NumMosquitos</th>\n",
              "    </tr>\n",
              "  </thead>\n",
              "  <tbody>\n",
              "    <tr>\n",
              "      <th>0</th>\n",
              "      <td>2007-05-29</td>\n",
              "      <td>1100 Roosevelt Road, Chicago, IL 60608, USA</td>\n",
              "      <td>CULEX PIPIENS/RESTUANS</td>\n",
              "      <td>11</td>\n",
              "      <td>W ROOSEVELT</td>\n",
              "      <td>T048</td>\n",
              "      <td>1100  W ROOSEVELT, Chicago, IL</td>\n",
              "      <td>41.867108</td>\n",
              "      <td>-87.654224</td>\n",
              "      <td>8</td>\n",
              "      <td>0</td>\n",
              "      <td>2007</td>\n",
              "      <td>2007-05</td>\n",
              "      <td>2007-22</td>\n",
              "      <td>1</td>\n",
              "    </tr>\n",
              "    <tr>\n",
              "      <th>1</th>\n",
              "      <td>2007-05-29</td>\n",
              "      <td>1100 Roosevelt Road, Chicago, IL 60608, USA</td>\n",
              "      <td>CULEX RESTUANS</td>\n",
              "      <td>11</td>\n",
              "      <td>W ROOSEVELT</td>\n",
              "      <td>T048</td>\n",
              "      <td>1100  W ROOSEVELT, Chicago, IL</td>\n",
              "      <td>41.867108</td>\n",
              "      <td>-87.654224</td>\n",
              "      <td>8</td>\n",
              "      <td>0</td>\n",
              "      <td>2007</td>\n",
              "      <td>2007-05</td>\n",
              "      <td>2007-22</td>\n",
              "      <td>2</td>\n",
              "    </tr>\n",
              "  </tbody>\n",
              "</table>\n",
              "</div>"
            ],
            "text/plain": [
              "        Date  ... NumMosquitos\n",
              "0 2007-05-29  ...            1\n",
              "1 2007-05-29  ...            2\n",
              "\n",
              "[2 rows x 15 columns]"
            ]
          },
          "metadata": {
            "tags": []
          },
          "execution_count": 446
        }
      ]
    },
    {
      "cell_type": "code",
      "metadata": {
        "colab": {
          "base_uri": "https://localhost:8080/"
        },
        "id": "LPXKUE_-M9OM",
        "outputId": "0cad4ecb-ddb4-4e16-ef41-77b861503603"
      },
      "source": [
        "train_grouped.shape"
      ],
      "execution_count": 447,
      "outputs": [
        {
          "output_type": "execute_result",
          "data": {
            "text/plain": [
              "(8610, 15)"
            ]
          },
          "metadata": {
            "tags": []
          },
          "execution_count": 447
        }
      ]
    },
    {
      "cell_type": "markdown",
      "metadata": {
        "id": "d81yWKcCN9wP"
      },
      "source": [
        "## **1.2) The Weather Data**\r\n",
        "\r\n",
        "\r\n"
      ]
    },
    {
      "cell_type": "code",
      "metadata": {
        "colab": {
          "base_uri": "https://localhost:8080/"
        },
        "id": "TP-ATqrwN9Yo",
        "outputId": "da9d5964-e28f-4432-c525-adcaae0a9353"
      },
      "source": [
        "#understanding the date range of the weather data\r\n",
        "weather_raw['Date'].min(), weather_raw['Date'].max()"
      ],
      "execution_count": 448,
      "outputs": [
        {
          "output_type": "execute_result",
          "data": {
            "text/plain": [
              "(Timestamp('2007-05-01 00:00:00'), Timestamp('2014-10-31 00:00:00'))"
            ]
          },
          "metadata": {
            "tags": []
          },
          "execution_count": 448
        }
      ]
    },
    {
      "cell_type": "code",
      "metadata": {
        "colab": {
          "base_uri": "https://localhost:8080/"
        },
        "id": "NELFm2WkOh0i",
        "outputId": "684d3684-a18d-4e31-c9b3-19ee78306db9"
      },
      "source": [
        "#if there are null values in the weather data\r\n",
        "weather_raw.isnull().sum()"
      ],
      "execution_count": 449,
      "outputs": [
        {
          "output_type": "execute_result",
          "data": {
            "text/plain": [
              "Station        0\n",
              "Date           0\n",
              "Tmax           0\n",
              "Tmin           0\n",
              "Tavg           0\n",
              "Depart         0\n",
              "DewPoint       0\n",
              "WetBulb        0\n",
              "Heat           0\n",
              "Cool           0\n",
              "Sunrise        0\n",
              "Sunset         0\n",
              "CodeSum        0\n",
              "Depth          0\n",
              "Water1         0\n",
              "SnowFall       0\n",
              "PrecipTotal    0\n",
              "StnPressure    0\n",
              "SeaLevel       0\n",
              "ResultSpeed    0\n",
              "ResultDir      0\n",
              "AvgSpeed       0\n",
              "dtype: int64"
            ]
          },
          "metadata": {
            "tags": []
          },
          "execution_count": 449
        }
      ]
    },
    {
      "cell_type": "code",
      "metadata": {
        "colab": {
          "base_uri": "https://localhost:8080/"
        },
        "id": "GfuXfS8xOhlY",
        "outputId": "c5722e4b-5dcb-487d-8827-6a347ed0dd21"
      },
      "source": [
        "#check for duplicated columns - defined as all records in the row is identical\r\n",
        "weather_raw_duplicated = weather_raw[weather_raw.duplicated()].value_counts().sum()\r\n",
        "print(f'Number of duplicated rows: {weather_raw_duplicated}')"
      ],
      "execution_count": 450,
      "outputs": [
        {
          "output_type": "stream",
          "text": [
            "Number of duplicated rows: 0\n"
          ],
          "name": "stdout"
        }
      ]
    },
    {
      "cell_type": "code",
      "metadata": {
        "colab": {
          "base_uri": "https://localhost:8080/"
        },
        "id": "4N7OIB4ifYBG",
        "outputId": "2474b87e-c38f-428a-da58-8c3a8e999b8d"
      },
      "source": [
        "weather_raw.shape"
      ],
      "execution_count": 451,
      "outputs": [
        {
          "output_type": "execute_result",
          "data": {
            "text/plain": [
              "(2944, 22)"
            ]
          },
          "metadata": {
            "tags": []
          },
          "execution_count": 451
        }
      ]
    },
    {
      "cell_type": "code",
      "metadata": {
        "colab": {
          "base_uri": "https://localhost:8080/"
        },
        "id": "MV5I_N_-evBA",
        "outputId": "1330563e-4a73-4ba1-bc82-5d707e42d0af"
      },
      "source": [
        "#check for missing data where value 'M' identified in a column\r\n",
        "weather_raw.isin(['M']).sum()"
      ],
      "execution_count": 452,
      "outputs": [
        {
          "output_type": "execute_result",
          "data": {
            "text/plain": [
              "Station           0\n",
              "Date              0\n",
              "Tmax              0\n",
              "Tmin              0\n",
              "Tavg             11\n",
              "Depart         1472\n",
              "DewPoint          0\n",
              "WetBulb           4\n",
              "Heat             11\n",
              "Cool             11\n",
              "Sunrise           0\n",
              "Sunset            0\n",
              "CodeSum           0\n",
              "Depth          1472\n",
              "Water1         2944\n",
              "SnowFall       1472\n",
              "PrecipTotal       2\n",
              "StnPressure       4\n",
              "SeaLevel          9\n",
              "ResultSpeed       0\n",
              "ResultDir         0\n",
              "AvgSpeed          3\n",
              "dtype: int64"
            ]
          },
          "metadata": {
            "tags": []
          },
          "execution_count": 452
        }
      ]
    },
    {
      "cell_type": "markdown",
      "metadata": {
        "id": "XprWOnvElKRi"
      },
      "source": [
        "As there are two different weather stations, checking to see if the dataset differs if being split by stations."
      ]
    },
    {
      "cell_type": "code",
      "metadata": {
        "id": "a59N3ZTjlSGR"
      },
      "source": [
        "station_1 = weather_raw[weather_raw['Station']==1]\r\n",
        "station_2 = weather_raw[weather_raw['Station']==2]"
      ],
      "execution_count": 453,
      "outputs": []
    },
    {
      "cell_type": "code",
      "metadata": {
        "colab": {
          "base_uri": "https://localhost:8080/"
        },
        "id": "67MX4KpIlrpw",
        "outputId": "8091e5b3-a0d7-4e28-cd67-f339f521a229"
      },
      "source": [
        "station_1.isin(['M']).sum()"
      ],
      "execution_count": 454,
      "outputs": [
        {
          "output_type": "execute_result",
          "data": {
            "text/plain": [
              "Station           0\n",
              "Date              0\n",
              "Tmax              0\n",
              "Tmin              0\n",
              "Tavg              0\n",
              "Depart            0\n",
              "DewPoint          0\n",
              "WetBulb           3\n",
              "Heat              0\n",
              "Cool              0\n",
              "Sunrise           0\n",
              "Sunset            0\n",
              "CodeSum           0\n",
              "Depth             0\n",
              "Water1         1472\n",
              "SnowFall          0\n",
              "PrecipTotal       0\n",
              "StnPressure       2\n",
              "SeaLevel          5\n",
              "ResultSpeed       0\n",
              "ResultDir         0\n",
              "AvgSpeed          0\n",
              "dtype: int64"
            ]
          },
          "metadata": {
            "tags": []
          },
          "execution_count": 454
        }
      ]
    },
    {
      "cell_type": "code",
      "metadata": {
        "colab": {
          "base_uri": "https://localhost:8080/"
        },
        "id": "5U1NK9sklwYd",
        "outputId": "b238ccd5-b4d5-4652-afab-8ccca40f0201"
      },
      "source": [
        "station_2.isin(['M']).sum()"
      ],
      "execution_count": 455,
      "outputs": [
        {
          "output_type": "execute_result",
          "data": {
            "text/plain": [
              "Station           0\n",
              "Date              0\n",
              "Tmax              0\n",
              "Tmin              0\n",
              "Tavg             11\n",
              "Depart         1472\n",
              "DewPoint          0\n",
              "WetBulb           1\n",
              "Heat             11\n",
              "Cool             11\n",
              "Sunrise           0\n",
              "Sunset            0\n",
              "CodeSum           0\n",
              "Depth          1472\n",
              "Water1         1472\n",
              "SnowFall       1472\n",
              "PrecipTotal       2\n",
              "StnPressure       2\n",
              "SeaLevel          4\n",
              "ResultSpeed       0\n",
              "ResultDir         0\n",
              "AvgSpeed          3\n",
              "dtype: int64"
            ]
          },
          "metadata": {
            "tags": []
          },
          "execution_count": 455
        }
      ]
    },
    {
      "cell_type": "markdown",
      "metadata": {
        "id": "P-G9-IDNC9AB"
      },
      "source": [
        "Most items missing in station 2 exists in station one, for filling in missing data, suggesting to bring forward info already existed in station 1 by forward fill. First step will require cleaning missing data under station 1."
      ]
    },
    {
      "cell_type": "code",
      "metadata": {
        "colab": {
          "base_uri": "https://localhost:8080/"
        },
        "id": "VBdWUheLEANl",
        "outputId": "347944af-d6b5-4e65-83cd-a1d3b341ac40"
      },
      "source": [
        "station_1.info()"
      ],
      "execution_count": 456,
      "outputs": [
        {
          "output_type": "stream",
          "text": [
            "<class 'pandas.core.frame.DataFrame'>\n",
            "Int64Index: 1472 entries, 0 to 2942\n",
            "Data columns (total 22 columns):\n",
            " #   Column       Non-Null Count  Dtype         \n",
            "---  ------       --------------  -----         \n",
            " 0   Station      1472 non-null   int64         \n",
            " 1   Date         1472 non-null   datetime64[ns]\n",
            " 2   Tmax         1472 non-null   int64         \n",
            " 3   Tmin         1472 non-null   int64         \n",
            " 4   Tavg         1472 non-null   object        \n",
            " 5   Depart       1472 non-null   object        \n",
            " 6   DewPoint     1472 non-null   int64         \n",
            " 7   WetBulb      1472 non-null   object        \n",
            " 8   Heat         1472 non-null   object        \n",
            " 9   Cool         1472 non-null   object        \n",
            " 10  Sunrise      1472 non-null   object        \n",
            " 11  Sunset       1472 non-null   object        \n",
            " 12  CodeSum      1472 non-null   object        \n",
            " 13  Depth        1472 non-null   object        \n",
            " 14  Water1       1472 non-null   object        \n",
            " 15  SnowFall     1472 non-null   object        \n",
            " 16  PrecipTotal  1472 non-null   object        \n",
            " 17  StnPressure  1472 non-null   object        \n",
            " 18  SeaLevel     1472 non-null   object        \n",
            " 19  ResultSpeed  1472 non-null   float64       \n",
            " 20  ResultDir    1472 non-null   int64         \n",
            " 21  AvgSpeed     1472 non-null   object        \n",
            "dtypes: datetime64[ns](1), float64(1), int64(5), object(15)\n",
            "memory usage: 264.5+ KB\n"
          ],
          "name": "stdout"
        }
      ]
    },
    {
      "cell_type": "code",
      "metadata": {
        "colab": {
          "base_uri": "https://localhost:8080/"
        },
        "id": "PEWnHOpmDxpb",
        "outputId": "d2d2f528-5034-4f7f-a181-27f2252f501b"
      },
      "source": [
        "# filling in missing value from station 1\r\n",
        "station_1['WetBulb'] = station_1['WetBulb'].replace('M',0).astype(float)\r\n",
        "station_1['StnPressure'] = station_1['StnPressure'].replace('M',0).astype(float)\r\n",
        "station_1['SeaLevel'] = station_1['SeaLevel'].replace('M',0).astype(float)\r\n",
        "\r\n",
        "#clean up - in sunrise/ sunset column\r\n",
        "weather_raw['Sunrise'] = weather_raw['Sunrise'].replace('-', np.nan)\r\n",
        "weather_raw['Sunset'] = weather_raw['Sunset'].replace('-', np.nan)\r\n",
        "\r\n",
        "#clean up \"Trace\" amount in the data for PrecipTotal\r\n",
        "weather_raw['PrecipTotal'] = weather_raw['PrecipTotal'].replace(['M','  T'], 0)"
      ],
      "execution_count": 457,
      "outputs": [
        {
          "output_type": "stream",
          "text": [
            "/usr/local/lib/python3.7/dist-packages/ipykernel_launcher.py:2: SettingWithCopyWarning: \n",
            "A value is trying to be set on a copy of a slice from a DataFrame.\n",
            "Try using .loc[row_indexer,col_indexer] = value instead\n",
            "\n",
            "See the caveats in the documentation: https://pandas.pydata.org/pandas-docs/stable/user_guide/indexing.html#returning-a-view-versus-a-copy\n",
            "  \n",
            "/usr/local/lib/python3.7/dist-packages/ipykernel_launcher.py:3: SettingWithCopyWarning: \n",
            "A value is trying to be set on a copy of a slice from a DataFrame.\n",
            "Try using .loc[row_indexer,col_indexer] = value instead\n",
            "\n",
            "See the caveats in the documentation: https://pandas.pydata.org/pandas-docs/stable/user_guide/indexing.html#returning-a-view-versus-a-copy\n",
            "  This is separate from the ipykernel package so we can avoid doing imports until\n",
            "/usr/local/lib/python3.7/dist-packages/ipykernel_launcher.py:4: SettingWithCopyWarning: \n",
            "A value is trying to be set on a copy of a slice from a DataFrame.\n",
            "Try using .loc[row_indexer,col_indexer] = value instead\n",
            "\n",
            "See the caveats in the documentation: https://pandas.pydata.org/pandas-docs/stable/user_guide/indexing.html#returning-a-view-versus-a-copy\n",
            "  after removing the cwd from sys.path.\n"
          ],
          "name": "stderr"
        }
      ]
    },
    {
      "cell_type": "code",
      "metadata": {
        "id": "W5v57NSbDGuh"
      },
      "source": [
        "# replace M for missing values to NaN\r\n",
        "weather_raw = weather_raw.replace('M', np.nan)"
      ],
      "execution_count": 458,
      "outputs": []
    },
    {
      "cell_type": "code",
      "metadata": {
        "id": "cPGdH-rlDiJ2"
      },
      "source": [
        "# forward fill missing values from station 1\r\n",
        "weather_raw = weather_raw.ffill(axis=1)"
      ],
      "execution_count": 459,
      "outputs": []
    },
    {
      "cell_type": "code",
      "metadata": {
        "id": "cx-pXzW1fvAs"
      },
      "source": [
        "#dropping columns Depth, Snowfall related data and CodeSum for now\r\n",
        "weather = weather_raw.drop(['Depth', 'Water1', 'SnowFall', 'CodeSum'], axis=1)"
      ],
      "execution_count": 460,
      "outputs": []
    },
    {
      "cell_type": "code",
      "metadata": {
        "id": "0on0Yg5mHDo_"
      },
      "source": [
        "# changing dtype from object to float\r\n",
        "column_headers = weather.select_dtypes(include='object').columns.tolist()\r\n",
        "\r\n",
        "for header in column_headers:\r\n",
        "  weather[header] = weather[header].astype(float)"
      ],
      "execution_count": 461,
      "outputs": []
    },
    {
      "cell_type": "code",
      "metadata": {
        "colab": {
          "base_uri": "https://localhost:8080/"
        },
        "id": "qsUblOoaKUo5",
        "outputId": "c858f505-26a8-4a6e-ca40-df7767ba0454"
      },
      "source": [
        "weather.info()"
      ],
      "execution_count": 462,
      "outputs": [
        {
          "output_type": "stream",
          "text": [
            "<class 'pandas.core.frame.DataFrame'>\n",
            "RangeIndex: 2944 entries, 0 to 2943\n",
            "Data columns (total 18 columns):\n",
            " #   Column       Non-Null Count  Dtype         \n",
            "---  ------       --------------  -----         \n",
            " 0   Station      2944 non-null   float64       \n",
            " 1   Date         2944 non-null   datetime64[ns]\n",
            " 2   Tmax         2944 non-null   float64       \n",
            " 3   Tmin         2944 non-null   float64       \n",
            " 4   Tavg         2944 non-null   float64       \n",
            " 5   Depart       2944 non-null   float64       \n",
            " 6   DewPoint     2944 non-null   float64       \n",
            " 7   WetBulb      2944 non-null   float64       \n",
            " 8   Heat         2944 non-null   float64       \n",
            " 9   Cool         2944 non-null   float64       \n",
            " 10  Sunrise      2944 non-null   float64       \n",
            " 11  Sunset       2944 non-null   float64       \n",
            " 12  PrecipTotal  2944 non-null   float64       \n",
            " 13  StnPressure  2944 non-null   float64       \n",
            " 14  SeaLevel     2944 non-null   float64       \n",
            " 15  ResultSpeed  2944 non-null   float64       \n",
            " 16  ResultDir    2944 non-null   float64       \n",
            " 17  AvgSpeed     2944 non-null   float64       \n",
            "dtypes: datetime64[ns](1), float64(17)\n",
            "memory usage: 414.1 KB\n"
          ],
          "name": "stdout"
        }
      ]
    },
    {
      "cell_type": "code",
      "metadata": {
        "colab": {
          "base_uri": "https://localhost:8080/"
        },
        "id": "9qhWxJcoiX8F",
        "outputId": "857c50fb-61cf-427a-b6d6-e2b2d70091e6"
      },
      "source": [
        "#averaging the weather data across the 2 stations, as such, it can be merged with the training data\r\n",
        "weather_agg = pd.pivot_table(weather,index=['Date'],aggfunc=np.mean)\r\n",
        "weather_agg.shape"
      ],
      "execution_count": 463,
      "outputs": [
        {
          "output_type": "execute_result",
          "data": {
            "text/plain": [
              "(1472, 17)"
            ]
          },
          "metadata": {
            "tags": []
          },
          "execution_count": 463
        }
      ]
    },
    {
      "cell_type": "markdown",
      "metadata": {
        "id": "h83bJgSppN8g"
      },
      "source": [
        "## **1.3) Merging Training & Weather Data Together**\r\n",
        "\r\n",
        "\r\n"
      ]
    },
    {
      "cell_type": "code",
      "metadata": {
        "id": "NQBqsF9CiX1N"
      },
      "source": [
        "#merging train_raw & weather_agg together\r\n",
        "df_raw = train_raw.merge(weather_agg, on='Date')"
      ],
      "execution_count": 464,
      "outputs": []
    },
    {
      "cell_type": "code",
      "metadata": {
        "colab": {
          "base_uri": "https://localhost:8080/",
          "height": 1000
        },
        "id": "3okiB_ckiXtb",
        "outputId": "d3095f63-3d4d-415e-c30c-5e9da8d8fb78"
      },
      "source": [
        "df_raw.head(2).T"
      ],
      "execution_count": 465,
      "outputs": [
        {
          "output_type": "execute_result",
          "data": {
            "text/html": [
              "<div>\n",
              "<style scoped>\n",
              "    .dataframe tbody tr th:only-of-type {\n",
              "        vertical-align: middle;\n",
              "    }\n",
              "\n",
              "    .dataframe tbody tr th {\n",
              "        vertical-align: top;\n",
              "    }\n",
              "\n",
              "    .dataframe thead th {\n",
              "        text-align: right;\n",
              "    }\n",
              "</style>\n",
              "<table border=\"1\" class=\"dataframe\">\n",
              "  <thead>\n",
              "    <tr style=\"text-align: right;\">\n",
              "      <th></th>\n",
              "      <th>0</th>\n",
              "      <th>1</th>\n",
              "    </tr>\n",
              "  </thead>\n",
              "  <tbody>\n",
              "    <tr>\n",
              "      <th>Date</th>\n",
              "      <td>2007-05-29 00:00:00</td>\n",
              "      <td>2007-05-29 00:00:00</td>\n",
              "    </tr>\n",
              "    <tr>\n",
              "      <th>Address</th>\n",
              "      <td>4100 North Oak Park Avenue, Chicago, IL 60634,...</td>\n",
              "      <td>4100 North Oak Park Avenue, Chicago, IL 60634,...</td>\n",
              "    </tr>\n",
              "    <tr>\n",
              "      <th>Species</th>\n",
              "      <td>CULEX PIPIENS/RESTUANS</td>\n",
              "      <td>CULEX RESTUANS</td>\n",
              "    </tr>\n",
              "    <tr>\n",
              "      <th>Block</th>\n",
              "      <td>41</td>\n",
              "      <td>41</td>\n",
              "    </tr>\n",
              "    <tr>\n",
              "      <th>Street</th>\n",
              "      <td>N OAK PARK AVE</td>\n",
              "      <td>N OAK PARK AVE</td>\n",
              "    </tr>\n",
              "    <tr>\n",
              "      <th>Trap</th>\n",
              "      <td>T002</td>\n",
              "      <td>T002</td>\n",
              "    </tr>\n",
              "    <tr>\n",
              "      <th>AddressNumberAndStreet</th>\n",
              "      <td>4100  N OAK PARK AVE, Chicago, IL</td>\n",
              "      <td>4100  N OAK PARK AVE, Chicago, IL</td>\n",
              "    </tr>\n",
              "    <tr>\n",
              "      <th>Latitude</th>\n",
              "      <td>41.9547</td>\n",
              "      <td>41.9547</td>\n",
              "    </tr>\n",
              "    <tr>\n",
              "      <th>Longitude</th>\n",
              "      <td>-87.801</td>\n",
              "      <td>-87.801</td>\n",
              "    </tr>\n",
              "    <tr>\n",
              "      <th>AddressAccuracy</th>\n",
              "      <td>9</td>\n",
              "      <td>9</td>\n",
              "    </tr>\n",
              "    <tr>\n",
              "      <th>NumMosquitos</th>\n",
              "      <td>1</td>\n",
              "      <td>1</td>\n",
              "    </tr>\n",
              "    <tr>\n",
              "      <th>WnvPresent</th>\n",
              "      <td>0</td>\n",
              "      <td>0</td>\n",
              "    </tr>\n",
              "    <tr>\n",
              "      <th>Year</th>\n",
              "      <td>2007</td>\n",
              "      <td>2007</td>\n",
              "    </tr>\n",
              "    <tr>\n",
              "      <th>Year-Month</th>\n",
              "      <td>2007-05</td>\n",
              "      <td>2007-05</td>\n",
              "    </tr>\n",
              "    <tr>\n",
              "      <th>Year-Week</th>\n",
              "      <td>2007-22</td>\n",
              "      <td>2007-22</td>\n",
              "    </tr>\n",
              "    <tr>\n",
              "      <th>AvgSpeed</th>\n",
              "      <td>6.95</td>\n",
              "      <td>6.95</td>\n",
              "    </tr>\n",
              "    <tr>\n",
              "      <th>Cool</th>\n",
              "      <td>10.5</td>\n",
              "      <td>10.5</td>\n",
              "    </tr>\n",
              "    <tr>\n",
              "      <th>Depart</th>\n",
              "      <td>43.5</td>\n",
              "      <td>43.5</td>\n",
              "    </tr>\n",
              "    <tr>\n",
              "      <th>DewPoint</th>\n",
              "      <td>58.5</td>\n",
              "      <td>58.5</td>\n",
              "    </tr>\n",
              "    <tr>\n",
              "      <th>Heat</th>\n",
              "      <td>0</td>\n",
              "      <td>0</td>\n",
              "    </tr>\n",
              "    <tr>\n",
              "      <th>PrecipTotal</th>\n",
              "      <td>0</td>\n",
              "      <td>0</td>\n",
              "    </tr>\n",
              "    <tr>\n",
              "      <th>ResultDir</th>\n",
              "      <td>17</td>\n",
              "      <td>17</td>\n",
              "    </tr>\n",
              "    <tr>\n",
              "      <th>ResultSpeed</th>\n",
              "      <td>5.8</td>\n",
              "      <td>5.8</td>\n",
              "    </tr>\n",
              "    <tr>\n",
              "      <th>SeaLevel</th>\n",
              "      <td>30.1</td>\n",
              "      <td>30.1</td>\n",
              "    </tr>\n",
              "    <tr>\n",
              "      <th>Station</th>\n",
              "      <td>1.5</td>\n",
              "      <td>1.5</td>\n",
              "    </tr>\n",
              "    <tr>\n",
              "      <th>StnPressure</th>\n",
              "      <td>29.415</td>\n",
              "      <td>29.415</td>\n",
              "    </tr>\n",
              "    <tr>\n",
              "      <th>Sunrise</th>\n",
              "      <td>216.5</td>\n",
              "      <td>216.5</td>\n",
              "    </tr>\n",
              "    <tr>\n",
              "      <th>Sunset</th>\n",
              "      <td>964.5</td>\n",
              "      <td>964.5</td>\n",
              "    </tr>\n",
              "    <tr>\n",
              "      <th>Tavg</th>\n",
              "      <td>75.5</td>\n",
              "      <td>75.5</td>\n",
              "    </tr>\n",
              "    <tr>\n",
              "      <th>Tmax</th>\n",
              "      <td>88</td>\n",
              "      <td>88</td>\n",
              "    </tr>\n",
              "    <tr>\n",
              "      <th>Tmin</th>\n",
              "      <td>62.5</td>\n",
              "      <td>62.5</td>\n",
              "    </tr>\n",
              "    <tr>\n",
              "      <th>WetBulb</th>\n",
              "      <td>65.5</td>\n",
              "      <td>65.5</td>\n",
              "    </tr>\n",
              "  </tbody>\n",
              "</table>\n",
              "</div>"
            ],
            "text/plain": [
              "                                                                        0                                                  1\n",
              "Date                                                  2007-05-29 00:00:00                                2007-05-29 00:00:00\n",
              "Address                 4100 North Oak Park Avenue, Chicago, IL 60634,...  4100 North Oak Park Avenue, Chicago, IL 60634,...\n",
              "Species                                            CULEX PIPIENS/RESTUANS                                     CULEX RESTUANS\n",
              "Block                                                                  41                                                 41\n",
              "Street                                                     N OAK PARK AVE                                     N OAK PARK AVE\n",
              "Trap                                                                 T002                                               T002\n",
              "AddressNumberAndStreet                  4100  N OAK PARK AVE, Chicago, IL                  4100  N OAK PARK AVE, Chicago, IL\n",
              "Latitude                                                          41.9547                                            41.9547\n",
              "Longitude                                                         -87.801                                            -87.801\n",
              "AddressAccuracy                                                         9                                                  9\n",
              "NumMosquitos                                                            1                                                  1\n",
              "WnvPresent                                                              0                                                  0\n",
              "Year                                                                 2007                                               2007\n",
              "Year-Month                                                        2007-05                                            2007-05\n",
              "Year-Week                                                         2007-22                                            2007-22\n",
              "AvgSpeed                                                             6.95                                               6.95\n",
              "Cool                                                                 10.5                                               10.5\n",
              "Depart                                                               43.5                                               43.5\n",
              "DewPoint                                                             58.5                                               58.5\n",
              "Heat                                                                    0                                                  0\n",
              "PrecipTotal                                                             0                                                  0\n",
              "ResultDir                                                              17                                                 17\n",
              "ResultSpeed                                                           5.8                                                5.8\n",
              "SeaLevel                                                             30.1                                               30.1\n",
              "Station                                                               1.5                                                1.5\n",
              "StnPressure                                                        29.415                                             29.415\n",
              "Sunrise                                                             216.5                                              216.5\n",
              "Sunset                                                              964.5                                              964.5\n",
              "Tavg                                                                 75.5                                               75.5\n",
              "Tmax                                                                   88                                                 88\n",
              "Tmin                                                                 62.5                                               62.5\n",
              "WetBulb                                                              65.5                                               65.5"
            ]
          },
          "metadata": {
            "tags": []
          },
          "execution_count": 465
        }
      ]
    },
    {
      "cell_type": "code",
      "metadata": {
        "colab": {
          "base_uri": "https://localhost:8080/"
        },
        "id": "uYqju7Hhsq2k",
        "outputId": "23edabbd-8b45-49c4-bec5-5de940e0b88c"
      },
      "source": [
        "df_raw.columns"
      ],
      "execution_count": 466,
      "outputs": [
        {
          "output_type": "execute_result",
          "data": {
            "text/plain": [
              "Index(['Date', 'Address', 'Species', 'Block', 'Street', 'Trap',\n",
              "       'AddressNumberAndStreet', 'Latitude', 'Longitude', 'AddressAccuracy',\n",
              "       'NumMosquitos', 'WnvPresent', 'Year', 'Year-Month', 'Year-Week',\n",
              "       'AvgSpeed', 'Cool', 'Depart', 'DewPoint', 'Heat', 'PrecipTotal',\n",
              "       'ResultDir', 'ResultSpeed', 'SeaLevel', 'Station', 'StnPressure',\n",
              "       'Sunrise', 'Sunset', 'Tavg', 'Tmax', 'Tmin', 'WetBulb'],\n",
              "      dtype='object')"
            ]
          },
          "metadata": {
            "tags": []
          },
          "execution_count": 466
        }
      ]
    },
    {
      "cell_type": "code",
      "metadata": {
        "id": "hNhcKwCgrVk9"
      },
      "source": [
        "#dropping columns which may not facilitate further analysis\r\n",
        "df = df_raw.drop(['Address', 'Block', 'Street', 'AddressNumberAndStreet', 'Station'], axis=1)"
      ],
      "execution_count": 467,
      "outputs": []
    },
    {
      "cell_type": "code",
      "metadata": {
        "colab": {
          "base_uri": "https://localhost:8080/"
        },
        "id": "gBenTDcyqnk6",
        "outputId": "88c54bce-ea8d-4c01-a602-71180cd48934"
      },
      "source": [
        "df.shape"
      ],
      "execution_count": 468,
      "outputs": [
        {
          "output_type": "execute_result",
          "data": {
            "text/plain": [
              "(9693, 27)"
            ]
          },
          "metadata": {
            "tags": []
          },
          "execution_count": 468
        }
      ]
    },
    {
      "cell_type": "markdown",
      "metadata": {
        "id": "Ii8t5C-3rbEr"
      },
      "source": [
        "## **2) EDA & Visualization**\r\n",
        "\r\n",
        "\r\n"
      ]
    },
    {
      "cell_type": "code",
      "metadata": {
        "colab": {
          "base_uri": "https://localhost:8080/",
          "height": 298
        },
        "id": "l9e5GpwhDLxp",
        "outputId": "550aed11-02f1-4fe8-8bc6-951c7ba27b46"
      },
      "source": [
        "#Types of mosquitos discovered in the traps\r\n",
        "df['Species'].value_counts().plot(kind='barh')\r\n",
        "plt.title('Types of Mosquitos recorded in the Traps')"
      ],
      "execution_count": 469,
      "outputs": [
        {
          "output_type": "execute_result",
          "data": {
            "text/plain": [
              "Text(0.5, 1.0, 'Types of Mosquitos recorded in the Traps')"
            ]
          },
          "metadata": {
            "tags": []
          },
          "execution_count": 469
        },
        {
          "output_type": "display_data",
          "data": {
            "image/png": "[encoded data removed]",
            "text/plain": [
              "<Figure size 432x288 with 1 Axes>"
            ]
          },
          "metadata": {
            "tags": [],
            "needs_background": "light"
          }
        }
      ]
    },
    {
      "cell_type": "code",
      "metadata": {
        "colab": {
          "base_uri": "https://localhost:8080/",
          "height": 281
        },
        "id": "y-1fvPyWvguY",
        "outputId": "5bbe644f-eb6c-49f8-8def-bb82b7a3c1ee"
      },
      "source": [
        "labels = ['0', 'Wnv Present'] \r\n",
        "df['WnvPresent'].value_counts().plot(kind='pie', labels=labels, autopct='%.2f%%')\r\n",
        "plt.title('% Traps with West Nile Virus Present')"
      ],
      "execution_count": 470,
      "outputs": [
        {
          "output_type": "execute_result",
          "data": {
            "text/plain": [
              "Text(0.5, 1.0, '% Traps with West Nile Virus Present')"
            ]
          },
          "metadata": {
            "tags": []
          },
          "execution_count": 470
        },
        {
          "output_type": "display_data",
          "data": {
            "image/png": "[encoded data removed]",
            "text/plain": [
              "<Figure size 432x288 with 1 Axes>"
            ]
          },
          "metadata": {
            "tags": []
          }
        }
      ]
    },
    {
      "cell_type": "code",
      "metadata": {
        "colab": {
          "base_uri": "https://localhost:8080/"
        },
        "id": "3FYKLgJrtgyu",
        "outputId": "e2a47f76-f0c7-42b0-8bd2-d800333e1127"
      },
      "source": [
        "# Types of mosquitos identified where Wnv is positive\r\n",
        "Wnv_present = df['Species'].where(df['WnvPresent']==1)\r\n",
        "Wnv_present.value_counts()"
      ],
      "execution_count": 471,
      "outputs": [
        {
          "output_type": "execute_result",
          "data": {
            "text/plain": [
              "CULEX PIPIENS/RESTUANS    246\n",
              "CULEX PIPIENS             208\n",
              "CULEX RESTUANS             49\n",
              "Name: Species, dtype: int64"
            ]
          },
          "metadata": {
            "tags": []
          },
          "execution_count": 471
        }
      ]
    },
    {
      "cell_type": "markdown",
      "metadata": {
        "id": "blk7czMJwem8"
      },
      "source": [
        "The data suggests that Culex Pipens or Restuans were the mosquito breeds which causes Wnv in Chicago area."
      ]
    },
    {
      "cell_type": "markdown",
      "metadata": {
        "id": "xDeMIlTG8C08"
      },
      "source": [
        "## **3) Pre-Processing & Modelling**\r\n",
        "\r\n",
        "\r\n"
      ]
    },
    {
      "cell_type": "markdown",
      "metadata": {
        "id": "1FYwHAzC8FgW"
      },
      "source": [
        "## **3.1) Building the features for modelling**\r\n",
        "\r\n",
        "\r\n"
      ]
    },
    {
      "cell_type": "markdown",
      "metadata": {
        "id": "agVZUl5kMl-1"
      },
      "source": [
        "As some of the data which could be an important feature is not built in a way to facilitate model building, following clean-ups will be done: <br>\r\n",
        "\r\n",
        "\r\n",
        "*   *Mosquito types* - one hot coding required, breeds which contributes to Wnv will be retained while other breeds will be classified into \"others\".\r\n",
        "*   *Latitude and Longitude* - grouping into clusters instead of treating them into 2 numeric features\r\n"
      ]
    },
    {
      "cell_type": "markdown",
      "metadata": {
        "id": "0wRJhhPBz2yC"
      },
      "source": [
        "3.1.1) Hot coding Mosquito Types"
      ]
    },
    {
      "cell_type": "code",
      "metadata": {
        "colab": {
          "base_uri": "https://localhost:8080/"
        },
        "id": "Fkf2OMKNMu32",
        "outputId": "7eac9c5e-d545-4dc4-c1c7-8c38fbfad37e"
      },
      "source": [
        "df['Species'].unique()"
      ],
      "execution_count": 472,
      "outputs": [
        {
          "output_type": "execute_result",
          "data": {
            "text/plain": [
              "array(['CULEX PIPIENS/RESTUANS', 'CULEX RESTUANS', 'CULEX PIPIENS',\n",
              "       'CULEX SALINARIUS', 'CULEX TERRITANS', 'CULEX TARSALIS',\n",
              "       'CULEX ERRATICUS'], dtype=object)"
            ]
          },
          "metadata": {
            "tags": []
          },
          "execution_count": 472
        }
      ]
    },
    {
      "cell_type": "code",
      "metadata": {
        "id": "nM9s2g38M7hE"
      },
      "source": [
        "df['Species'] = df['Species'].replace(['CULEX SALINARIUS', 'CULEX TERRITANS', 'CULEX TARSALIS', 'CULEX ERRATICUS'], 'OTHERS')"
      ],
      "execution_count": 473,
      "outputs": []
    },
    {
      "cell_type": "code",
      "metadata": {
        "colab": {
          "base_uri": "https://localhost:8080/",
          "height": 419
        },
        "id": "2sFx9tCHeYJE",
        "outputId": "bf2571f4-a1ff-4f9f-8b94-aa35a8865c50"
      },
      "source": [
        "#one hot coding mosquito types\r\n",
        "mos_code = pd.get_dummies(df['Species'], prefix= 'Species')\r\n",
        "mos_code"
      ],
      "execution_count": 474,
      "outputs": [
        {
          "output_type": "execute_result",
          "data": {
            "text/html": [
              "<div>\n",
              "<style scoped>\n",
              "    .dataframe tbody tr th:only-of-type {\n",
              "        vertical-align: middle;\n",
              "    }\n",
              "\n",
              "    .dataframe tbody tr th {\n",
              "        vertical-align: top;\n",
              "    }\n",
              "\n",
              "    .dataframe thead th {\n",
              "        text-align: right;\n",
              "    }\n",
              "</style>\n",
              "<table border=\"1\" class=\"dataframe\">\n",
              "  <thead>\n",
              "    <tr style=\"text-align: right;\">\n",
              "      <th></th>\n",
              "      <th>Species_CULEX PIPIENS</th>\n",
              "      <th>Species_CULEX PIPIENS/RESTUANS</th>\n",
              "      <th>Species_CULEX RESTUANS</th>\n",
              "      <th>Species_OTHERS</th>\n",
              "    </tr>\n",
              "  </thead>\n",
              "  <tbody>\n",
              "    <tr>\n",
              "      <th>0</th>\n",
              "      <td>0</td>\n",
              "      <td>1</td>\n",
              "      <td>0</td>\n",
              "      <td>0</td>\n",
              "    </tr>\n",
              "    <tr>\n",
              "      <th>1</th>\n",
              "      <td>0</td>\n",
              "      <td>0</td>\n",
              "      <td>1</td>\n",
              "      <td>0</td>\n",
              "    </tr>\n",
              "    <tr>\n",
              "      <th>2</th>\n",
              "      <td>0</td>\n",
              "      <td>0</td>\n",
              "      <td>1</td>\n",
              "      <td>0</td>\n",
              "    </tr>\n",
              "    <tr>\n",
              "      <th>3</th>\n",
              "      <td>0</td>\n",
              "      <td>1</td>\n",
              "      <td>0</td>\n",
              "      <td>0</td>\n",
              "    </tr>\n",
              "    <tr>\n",
              "      <th>4</th>\n",
              "      <td>0</td>\n",
              "      <td>0</td>\n",
              "      <td>1</td>\n",
              "      <td>0</td>\n",
              "    </tr>\n",
              "    <tr>\n",
              "      <th>...</th>\n",
              "      <td>...</td>\n",
              "      <td>...</td>\n",
              "      <td>...</td>\n",
              "      <td>...</td>\n",
              "    </tr>\n",
              "    <tr>\n",
              "      <th>9688</th>\n",
              "      <td>0</td>\n",
              "      <td>1</td>\n",
              "      <td>0</td>\n",
              "      <td>0</td>\n",
              "    </tr>\n",
              "    <tr>\n",
              "      <th>9689</th>\n",
              "      <td>0</td>\n",
              "      <td>1</td>\n",
              "      <td>0</td>\n",
              "      <td>0</td>\n",
              "    </tr>\n",
              "    <tr>\n",
              "      <th>9690</th>\n",
              "      <td>0</td>\n",
              "      <td>1</td>\n",
              "      <td>0</td>\n",
              "      <td>0</td>\n",
              "    </tr>\n",
              "    <tr>\n",
              "      <th>9691</th>\n",
              "      <td>0</td>\n",
              "      <td>1</td>\n",
              "      <td>0</td>\n",
              "      <td>0</td>\n",
              "    </tr>\n",
              "    <tr>\n",
              "      <th>9692</th>\n",
              "      <td>0</td>\n",
              "      <td>1</td>\n",
              "      <td>0</td>\n",
              "      <td>0</td>\n",
              "    </tr>\n",
              "  </tbody>\n",
              "</table>\n",
              "<p>9693 rows × 4 columns</p>\n",
              "</div>"
            ],
            "text/plain": [
              "      Species_CULEX PIPIENS  ...  Species_OTHERS\n",
              "0                         0  ...               0\n",
              "1                         0  ...               0\n",
              "2                         0  ...               0\n",
              "3                         0  ...               0\n",
              "4                         0  ...               0\n",
              "...                     ...  ...             ...\n",
              "9688                      0  ...               0\n",
              "9689                      0  ...               0\n",
              "9690                      0  ...               0\n",
              "9691                      0  ...               0\n",
              "9692                      0  ...               0\n",
              "\n",
              "[9693 rows x 4 columns]"
            ]
          },
          "metadata": {
            "tags": []
          },
          "execution_count": 474
        }
      ]
    },
    {
      "cell_type": "code",
      "metadata": {
        "id": "lxKK56f3z-Av"
      },
      "source": [
        "#merge dataframes together\r\n",
        "df = df.join(mos_code, how='outer')"
      ],
      "execution_count": 475,
      "outputs": []
    },
    {
      "cell_type": "markdown",
      "metadata": {
        "id": "q5McPgGJ1Omu"
      },
      "source": [
        "3.1.2) Transforming Latitude and Longitude data into Clusters"
      ]
    },
    {
      "cell_type": "markdown",
      "metadata": {
        "id": "2WZTNXjA1e11"
      },
      "source": [
        "DBscan has been chosen as the method to perform clustering on the lon/ lat data, as it helps to differentiate high-density vs low-desnity points. "
      ]
    },
    {
      "cell_type": "code",
      "metadata": {
        "id": "uN8w1fUp5HsD"
      },
      "source": [
        "#clustering the lon/lat data \r\n",
        "coords = df[['Longitude', 'Latitude']].to_numpy()\r\n",
        "dbscan = DBSCAN(eps=2/6371., min_samples=50, algorithm='ball_tree', metric='haversine')\r\n",
        "clusters = pd.DataFrame(dbscan.fit_predict(coords))\r\n",
        "df['Cluster'] = clusters"
      ],
      "execution_count": 476,
      "outputs": []
    },
    {
      "cell_type": "code",
      "metadata": {
        "id": "3iSSaxqrWqEz"
      },
      "source": [
        "#building the initial set of features, dropping columns clustered/ encoded/ in object or datetime format\r\n",
        "features_raw = df[['AddressAccuracy', 'NumMosquitos', 'AvgSpeed', 'Cool', 'Depart', 'DewPoint', 'Heat', 'PrecipTotal',\r\n",
        "               'ResultDir', 'ResultSpeed', 'SeaLevel', 'StnPressure', 'Sunrise', 'Sunset', 'Tavg', 'Tmax', 'Tmin', 'WetBulb', 'Species_CULEX PIPIENS',\r\n",
        "               'Species_CULEX PIPIENS/RESTUANS', 'Species_CULEX RESTUANS', 'Species_OTHERS', 'Cluster']]"
      ],
      "execution_count": 477,
      "outputs": []
    },
    {
      "cell_type": "code",
      "metadata": {
        "colab": {
          "base_uri": "https://localhost:8080/"
        },
        "id": "xWIHK-j5jZTN",
        "outputId": "af32c1af-bbbb-4570-c063-6684c109447e"
      },
      "source": [
        "features_raw.shape"
      ],
      "execution_count": 478,
      "outputs": [
        {
          "output_type": "execute_result",
          "data": {
            "text/plain": [
              "(9693, 23)"
            ]
          },
          "metadata": {
            "tags": []
          },
          "execution_count": 478
        }
      ]
    },
    {
      "cell_type": "code",
      "metadata": {
        "colab": {
          "base_uri": "https://localhost:8080/",
          "height": 897
        },
        "id": "QnfTtPrVgNf3",
        "outputId": "0a297ce8-2e32-4091-c190-78e38d4d93a7"
      },
      "source": [
        "#understanding the correlation between the features\r\n",
        "matrix = np.triu(features_raw.corr())\r\n",
        "plt.figure(figsize=(20,12))\r\n",
        "plt.title('Correlation Among Different Features')\r\n",
        "sns.heatmap(features_raw.corr(), annot=True, mask=matrix)"
      ],
      "execution_count": 479,
      "outputs": [
        {
          "output_type": "execute_result",
          "data": {
            "text/plain": [
              "<matplotlib.axes._subplots.AxesSubplot at 0x7f4074622750>"
            ]
          },
          "metadata": {
            "tags": []
          },
          "execution_count": 479
        },
        {
          "output_type": "display_data",
          "data": {
            "image/png": "[encoded data removed]",
            "text/plain": [
              "<Figure size 1440x864 with 2 Axes>"
            ]
          },
          "metadata": {
            "tags": [],
            "needs_background": "light"
          }
        }
      ]
    },
    {
      "cell_type": "markdown",
      "metadata": {
        "id": "qrUD18CVh33O"
      },
      "source": [
        "There are a few features almost perfectly correlated with each other. <br>\r\n",
        "- AvgSpeed, Tavg, Wetbulb, Cool, Depart <br>\r\n",
        "\r\n",
        "As the features are supposed to be independent variable. These features should be removed to avoid collinearity."
      ]
    },
    {
      "cell_type": "markdown",
      "metadata": {
        "id": "Kgi4mUX6D2bY"
      },
      "source": [
        "## **3.2) Pre-Processing**\r\n",
        "\r\n",
        "\r\n"
      ]
    },
    {
      "cell_type": "markdown",
      "metadata": {
        "id": "dzIhCOt4Fem4"
      },
      "source": [
        "3.2.1) Train/ Test Split & Scaling the Data"
      ]
    },
    {
      "cell_type": "code",
      "metadata": {
        "id": "bJ_JhNOvdc9u"
      },
      "source": [
        "features = df[['AddressAccuracy', 'NumMosquitos', 'DewPoint', 'Heat', 'PrecipTotal',\r\n",
        "               'ResultDir', 'ResultSpeed', 'SeaLevel', 'StnPressure', 'Sunrise', 'Sunset', 'Tmax', 'Tmin', 'Species_CULEX PIPIENS',\r\n",
        "               'Species_CULEX PIPIENS/RESTUANS', 'Species_CULEX RESTUANS', 'Species_OTHERS', 'Cluster']]"
      ],
      "execution_count": 480,
      "outputs": []
    },
    {
      "cell_type": "code",
      "metadata": {
        "colab": {
          "base_uri": "https://localhost:8080/"
        },
        "id": "vYZoGufcjc30",
        "outputId": "a5592076-14a2-4c3c-94db-34604983e895"
      },
      "source": [
        "features.shape"
      ],
      "execution_count": 481,
      "outputs": [
        {
          "output_type": "execute_result",
          "data": {
            "text/plain": [
              "(9693, 18)"
            ]
          },
          "metadata": {
            "tags": []
          },
          "execution_count": 481
        }
      ]
    },
    {
      "cell_type": "code",
      "metadata": {
        "id": "qNlFBYf38MEq"
      },
      "source": [
        "X = features\r\n",
        "Y = df['WnvPresent']"
      ],
      "execution_count": 482,
      "outputs": []
    },
    {
      "cell_type": "code",
      "metadata": {
        "id": "U_Y-2kihRHCu"
      },
      "source": [
        "#scaling the data - not normally distributed therefore using MinMax Scaler\r\n",
        "scaler = MinMaxScaler().fit(X)\r\n",
        "X_scaled = scaler.transform(X)"
      ],
      "execution_count": 483,
      "outputs": []
    },
    {
      "cell_type": "code",
      "metadata": {
        "id": "QrF3J9pBW7X0"
      },
      "source": [
        "# Train Test split\r\n",
        "X_train, x_test, Y_train, y_test = train_test_split(X_scaled, Y, test_size = 0.25, random_state=1)"
      ],
      "execution_count": 484,
      "outputs": []
    },
    {
      "cell_type": "markdown",
      "metadata": {
        "id": "xbJhuHndFyaE"
      },
      "source": [
        "3.2.2) Oversampling"
      ]
    },
    {
      "cell_type": "markdown",
      "metadata": {
        "id": "iZpKWrGUF1Pb"
      },
      "source": [
        "Oversampling is required because we're dealing with very imbalanced data for Wnv present. "
      ]
    },
    {
      "cell_type": "code",
      "metadata": {
        "colab": {
          "base_uri": "https://localhost:8080/"
        },
        "id": "3rpJODZaF-cR",
        "outputId": "53f1b50c-e7fe-4375-c6f6-9d96886e149b"
      },
      "source": [
        "smote = SMOTE(random_state=1, ratio='minority')\r\n",
        "X_train, Y_train = smote.fit_resample(X_train, Y_train)\r\n",
        "x_test, y_test = smote.fit_resample(x_test, y_test)"
      ],
      "execution_count": 485,
      "outputs": [
        {
          "output_type": "stream",
          "text": [
            "/usr/local/lib/python3.7/dist-packages/sklearn/utils/deprecation.py:87: FutureWarning: Function safe_indexing is deprecated; safe_indexing is deprecated in version 0.22 and will be removed in version 0.24.\n",
            "  warnings.warn(msg, category=FutureWarning)\n",
            "/usr/local/lib/python3.7/dist-packages/sklearn/utils/deprecation.py:87: FutureWarning: Function safe_indexing is deprecated; safe_indexing is deprecated in version 0.22 and will be removed in version 0.24.\n",
            "  warnings.warn(msg, category=FutureWarning)\n"
          ],
          "name": "stderr"
        }
      ]
    },
    {
      "cell_type": "markdown",
      "metadata": {
        "id": "ojM_b_My8JxP"
      },
      "source": [
        "## **3.3) Building the Model**\r\n",
        "\r\n",
        "\r\n"
      ]
    },
    {
      "cell_type": "markdown",
      "metadata": {
        "id": "1f5T2tSIm9YY"
      },
      "source": [
        "3.3.1) Logistic Regression Model"
      ]
    },
    {
      "cell_type": "code",
      "metadata": {
        "id": "iOdBbrLvoRgl"
      },
      "source": [
        "# Linear Regression Model\r\n",
        "lr = LogisticRegression(random_state=1, solver='lbfgs', max_iter=500)\r\n",
        "lr_model = lr.fit(X_train, Y_train)\r\n",
        "y_pred = lr.predict(x_test)"
      ],
      "execution_count": 486,
      "outputs": []
    },
    {
      "cell_type": "code",
      "metadata": {
        "colab": {
          "base_uri": "https://localhost:8080/"
        },
        "id": "qSi3RDROngVs",
        "outputId": "67fa23d5-b39c-4e9c-a018-74d6d344ac89"
      },
      "source": [
        "#Linear Regression Scores\r\n",
        "lr_ac_train = lr.score(X_train, Y_train)\r\n",
        "lr_ac_test = lr.score(x_test, y_test)\r\n",
        "lr_rocscore = roc_auc_score(y_test, y_pred)\r\n",
        "lr_f1 = f1_score(y_test, y_pred)\r\n",
        "lr_recall = recall_score(y_test, y_pred)\r\n",
        "\r\n",
        "print('Score - Logistic Regression:')\r\n",
        "print(f'On Training data: {lr_ac_train.round(3)}')\r\n",
        "print(f'On Testing data: {lr_ac_test.round(3)}')\r\n",
        "print(f'On ROC Score: {lr_rocscore.round(3)}')\r\n",
        "print(f'On F1 score: {lr_f1.round(3)}')\r\n",
        "print(f'On Recall score: {lr_recall.round(3)}')"
      ],
      "execution_count": 487,
      "outputs": [
        {
          "output_type": "stream",
          "text": [
            "Score - Logistic Regression:\n",
            "On Training data: 0.786\n",
            "On Testing data: 0.783\n",
            "On ROC Score: 0.783\n",
            "On F1 score: 0.782\n",
            "On Recall score: 0.777\n"
          ],
          "name": "stdout"
        }
      ]
    },
    {
      "cell_type": "code",
      "metadata": {
        "colab": {
          "base_uri": "https://localhost:8080/",
          "height": 295
        },
        "id": "U7SUymQPpGQn",
        "outputId": "e948ccd8-1d1a-4f88-bf2e-f7180bf54c11"
      },
      "source": [
        "#Confusion matrix on test set - Non-normalized\r\n",
        "cm = confusion_matrix(y_test, y_pred)\r\n",
        "\r\n",
        "#ax = plt.axes()\r\n",
        "sns.heatmap(cm, annot=True, cbar=False, fmt='g', cmap='Blues')\r\n",
        "plt.ylabel('True Labels')\r\n",
        "plt.xlabel('Predicted Labels')\r\n",
        "plt.title('Confusion Matrix - Logistic Regression')\r\n",
        "plt.show()"
      ],
      "execution_count": 488,
      "outputs": [
        {
          "output_type": "display_data",
          "data": {
            "image/png": "[encoded data removed]",
            "text/plain": [
              "<Figure size 432x288 with 1 Axes>"
            ]
          },
          "metadata": {
            "tags": [],
            "needs_background": "light"
          }
        }
      ]
    },
    {
      "cell_type": "code",
      "metadata": {
        "colab": {
          "base_uri": "https://localhost:8080/",
          "height": 312
        },
        "id": "PppikB3hpKH-",
        "outputId": "e61d5009-d3aa-45ec-c27e-ef1f2fccd876"
      },
      "source": [
        "#ROC Curve\r\n",
        "plot_roc_curve(lr, x_test, y_test)\r\n",
        "plt.plot([0, 1], [0, 1], color='navy', linestyle='--')\r\n",
        "plt.title('ROC for Logistic Regression')\r\n",
        "plt.xlabel('False Positive Rate')\r\n",
        "plt.ylabel('True Positive Rate')"
      ],
      "execution_count": 489,
      "outputs": [
        {
          "output_type": "execute_result",
          "data": {
            "text/plain": [
              "Text(0, 0.5, 'True Positive Rate')"
            ]
          },
          "metadata": {
            "tags": []
          },
          "execution_count": 489
        },
        {
          "output_type": "display_data",
          "data": {
            "image/png": "[encoded data removed]",
            "text/plain": [
              "<Figure size 432x288 with 1 Axes>"
            ]
          },
          "metadata": {
            "tags": [],
            "needs_background": "light"
          }
        }
      ]
    },
    {
      "cell_type": "markdown",
      "metadata": {
        "id": "cOWLQO9Ck231"
      },
      "source": [
        "3.3.2) Random Forest Classifier"
      ]
    },
    {
      "cell_type": "code",
      "metadata": {
        "id": "f6Rz67Itl-O4"
      },
      "source": [
        "#Random Forest Model\r\n",
        "rf = RandomForestClassifier(random_state=1)\r\n",
        "rf_model = rf.fit(X_train, Y_train)\r\n",
        "y_pred = rf_model.predict(x_test)"
      ],
      "execution_count": 490,
      "outputs": []
    },
    {
      "cell_type": "code",
      "metadata": {
        "colab": {
          "base_uri": "https://localhost:8080/"
        },
        "id": "kcsIeDDimRC8",
        "outputId": "343cf14e-ab91-4c5f-dab1-ab3a9346d6fe"
      },
      "source": [
        "#Random Forest - Scores\r\n",
        "rf_ac_train = rf.score(X_train, Y_train) \r\n",
        "rf_ac_test = rf.score(x_test, y_test)\r\n",
        "rf_rocscore = roc_auc_score(y_test, y_pred)\r\n",
        "rf_f1 = f1_score(y_test, y_pred)\r\n",
        "rf_recall = recall_score(y_test, y_pred)\r\n",
        "\r\n",
        "print('Scores - Random Forest Classifier:')\r\n",
        "print(f'On Training data: {rf_ac_train.round(3)}')\r\n",
        "print(f'On Testing data: {rf_ac_test.round(3)}')\r\n",
        "print(f'On ROC Score: {rf_rocscore.round(3)}')\r\n",
        "print(f'On F1 score: {rf_f1.round(3)}')\r\n",
        "print(f'On Recall score: {rf_recall.round(3)}')"
      ],
      "execution_count": 491,
      "outputs": [
        {
          "output_type": "stream",
          "text": [
            "Scores - Random Forest Classifier:\n",
            "On Training data: 0.998\n",
            "On Testing data: 0.871\n",
            "On ROC Score: 0.871\n",
            "On F1 score: 0.86\n",
            "On Recall score: 0.792\n"
          ],
          "name": "stdout"
        }
      ]
    },
    {
      "cell_type": "code",
      "metadata": {
        "colab": {
          "base_uri": "https://localhost:8080/",
          "height": 295
        },
        "id": "Q0zl9GhfpfkJ",
        "outputId": "3eff0b51-dcd1-4dd7-f756-fd13d960e9fa"
      },
      "source": [
        "#Confusion matrix on test set - Non-normalized\r\n",
        "cm = confusion_matrix(y_test, y_pred)\r\n",
        "\r\n",
        "#ax = plt.axes()\r\n",
        "sns.heatmap(cm, annot=True, cbar=False, fmt='g', cmap='Blues')\r\n",
        "plt.ylabel('True Labels')\r\n",
        "plt.xlabel('Predicted Labels')\r\n",
        "plt.title('Confusion Matrix - Random Forest Classifier')\r\n",
        "plt.show()"
      ],
      "execution_count": 492,
      "outputs": [
        {
          "output_type": "display_data",
          "data": {
            "image/png": "[encoded data removed]",
            "text/plain": [
              "<Figure size 432x288 with 1 Axes>"
            ]
          },
          "metadata": {
            "tags": [],
            "needs_background": "light"
          }
        }
      ]
    },
    {
      "cell_type": "code",
      "metadata": {
        "colab": {
          "base_uri": "https://localhost:8080/",
          "height": 312
        },
        "id": "VGIJM_EAkJRG",
        "outputId": "0a6d5506-a270-4c3e-8113-42fa0df95a3c"
      },
      "source": [
        "#ROC Curve\r\n",
        "plot_roc_curve(rf, x_test, y_test)\r\n",
        "plt.plot([0, 1], [0, 1], color='navy', linestyle='--')\r\n",
        "plt.title('ROC for Random Forest Classifier')\r\n",
        "plt.xlabel('False Positive Rate')\r\n",
        "plt.ylabel('True Positive Rate')"
      ],
      "execution_count": 493,
      "outputs": [
        {
          "output_type": "execute_result",
          "data": {
            "text/plain": [
              "Text(0, 0.5, 'True Positive Rate')"
            ]
          },
          "metadata": {
            "tags": []
          },
          "execution_count": 493
        },
        {
          "output_type": "display_data",
          "data": {
            "image/png": "[encoded data removed]",
            "text/plain": [
              "<Figure size 432x288 with 1 Axes>"
            ]
          },
          "metadata": {
            "tags": [],
            "needs_background": "light"
          }
        }
      ]
    },
    {
      "cell_type": "markdown",
      "metadata": {
        "id": "PbB26C8bQ_qx"
      },
      "source": [
        "3.3.3) K-Nearest Neighbour Classifier"
      ]
    },
    {
      "cell_type": "code",
      "metadata": {
        "id": "kKoSaWPUfe-o"
      },
      "source": [
        "#KNN Classifier\r\n",
        "knn = KNeighborsClassifier()\r\n",
        "knn_model = knn.fit(X_train, Y_train)\r\n",
        "y_pred = knn_model.predict(x_test)"
      ],
      "execution_count": 494,
      "outputs": []
    },
    {
      "cell_type": "code",
      "metadata": {
        "colab": {
          "base_uri": "https://localhost:8080/"
        },
        "id": "jQ9knvuc3uUJ",
        "outputId": "24637325-ae0d-49e0-adb9-b4e138fec891"
      },
      "source": [
        "#KNN Classifier Scores\r\n",
        "knn_ac_train = knn.score(X_train, Y_train) \r\n",
        "knn_ac_test = knn.score(x_test, y_test)\r\n",
        "knn_rocscore = roc_auc_score(y_test, y_pred)\r\n",
        "knn_f1 = f1_score(y_test, y_pred)\r\n",
        "knn_recall = recall_score(y_test, y_pred)\r\n",
        "\r\n",
        "print('Scores - K-Nearest Neighbour Classifier:')\r\n",
        "print(f'On Training data: {knn_ac_train.round(3)}')\r\n",
        "print(f'On Testing data: {knn_ac_test.round(3)}')\r\n",
        "print(f'On ROC Score: {knn_rocscore.round(3)}')\r\n",
        "print(f'On F1 score: {knn_f1.round(3)}')\r\n",
        "print(f'On Recall score: {knn_recall.round(3)}')"
      ],
      "execution_count": 495,
      "outputs": [
        {
          "output_type": "stream",
          "text": [
            "Scores - K-Nearest Neighbour Classifier:\n",
            "On Training data: 0.949\n",
            "On Testing data: 0.719\n",
            "On ROC Score: 0.719\n",
            "On F1 score: 0.672\n",
            "On Recall score: 0.577\n"
          ],
          "name": "stdout"
        }
      ]
    },
    {
      "cell_type": "code",
      "metadata": {
        "colab": {
          "base_uri": "https://localhost:8080/",
          "height": 295
        },
        "id": "oNeW4PtLf244",
        "outputId": "fe6eb4f6-80d4-4643-b8bc-7cd6bf6a7243"
      },
      "source": [
        "#Confusion matrix on test set - Non-normalized\r\n",
        "cm = confusion_matrix(y_test, y_pred)\r\n",
        "\r\n",
        "#ax = plt.axes()\r\n",
        "sns.heatmap(cm, annot=True, cbar=False, fmt='g', cmap='Blues')\r\n",
        "plt.ylabel('True Labels')\r\n",
        "plt.xlabel('Predicted Labels')\r\n",
        "plt.title('Confusion Matrix - Gradient Boosting Classifier')\r\n",
        "plt.show()"
      ],
      "execution_count": 496,
      "outputs": [
        {
          "output_type": "display_data",
          "data": {
            "image/png": "[encoded data removed]",
            "text/plain": [
              "<Figure size 432x288 with 1 Axes>"
            ]
          },
          "metadata": {
            "tags": [],
            "needs_background": "light"
          }
        }
      ]
    },
    {
      "cell_type": "code",
      "metadata": {
        "colab": {
          "base_uri": "https://localhost:8080/",
          "height": 312
        },
        "id": "tWnmU7-4pU1b",
        "outputId": "f599f55a-a674-4fe3-e25b-22fa1d322924"
      },
      "source": [
        "#ROC Curve\r\n",
        "plot_roc_curve(knn, x_test, y_test)\r\n",
        "plt.plot([0, 1], [0, 1], color='navy', linestyle='--')\r\n",
        "plt.title('ROC for Gradient Boosting Classifier')\r\n",
        "plt.xlabel('False Positive Rate')\r\n",
        "plt.ylabel('True Positive Rate')"
      ],
      "execution_count": 497,
      "outputs": [
        {
          "output_type": "execute_result",
          "data": {
            "text/plain": [
              "Text(0, 0.5, 'True Positive Rate')"
            ]
          },
          "metadata": {
            "tags": []
          },
          "execution_count": 497
        },
        {
          "output_type": "display_data",
          "data": {
            "image/png": "[encoded data removed]",
            "text/plain": [
              "<Figure size 432x288 with 1 Axes>"
            ]
          },
          "metadata": {
            "tags": [],
            "needs_background": "light"
          }
        }
      ]
    },
    {
      "cell_type": "markdown",
      "metadata": {
        "id": "vT3EFdVF5ktz"
      },
      "source": [
        "3.3.4) XGBoost Classifier"
      ]
    },
    {
      "cell_type": "code",
      "metadata": {
        "id": "lFinnZ3IUTjE"
      },
      "source": [
        "#XGBoost Classifier\r\n",
        "xgb = XGBClassifier(n_estimator=500, random_state=1)\r\n",
        "xgb_model = xgb.fit(X_train, Y_train)\r\n",
        "y_pred = xgb_model.predict(x_test)"
      ],
      "execution_count": 498,
      "outputs": []
    },
    {
      "cell_type": "code",
      "metadata": {
        "colab": {
          "base_uri": "https://localhost:8080/"
        },
        "id": "Hmoz-Ydqd7px",
        "outputId": "eb0c65e4-ecd1-4fc8-ca63-45843257e64f"
      },
      "source": [
        "#XGBoost Scores\r\n",
        "xgb_ac_train = xgb.score(X_train, Y_train)\r\n",
        "xgb_ac_test = xgb.score(x_test, y_test)\r\n",
        "xgb_rocscore = roc_auc_score(y_test, y_pred)\r\n",
        "xgb_f1 = f1_score(y_test, y_pred)\r\n",
        "xgb_recall = recall_score(y_test, y_pred)\r\n",
        "\r\n",
        "print('Score - XGBoost Classifier:')\r\n",
        "print(f'On Training data: {xgb_ac_train.round(3)}')\r\n",
        "print(f'On Testing data: {xgb_ac_test.round(3)}')\r\n",
        "print(f'On ROC Score: {xgb_rocscore.round(3)}')\r\n",
        "print(f'On F1 score: {xgb_f1.round(3)}')\r\n",
        "print(f'On Recall score: {xgb_recall.round(3)}')"
      ],
      "execution_count": 499,
      "outputs": [
        {
          "output_type": "stream",
          "text": [
            "Score - XGBoost Classifier:\n",
            "On Training data: 0.913\n",
            "On Testing data: 0.903\n",
            "On ROC Score: 0.903\n",
            "On F1 score: 0.907\n",
            "On Recall score: 0.94\n"
          ],
          "name": "stdout"
        }
      ]
    },
    {
      "cell_type": "code",
      "metadata": {
        "colab": {
          "base_uri": "https://localhost:8080/",
          "height": 295
        },
        "id": "vVb--5Z_9HFT",
        "outputId": "776441f2-e659-4f0c-d643-e546aa6609b6"
      },
      "source": [
        "#Confusion matrix on test set - Non-normalized\r\n",
        "cm = confusion_matrix(y_test, y_pred)\r\n",
        "\r\n",
        "#ax = plt.axes()\r\n",
        "sns.heatmap(cm, annot=True, cbar=False, fmt='g', cmap='Blues')\r\n",
        "plt.ylabel('True Labels')\r\n",
        "plt.xlabel('Predicted Labels')\r\n",
        "plt.title('Confusion Matrix - XGBoost Classifier')\r\n",
        "plt.show()"
      ],
      "execution_count": 500,
      "outputs": [
        {
          "output_type": "display_data",
          "data": {
            "image/png": "[encoded data removed]",
            "text/plain": [
              "<Figure size 432x288 with 1 Axes>"
            ]
          },
          "metadata": {
            "tags": [],
            "needs_background": "light"
          }
        }
      ]
    },
    {
      "cell_type": "code",
      "metadata": {
        "colab": {
          "base_uri": "https://localhost:8080/",
          "height": 312
        },
        "id": "-WbUU0HnpZN5",
        "outputId": "50066f4b-1bb6-4e7b-828b-c1d0e4bfc45c"
      },
      "source": [
        "#ROC Curve\r\n",
        "plot_roc_curve(rf, x_test, y_test)\r\n",
        "plt.plot([0, 1], [0, 1], color='navy', linestyle='--')\r\n",
        "plt.title('ROC for XGBoost Classifier')\r\n",
        "plt.xlabel('False Positive Rate')\r\n",
        "plt.ylabel('True Positive Rate')"
      ],
      "execution_count": 501,
      "outputs": [
        {
          "output_type": "execute_result",
          "data": {
            "text/plain": [
              "Text(0, 0.5, 'True Positive Rate')"
            ]
          },
          "metadata": {
            "tags": []
          },
          "execution_count": 501
        },
        {
          "output_type": "display_data",
          "data": {
            "image/png": "[encoded data removed]",
            "text/plain": [
              "<Figure size 432x288 with 1 Axes>"
            ]
          },
          "metadata": {
            "tags": [],
            "needs_background": "light"
          }
        }
      ]
    },
    {
      "cell_type": "markdown",
      "metadata": {
        "id": "K5AufVd-rDXt"
      },
      "source": [
        "## **4) Model Evaluation**\r\n",
        "\r\n",
        "\r\n"
      ]
    },
    {
      "cell_type": "code",
      "metadata": {
        "id": "-cBt0y5Zr6RR"
      },
      "source": [
        "model_comp = pd.DataFrame({'Metrics/ Model': ['Accuracy Score (Test data)', 'ROC Score', 'F1 Score', 'Recall'],\r\n",
        "                           'Logistic Regression': [lr_ac_test, lr_rocscore, lr_f1, lr_recall],\r\n",
        "                           'Random Forest': [rf_ac_test, rf_rocscore, rf_f1, rf_recall],\r\n",
        "                           'K-Nearest Neighbor': [knn_ac_test, knn_rocscore, knn_f1, knn_recall],\r\n",
        "                           'XGBoost': [xgb_ac_test, xgb_rocscore, xgb_f1, xgb_recall],\r\n",
        "                          }).round(3)"
      ],
      "execution_count": 505,
      "outputs": []
    },
    {
      "cell_type": "code",
      "metadata": {
        "colab": {
          "base_uri": "https://localhost:8080/",
          "height": 173
        },
        "id": "cYOzb8xGsdZQ",
        "outputId": "4bdc5b36-9e2e-446a-d0f5-2df63ade5f20"
      },
      "source": [
        "model_comp"
      ],
      "execution_count": 506,
      "outputs": [
        {
          "output_type": "execute_result",
          "data": {
            "text/html": [
              "<div>\n",
              "<style scoped>\n",
              "    .dataframe tbody tr th:only-of-type {\n",
              "        vertical-align: middle;\n",
              "    }\n",
              "\n",
              "    .dataframe tbody tr th {\n",
              "        vertical-align: top;\n",
              "    }\n",
              "\n",
              "    .dataframe thead th {\n",
              "        text-align: right;\n",
              "    }\n",
              "</style>\n",
              "<table border=\"1\" class=\"dataframe\">\n",
              "  <thead>\n",
              "    <tr style=\"text-align: right;\">\n",
              "      <th></th>\n",
              "      <th>Metrics/ Model</th>\n",
              "      <th>Logistic Regression</th>\n",
              "      <th>Random Forest</th>\n",
              "      <th>K-Nearest Neighbor</th>\n",
              "      <th>XGBoost</th>\n",
              "    </tr>\n",
              "  </thead>\n",
              "  <tbody>\n",
              "    <tr>\n",
              "      <th>0</th>\n",
              "      <td>Accuracy Score (Test data)</td>\n",
              "      <td>0.783</td>\n",
              "      <td>0.871</td>\n",
              "      <td>0.719</td>\n",
              "      <td>0.903</td>\n",
              "    </tr>\n",
              "    <tr>\n",
              "      <th>1</th>\n",
              "      <td>ROC Score</td>\n",
              "      <td>0.783</td>\n",
              "      <td>0.871</td>\n",
              "      <td>0.719</td>\n",
              "      <td>0.903</td>\n",
              "    </tr>\n",
              "    <tr>\n",
              "      <th>2</th>\n",
              "      <td>F1 Score</td>\n",
              "      <td>0.782</td>\n",
              "      <td>0.860</td>\n",
              "      <td>0.672</td>\n",
              "      <td>0.907</td>\n",
              "    </tr>\n",
              "    <tr>\n",
              "      <th>3</th>\n",
              "      <td>Recall</td>\n",
              "      <td>0.777</td>\n",
              "      <td>0.792</td>\n",
              "      <td>0.577</td>\n",
              "      <td>0.940</td>\n",
              "    </tr>\n",
              "  </tbody>\n",
              "</table>\n",
              "</div>"
            ],
            "text/plain": [
              "               Metrics/ Model  Logistic Regression  ...  K-Nearest Neighbor  XGBoost\n",
              "0  Accuracy Score (Test data)                0.783  ...               0.719    0.903\n",
              "1                   ROC Score                0.783  ...               0.719    0.903\n",
              "2                    F1 Score                0.782  ...               0.672    0.907\n",
              "3                      Recall                0.777  ...               0.577    0.940\n",
              "\n",
              "[4 rows x 5 columns]"
            ]
          },
          "metadata": {
            "tags": []
          },
          "execution_count": 506
        }
      ]
    },
    {
      "cell_type": "code",
      "metadata": {
        "colab": {
          "base_uri": "https://localhost:8080/",
          "height": 638
        },
        "id": "Ktf02boTuM3I",
        "outputId": "a34ffeae-9145-4e33-d7e7-118e55f25517"
      },
      "source": [
        "fig, ax = plt.subplots(figsize=(10,10))\r\n",
        "lr_plot = plot_roc_curve(lr, x_test, y_test, name='Logistic Regression',ax=ax)\r\n",
        "rf_plot = plot_roc_curve(rf, x_test, y_test, name='Random Forest',ax=ax)\r\n",
        "knn_plot = plot_roc_curve(knn, x_test, y_test, name='K-Neighbor',ax=ax)\r\n",
        "xgb_plot = plot_roc_curve(xgb, x_test, y_test, name='XGBoost',ax=ax)\r\n",
        "plt.plot(np.linspace(0, 1, 200), np.linspace(0, 1, 200), label='baseline', linestyle='--')\r\n",
        "plt.title('ROC for Various Models')\r\n",
        "plt.xlabel('False Positive Rate')\r\n",
        "plt.ylabel('True Positive Rate')"
      ],
      "execution_count": 504,
      "outputs": [
        {
          "output_type": "execute_result",
          "data": {
            "text/plain": [
              "Text(0, 0.5, 'True Positive Rate')"
            ]
          },
          "metadata": {
            "tags": []
          },
          "execution_count": 504
        },
        {
          "output_type": "display_data",
          "data": {
            "image/png": "[encoded data removed]",
            "text/plain": [
              "<Figure size 720x720 with 1 Axes>"
            ]
          },
          "metadata": {
            "tags": [],
            "needs_background": "light"
          }
        }
      ]
    },
    {
      "cell_type": "markdown",
      "metadata": {
        "id": "d7J5TpcYwVEg"
      },
      "source": [
        "Among all the models tested, XGBoos yields the best AUC scores. <br>\r\n",
        "The feature importance in predicting West Nile Viruses are:"
      ]
    },
    {
      "cell_type": "code",
      "metadata": {
        "id": "PpFgzSW3waHh"
      },
      "source": [
        "features_col = features.columns.tolist()\r\n",
        "importance = xgb_model.feature_importances_.tolist()\r\n",
        "\r\n",
        "feat_imp_comb = zip(features_col, importance)\r\n",
        "\r\n",
        "feat_imp = pd.DataFrame(feat_imp_comb, columns = ['Feature', 'Importance']) "
      ],
      "execution_count": 523,
      "outputs": []
    },
    {
      "cell_type": "code",
      "metadata": {
        "colab": {
          "base_uri": "https://localhost:8080/",
          "height": 592
        },
        "id": "BPADK70t2LSc",
        "outputId": "9cb3419e-0ea4-4d67-ed3a-c83ee45e5df3"
      },
      "source": [
        "feat_imp.sort_values(by='Importance').plot(x='Feature', kind='barh', figsize=(12,10));"
      ],
      "execution_count": 526,
      "outputs": [
        {
          "output_type": "display_data",
          "data": {
            "image/png": "[encoded data removed]",
            "text/plain": [
              "<Figure size 864x720 with 1 Axes>"
            ]
          },
          "metadata": {
            "tags": [],
            "needs_background": "light"
          }
        }
      ]
    }
  ]
}