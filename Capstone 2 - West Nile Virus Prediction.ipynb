{
  "nbformat": 4,
  "nbformat_minor": 0,
  "metadata": {
    "colab": {
      "name": "Capstone 2 - West Nile Virus Prediction.ipynb",
      "provenance": [],
      "collapsed_sections": [],
      "authorship_tag": "ABX9TyMcObWrEVFeb+KGXm/LRwL0"
    },
    "kernelspec": {
      "name": "python3",
      "display_name": "Python 3"
    }
  },
  "cells": [
    {
      "cell_type": "markdown",
      "metadata": {
        "id": "xyDXO6uJw805"
      },
      "source": [
        "# **Capstone 2 - West Nile Virus Prediction**<br>"
      ]
    },
    {
      "cell_type": "markdown",
      "metadata": {
        "id": "WbdtKRc4zqIW"
      },
      "source": [
        "West Nile virus (WNV), according to [Centers for Disease Control & Prevention (CDC)](https://www.cdc.gov/westnile/index.html#:~:text=West%20Nile%20virus%20(WNV)%20is,summer%20and%20continues%20through%20fall.), is the leading cause of mosquito-borne disease in the continental United States.  It is most commonly spread to people by the bite of an infected mosquito. WNV usually occurs during mosquito seasons in summer and fall. There are no vaccines to prevent or medications to treat WNV in people.<br>\r\n",
        "\r\n"
      ]
    },
    {
      "cell_type": "markdown",
      "metadata": {
        "id": "3okc9QMHFLPf"
      },
      "source": [
        "**The Problem Statement:**\r\n",
        "\r\n",
        "The objective of this project is to analyze the data provided, build a model and predict if WNV is present at a location in Chicago. "
      ]
    },
    {
      "cell_type": "code",
      "metadata": {
        "id": "x42Nr3V8vAXl"
      },
      "source": [
        "import pandas as pd\r\n",
        "import matplotlib.pyplot as plt\r\n",
        "import seaborn as sns\r\n",
        "import numpy as np\r\n",
        "\r\n",
        "from sklearn.cluster import DBSCAN\r\n",
        "from sklearn.preprocessing import StandardScaler, MinMaxScaler\r\n",
        "from sklearn.model_selection import GridSearchCV, train_test_split\r\n",
        "from sklearn.linear_model import LogisticRegression\r\n",
        "from sklearn.ensemble import RandomForestClassifier\r\n",
        "from sklearn.neighbors import KNeighborsClassifier\r\n",
        "from sklearn.metrics import confusion_matrix, plot_confusion_matrix, recall_score\r\n",
        "from sklearn.metrics import f1_score, accuracy_score, roc_auc_score, plot_roc_curve\r\n",
        "import xgboost as xgb\r\n",
        "from xgboost import XGBClassifier, plot_importance\r\n",
        "from imblearn.over_sampling import SMOTE\r\n",
        "from imblearn.under_sampling import RandomUnderSampler"
      ],
      "execution_count": 882,
      "outputs": []
    },
    {
      "cell_type": "markdown",
      "metadata": {
        "id": "dYful-7_vIfn"
      },
      "source": [
        "## **0) Loading the Data**"
      ]
    },
    {
      "cell_type": "markdown",
      "metadata": {
        "id": "MVTeKLQ8uXIs"
      },
      "source": [
        "Downloading Data from Kaggle into Colab"
      ]
    },
    {
      "cell_type": "code",
      "metadata": {
        "colab": {
          "base_uri": "https://localhost:8080/"
        },
        "id": "tvD9W7HaMeXI",
        "outputId": "4901ee91-b867-415d-e9a9-be95b77e2fd0"
      },
      "source": [
        "from google.colab import drive\r\n",
        "drive.mount('/content/drive')"
      ],
      "execution_count": 883,
      "outputs": [
        {
          "output_type": "stream",
          "text": [
            "Drive already mounted at /content/drive; to attempt to forcibly remount, call drive.mount(\"/content/drive\", force_remount=True).\n"
          ],
          "name": "stdout"
        }
      ]
    },
    {
      "cell_type": "code",
      "metadata": {
        "id": "yCaPmNR1NVD_"
      },
      "source": [
        "#! pip install -q kaggle"
      ],
      "execution_count": 884,
      "outputs": []
    },
    {
      "cell_type": "code",
      "metadata": {
        "id": "CbppZyOFOH21"
      },
      "source": [
        "#import os\r\n",
        "#os.environ['KAGGLE_CONFIG_DIR'] = '/content/drive/MyDrive/Colab Notebooks/Springboard - Data Science Career Track/7 - Capstone 2 - West Nile Virus Prediction/Data'\r\n",
        "#changing the working directory \r\n",
        "#%cd /content/drive/MyDrive/Colab Notebooks/Springboard - Data Science Career Track/7 - Capstone 2 - West Nile Virus Prediction/Data\r\n",
        "\r\n",
        "# Kaggle API command for the dataset\r\n",
        "#! kaggle competitions download -c 'predict-west-nile-virus'"
      ],
      "execution_count": 885,
      "outputs": []
    },
    {
      "cell_type": "code",
      "metadata": {
        "id": "Nw4ET3evOkMb"
      },
      "source": [
        "#check content in the directory\r\n",
        "#!ls"
      ],
      "execution_count": 886,
      "outputs": []
    },
    {
      "cell_type": "code",
      "metadata": {
        "id": "ecQMzqVEuDkZ"
      },
      "source": [
        "#unzipping the zip files and deleting the zip files\r\n",
        "#!unzip \\*.zip  && rm *.zip"
      ],
      "execution_count": 887,
      "outputs": []
    },
    {
      "cell_type": "markdown",
      "metadata": {
        "id": "k01f_bgDvXzA"
      },
      "source": [
        "Checking the initial content of the data"
      ]
    },
    {
      "cell_type": "code",
      "metadata": {
        "id": "CrMVaPBJuItc"
      },
      "source": [
        "#Establish the data directory\r\n",
        "mapdata_txt = '/content/drive/MyDrive/Colab Notebooks/Springboard - Data Science Career Track/7 - Capstone 2 - West Nile Virus Prediction/Data/mapdata_copyright_openstreetmap_contributors.txt'\r\n",
        "spray_org = '/content/drive/MyDrive/Colab Notebooks/Springboard - Data Science Career Track/7 - Capstone 2 - West Nile Virus Prediction/Data/spray.csv'\r\n",
        "test_org = '/content/drive/MyDrive/Colab Notebooks/Springboard - Data Science Career Track/7 - Capstone 2 - West Nile Virus Prediction/Data/test.csv'\r\n",
        "train_org = '/content/drive/MyDrive/Colab Notebooks/Springboard - Data Science Career Track/7 - Capstone 2 - West Nile Virus Prediction/Data/train.csv'\r\n",
        "weather_org = '/content/drive/MyDrive/Colab Notebooks/Springboard - Data Science Career Track/7 - Capstone 2 - West Nile Virus Prediction/Data/weather.csv'"
      ],
      "execution_count": 888,
      "outputs": []
    },
    {
      "cell_type": "code",
      "metadata": {
        "colab": {
          "base_uri": "https://localhost:8080/",
          "height": 417
        },
        "id": "kC5bcwSO14Xh",
        "outputId": "d435e45f-a4ec-41a1-d9db-6c6de95510aa"
      },
      "source": [
        "#train data\r\n",
        "train_raw = pd.read_csv(train_org, parse_dates=['Date'])\r\n",
        "train_raw.head(2).T"
      ],
      "execution_count": 889,
      "outputs": [
        {
          "output_type": "execute_result",
          "data": {
            "text/html": [
              "<div>\n",
              "<style scoped>\n",
              "    .dataframe tbody tr th:only-of-type {\n",
              "        vertical-align: middle;\n",
              "    }\n",
              "\n",
              "    .dataframe tbody tr th {\n",
              "        vertical-align: top;\n",
              "    }\n",
              "\n",
              "    .dataframe thead th {\n",
              "        text-align: right;\n",
              "    }\n",
              "</style>\n",
              "<table border=\"1\" class=\"dataframe\">\n",
              "  <thead>\n",
              "    <tr style=\"text-align: right;\">\n",
              "      <th></th>\n",
              "      <th>0</th>\n",
              "      <th>1</th>\n",
              "    </tr>\n",
              "  </thead>\n",
              "  <tbody>\n",
              "    <tr>\n",
              "      <th>Date</th>\n",
              "      <td>2007-05-29 00:00:00</td>\n",
              "      <td>2007-05-29 00:00:00</td>\n",
              "    </tr>\n",
              "    <tr>\n",
              "      <th>Address</th>\n",
              "      <td>4100 North Oak Park Avenue, Chicago, IL 60634,...</td>\n",
              "      <td>4100 North Oak Park Avenue, Chicago, IL 60634,...</td>\n",
              "    </tr>\n",
              "    <tr>\n",
              "      <th>Species</th>\n",
              "      <td>CULEX PIPIENS/RESTUANS</td>\n",
              "      <td>CULEX RESTUANS</td>\n",
              "    </tr>\n",
              "    <tr>\n",
              "      <th>Block</th>\n",
              "      <td>41</td>\n",
              "      <td>41</td>\n",
              "    </tr>\n",
              "    <tr>\n",
              "      <th>Street</th>\n",
              "      <td>N OAK PARK AVE</td>\n",
              "      <td>N OAK PARK AVE</td>\n",
              "    </tr>\n",
              "    <tr>\n",
              "      <th>Trap</th>\n",
              "      <td>T002</td>\n",
              "      <td>T002</td>\n",
              "    </tr>\n",
              "    <tr>\n",
              "      <th>AddressNumberAndStreet</th>\n",
              "      <td>4100  N OAK PARK AVE, Chicago, IL</td>\n",
              "      <td>4100  N OAK PARK AVE, Chicago, IL</td>\n",
              "    </tr>\n",
              "    <tr>\n",
              "      <th>Latitude</th>\n",
              "      <td>41.9547</td>\n",
              "      <td>41.9547</td>\n",
              "    </tr>\n",
              "    <tr>\n",
              "      <th>Longitude</th>\n",
              "      <td>-87.801</td>\n",
              "      <td>-87.801</td>\n",
              "    </tr>\n",
              "    <tr>\n",
              "      <th>AddressAccuracy</th>\n",
              "      <td>9</td>\n",
              "      <td>9</td>\n",
              "    </tr>\n",
              "    <tr>\n",
              "      <th>NumMosquitos</th>\n",
              "      <td>1</td>\n",
              "      <td>1</td>\n",
              "    </tr>\n",
              "    <tr>\n",
              "      <th>WnvPresent</th>\n",
              "      <td>0</td>\n",
              "      <td>0</td>\n",
              "    </tr>\n",
              "  </tbody>\n",
              "</table>\n",
              "</div>"
            ],
            "text/plain": [
              "                                                                        0                                                  1\n",
              "Date                                                  2007-05-29 00:00:00                                2007-05-29 00:00:00\n",
              "Address                 4100 North Oak Park Avenue, Chicago, IL 60634,...  4100 North Oak Park Avenue, Chicago, IL 60634,...\n",
              "Species                                            CULEX PIPIENS/RESTUANS                                     CULEX RESTUANS\n",
              "Block                                                                  41                                                 41\n",
              "Street                                                     N OAK PARK AVE                                     N OAK PARK AVE\n",
              "Trap                                                                 T002                                               T002\n",
              "AddressNumberAndStreet                  4100  N OAK PARK AVE, Chicago, IL                  4100  N OAK PARK AVE, Chicago, IL\n",
              "Latitude                                                          41.9547                                            41.9547\n",
              "Longitude                                                         -87.801                                            -87.801\n",
              "AddressAccuracy                                                         9                                                  9\n",
              "NumMosquitos                                                            1                                                  1\n",
              "WnvPresent                                                              0                                                  0"
            ]
          },
          "metadata": {
            "tags": []
          },
          "execution_count": 889
        }
      ]
    },
    {
      "cell_type": "code",
      "metadata": {
        "colab": {
          "base_uri": "https://localhost:8080/"
        },
        "id": "3d62MCBTmpNQ",
        "outputId": "c5c8ba79-de07-4807-fa1c-61ca593e4ce1"
      },
      "source": [
        "train_raw.info()"
      ],
      "execution_count": 890,
      "outputs": [
        {
          "output_type": "stream",
          "text": [
            "<class 'pandas.core.frame.DataFrame'>\n",
            "RangeIndex: 10506 entries, 0 to 10505\n",
            "Data columns (total 12 columns):\n",
            " #   Column                  Non-Null Count  Dtype         \n",
            "---  ------                  --------------  -----         \n",
            " 0   Date                    10506 non-null  datetime64[ns]\n",
            " 1   Address                 10506 non-null  object        \n",
            " 2   Species                 10506 non-null  object        \n",
            " 3   Block                   10506 non-null  int64         \n",
            " 4   Street                  10506 non-null  object        \n",
            " 5   Trap                    10506 non-null  object        \n",
            " 6   AddressNumberAndStreet  10506 non-null  object        \n",
            " 7   Latitude                10506 non-null  float64       \n",
            " 8   Longitude               10506 non-null  float64       \n",
            " 9   AddressAccuracy         10506 non-null  int64         \n",
            " 10  NumMosquitos            10506 non-null  int64         \n",
            " 11  WnvPresent              10506 non-null  int64         \n",
            "dtypes: datetime64[ns](1), float64(2), int64(4), object(5)\n",
            "memory usage: 985.1+ KB\n"
          ],
          "name": "stdout"
        }
      ]
    },
    {
      "cell_type": "code",
      "metadata": {
        "colab": {
          "base_uri": "https://localhost:8080/",
          "height": 723
        },
        "id": "ZkDTrYM22Asq",
        "outputId": "1dba0254-0cfa-4736-d4f2-d41b07f3d75c"
      },
      "source": [
        "#weather data\r\n",
        "weather_raw = pd.read_csv(weather_org, parse_dates=['Date'])\r\n",
        "weather_raw.head(2).T"
      ],
      "execution_count": 891,
      "outputs": [
        {
          "output_type": "execute_result",
          "data": {
            "text/html": [
              "<div>\n",
              "<style scoped>\n",
              "    .dataframe tbody tr th:only-of-type {\n",
              "        vertical-align: middle;\n",
              "    }\n",
              "\n",
              "    .dataframe tbody tr th {\n",
              "        vertical-align: top;\n",
              "    }\n",
              "\n",
              "    .dataframe thead th {\n",
              "        text-align: right;\n",
              "    }\n",
              "</style>\n",
              "<table border=\"1\" class=\"dataframe\">\n",
              "  <thead>\n",
              "    <tr style=\"text-align: right;\">\n",
              "      <th></th>\n",
              "      <th>0</th>\n",
              "      <th>1</th>\n",
              "    </tr>\n",
              "  </thead>\n",
              "  <tbody>\n",
              "    <tr>\n",
              "      <th>Station</th>\n",
              "      <td>1</td>\n",
              "      <td>2</td>\n",
              "    </tr>\n",
              "    <tr>\n",
              "      <th>Date</th>\n",
              "      <td>2007-05-01 00:00:00</td>\n",
              "      <td>2007-05-01 00:00:00</td>\n",
              "    </tr>\n",
              "    <tr>\n",
              "      <th>Tmax</th>\n",
              "      <td>83</td>\n",
              "      <td>84</td>\n",
              "    </tr>\n",
              "    <tr>\n",
              "      <th>Tmin</th>\n",
              "      <td>50</td>\n",
              "      <td>52</td>\n",
              "    </tr>\n",
              "    <tr>\n",
              "      <th>Tavg</th>\n",
              "      <td>67</td>\n",
              "      <td>68</td>\n",
              "    </tr>\n",
              "    <tr>\n",
              "      <th>Depart</th>\n",
              "      <td>14</td>\n",
              "      <td>M</td>\n",
              "    </tr>\n",
              "    <tr>\n",
              "      <th>DewPoint</th>\n",
              "      <td>51</td>\n",
              "      <td>51</td>\n",
              "    </tr>\n",
              "    <tr>\n",
              "      <th>WetBulb</th>\n",
              "      <td>56</td>\n",
              "      <td>57</td>\n",
              "    </tr>\n",
              "    <tr>\n",
              "      <th>Heat</th>\n",
              "      <td>0</td>\n",
              "      <td>0</td>\n",
              "    </tr>\n",
              "    <tr>\n",
              "      <th>Cool</th>\n",
              "      <td>2</td>\n",
              "      <td>3</td>\n",
              "    </tr>\n",
              "    <tr>\n",
              "      <th>Sunrise</th>\n",
              "      <td>0448</td>\n",
              "      <td>-</td>\n",
              "    </tr>\n",
              "    <tr>\n",
              "      <th>Sunset</th>\n",
              "      <td>1849</td>\n",
              "      <td>-</td>\n",
              "    </tr>\n",
              "    <tr>\n",
              "      <th>CodeSum</th>\n",
              "      <td></td>\n",
              "      <td></td>\n",
              "    </tr>\n",
              "    <tr>\n",
              "      <th>Depth</th>\n",
              "      <td>0</td>\n",
              "      <td>M</td>\n",
              "    </tr>\n",
              "    <tr>\n",
              "      <th>Water1</th>\n",
              "      <td>M</td>\n",
              "      <td>M</td>\n",
              "    </tr>\n",
              "    <tr>\n",
              "      <th>SnowFall</th>\n",
              "      <td>0.0</td>\n",
              "      <td>M</td>\n",
              "    </tr>\n",
              "    <tr>\n",
              "      <th>PrecipTotal</th>\n",
              "      <td>0.00</td>\n",
              "      <td>0.00</td>\n",
              "    </tr>\n",
              "    <tr>\n",
              "      <th>StnPressure</th>\n",
              "      <td>29.10</td>\n",
              "      <td>29.18</td>\n",
              "    </tr>\n",
              "    <tr>\n",
              "      <th>SeaLevel</th>\n",
              "      <td>29.82</td>\n",
              "      <td>29.82</td>\n",
              "    </tr>\n",
              "    <tr>\n",
              "      <th>ResultSpeed</th>\n",
              "      <td>1.7</td>\n",
              "      <td>2.7</td>\n",
              "    </tr>\n",
              "    <tr>\n",
              "      <th>ResultDir</th>\n",
              "      <td>27</td>\n",
              "      <td>25</td>\n",
              "    </tr>\n",
              "    <tr>\n",
              "      <th>AvgSpeed</th>\n",
              "      <td>9.2</td>\n",
              "      <td>9.6</td>\n",
              "    </tr>\n",
              "  </tbody>\n",
              "</table>\n",
              "</div>"
            ],
            "text/plain": [
              "                               0                    1\n",
              "Station                        1                    2\n",
              "Date         2007-05-01 00:00:00  2007-05-01 00:00:00\n",
              "Tmax                          83                   84\n",
              "Tmin                          50                   52\n",
              "Tavg                          67                   68\n",
              "Depart                        14                    M\n",
              "DewPoint                      51                   51\n",
              "WetBulb                       56                   57\n",
              "Heat                           0                    0\n",
              "Cool                           2                    3\n",
              "Sunrise                     0448                    -\n",
              "Sunset                      1849                    -\n",
              "CodeSum                                              \n",
              "Depth                          0                    M\n",
              "Water1                         M                    M\n",
              "SnowFall                     0.0                    M\n",
              "PrecipTotal                 0.00                 0.00\n",
              "StnPressure                29.10                29.18\n",
              "SeaLevel                   29.82                29.82\n",
              "ResultSpeed                  1.7                  2.7\n",
              "ResultDir                     27                   25\n",
              "AvgSpeed                     9.2                  9.6"
            ]
          },
          "metadata": {
            "tags": []
          },
          "execution_count": 891
        }
      ]
    },
    {
      "cell_type": "code",
      "metadata": {
        "colab": {
          "base_uri": "https://localhost:8080/"
        },
        "id": "U1Z0LOkgnlBJ",
        "outputId": "e530d868-fed9-469e-d6d8-5a7a27fdeabb"
      },
      "source": [
        "weather_raw.info()"
      ],
      "execution_count": 892,
      "outputs": [
        {
          "output_type": "stream",
          "text": [
            "<class 'pandas.core.frame.DataFrame'>\n",
            "RangeIndex: 2944 entries, 0 to 2943\n",
            "Data columns (total 22 columns):\n",
            " #   Column       Non-Null Count  Dtype         \n",
            "---  ------       --------------  -----         \n",
            " 0   Station      2944 non-null   int64         \n",
            " 1   Date         2944 non-null   datetime64[ns]\n",
            " 2   Tmax         2944 non-null   int64         \n",
            " 3   Tmin         2944 non-null   int64         \n",
            " 4   Tavg         2944 non-null   object        \n",
            " 5   Depart       2944 non-null   object        \n",
            " 6   DewPoint     2944 non-null   int64         \n",
            " 7   WetBulb      2944 non-null   object        \n",
            " 8   Heat         2944 non-null   object        \n",
            " 9   Cool         2944 non-null   object        \n",
            " 10  Sunrise      2944 non-null   object        \n",
            " 11  Sunset       2944 non-null   object        \n",
            " 12  CodeSum      2944 non-null   object        \n",
            " 13  Depth        2944 non-null   object        \n",
            " 14  Water1       2944 non-null   object        \n",
            " 15  SnowFall     2944 non-null   object        \n",
            " 16  PrecipTotal  2944 non-null   object        \n",
            " 17  StnPressure  2944 non-null   object        \n",
            " 18  SeaLevel     2944 non-null   object        \n",
            " 19  ResultSpeed  2944 non-null   float64       \n",
            " 20  ResultDir    2944 non-null   int64         \n",
            " 21  AvgSpeed     2944 non-null   object        \n",
            "dtypes: datetime64[ns](1), float64(1), int64(5), object(15)\n",
            "memory usage: 506.1+ KB\n"
          ],
          "name": "stdout"
        }
      ]
    },
    {
      "cell_type": "code",
      "metadata": {
        "colab": {
          "base_uri": "https://localhost:8080/"
        },
        "id": "9hYdB8w7pPdB",
        "outputId": "44bca742-0386-4a33-8c51-c5486875dc2c"
      },
      "source": [
        "train_raw.shape, weather_raw.shape"
      ],
      "execution_count": 893,
      "outputs": [
        {
          "output_type": "execute_result",
          "data": {
            "text/plain": [
              "((10506, 12), (2944, 22))"
            ]
          },
          "metadata": {
            "tags": []
          },
          "execution_count": 893
        }
      ]
    },
    {
      "cell_type": "markdown",
      "metadata": {
        "id": "El2Fp4_aFVhi"
      },
      "source": [
        "## **1) Understanding the Data & Data Cleaning**\r\n",
        "\r\n",
        "\r\n"
      ]
    },
    {
      "cell_type": "markdown",
      "metadata": {
        "id": "UQYbtHr8Frgy"
      },
      "source": [
        "According to National Center for Biotechnology Information, [Culex mosquitoes](https://www.ncbi.nlm.nih.gov/pmc/articles/PMC3485754/) are accepted as the primary global transmission vector. <br>\r\n",
        "\r\n",
        "Comprhensively, these are the mosquito breeds identified by CDC which could cause WNV - \r\n",
        "https://www.cdc.gov/westnile/resources/pdfs/MosquitoSpecies1999-2016.pdf"
      ]
    },
    {
      "cell_type": "markdown",
      "metadata": {
        "id": "8uD-xH9ZHw9O"
      },
      "source": [
        "A few other facts in relation to Culex mosquitoes according to [CDC](https://www.cdc.gov/mosquitoes/about/life-cycles/culex.html):\r\n",
        "\r\n",
        "\r\n",
        "*   It takes 7-10 days for a Culex mosquito egg to develop into an adult Culex mosquito\r\n",
        "*   Adult female mosquitos usually lay eggs in fresh or stagnant water, including barrels, unmaintained swimming pools, puddles, creaks, marsh areas\r\n",
        "*   Once an adult turned from pupa, it flies away. Their flying distance is up to 2 miles (or 3.2 km)\r\n",
        "*   According to [Pestworld](https://www.pestworld.org/pest-guide/mosquitoes/culex-mosquitoes/#:~:text=Culex%20mosquitoes%20are%20usually%20about,active%20at%20dawn%20and%20dusk.), they are most active at dawn or dusk\r\n",
        "\r\n",
        "\r\n",
        "\r\n",
        "\r\n",
        "\r\n"
      ]
    },
    {
      "cell_type": "markdown",
      "metadata": {
        "id": "wkWRvexwDHxh"
      },
      "source": [
        "From the types of mosquitos identified in the dataset, basically all could contributed to WNV. Culex Pipens or Restuans were the most prevailing types of moquitos trapped.\r\n",
        "\r\n"
      ]
    },
    {
      "cell_type": "markdown",
      "metadata": {
        "id": "TniO7MlmNZkw"
      },
      "source": [
        "## **1.1) The Training Data**\r\n",
        "\r\n",
        "\r\n"
      ]
    },
    {
      "cell_type": "code",
      "metadata": {
        "colab": {
          "base_uri": "https://localhost:8080/"
        },
        "id": "kY17BCynsLo8",
        "outputId": "f6c906d1-06ff-4e8c-e6d8-5f42bc31b1e4"
      },
      "source": [
        "#understanding the date range of the training data\r\n",
        "train_raw['Date'].min(), train_raw['Date'].max()"
      ],
      "execution_count": 894,
      "outputs": [
        {
          "output_type": "execute_result",
          "data": {
            "text/plain": [
              "(Timestamp('2007-05-29 00:00:00'), Timestamp('2013-09-26 00:00:00'))"
            ]
          },
          "metadata": {
            "tags": []
          },
          "execution_count": 894
        }
      ]
    },
    {
      "cell_type": "code",
      "metadata": {
        "colab": {
          "base_uri": "https://localhost:8080/"
        },
        "id": "_CBFOWFnvwWE",
        "outputId": "c0f1110a-018c-49fd-c528-e12141fad2d3"
      },
      "source": [
        "#if there are null values in the training data\r\n",
        "train_raw.isnull().sum()"
      ],
      "execution_count": 895,
      "outputs": [
        {
          "output_type": "execute_result",
          "data": {
            "text/plain": [
              "Date                      0\n",
              "Address                   0\n",
              "Species                   0\n",
              "Block                     0\n",
              "Street                    0\n",
              "Trap                      0\n",
              "AddressNumberAndStreet    0\n",
              "Latitude                  0\n",
              "Longitude                 0\n",
              "AddressAccuracy           0\n",
              "NumMosquitos              0\n",
              "WnvPresent                0\n",
              "dtype: int64"
            ]
          },
          "metadata": {
            "tags": []
          },
          "execution_count": 895
        }
      ]
    },
    {
      "cell_type": "code",
      "metadata": {
        "colab": {
          "base_uri": "https://localhost:8080/"
        },
        "id": "UwBrKJIpuQ3f",
        "outputId": "a70192e7-aaa5-460c-e1dc-9c34588ec777"
      },
      "source": [
        "#check for duplicated columns - defined as all records in the row is identical\r\n",
        "train_raw_duplicated = train_raw[train_raw.duplicated()].value_counts().sum()\r\n",
        "total_records = train_raw.index.value_counts().sum()\r\n",
        "print(f'Total number of records: {total_records}')\r\n",
        "print(f'Number of duplicated rows: {train_raw_duplicated}')\r\n",
        "print(f'Percentage of duplicated records: {train_raw_duplicated/ total_records*100:.2f}%')"
      ],
      "execution_count": 896,
      "outputs": [
        {
          "output_type": "stream",
          "text": [
            "Total number of records: 10506\n",
            "Number of duplicated rows: 813\n",
            "Percentage of duplicated records: 7.74%\n"
          ],
          "name": "stdout"
        }
      ]
    },
    {
      "cell_type": "code",
      "metadata": {
        "id": "Gr6L8IYPxMOV"
      },
      "source": [
        "#dropping duplicated columns - keeping last records\r\n",
        "train_raw = train_raw.drop_duplicates(subset=None, keep='first', inplace=False)"
      ],
      "execution_count": 897,
      "outputs": []
    },
    {
      "cell_type": "code",
      "metadata": {
        "colab": {
          "base_uri": "https://localhost:8080/"
        },
        "id": "yaGv9uFY0GNz",
        "outputId": "94d9046c-e482-49e6-87ed-0c98b68aebd9"
      },
      "source": [
        "print(f'Total number of records after dropping duplicates: {train_raw.shape[0]}')"
      ],
      "execution_count": 898,
      "outputs": [
        {
          "output_type": "stream",
          "text": [
            "Total number of records after dropping duplicates: 9693\n"
          ],
          "name": "stdout"
        }
      ]
    },
    {
      "cell_type": "code",
      "metadata": {
        "colab": {
          "base_uri": "https://localhost:8080/",
          "height": 509
        },
        "id": "Atv-6p5_zipQ",
        "outputId": "bd1c5829-6264-46c0-dcb4-88c5d9b5406a"
      },
      "source": [
        "# adding year and month column for future EDA\r\n",
        "train_raw['Year'] = train_raw['Date'].dt.year\r\n",
        "train_raw['Year-Month'] = train_raw['Date'].dt.to_period('M')\r\n",
        "train_raw['Year-Week'] = train_raw['Date'].dt.to_period('W')\r\n",
        "#train_raw['Year-Week'] = train_raw['Date'].dt.strftime('%Y-%W')\r\n",
        "train_raw.head(2).T"
      ],
      "execution_count": 899,
      "outputs": [
        {
          "output_type": "execute_result",
          "data": {
            "text/html": [
              "<div>\n",
              "<style scoped>\n",
              "    .dataframe tbody tr th:only-of-type {\n",
              "        vertical-align: middle;\n",
              "    }\n",
              "\n",
              "    .dataframe tbody tr th {\n",
              "        vertical-align: top;\n",
              "    }\n",
              "\n",
              "    .dataframe thead th {\n",
              "        text-align: right;\n",
              "    }\n",
              "</style>\n",
              "<table border=\"1\" class=\"dataframe\">\n",
              "  <thead>\n",
              "    <tr style=\"text-align: right;\">\n",
              "      <th></th>\n",
              "      <th>0</th>\n",
              "      <th>1</th>\n",
              "    </tr>\n",
              "  </thead>\n",
              "  <tbody>\n",
              "    <tr>\n",
              "      <th>Date</th>\n",
              "      <td>2007-05-29 00:00:00</td>\n",
              "      <td>2007-05-29 00:00:00</td>\n",
              "    </tr>\n",
              "    <tr>\n",
              "      <th>Address</th>\n",
              "      <td>4100 North Oak Park Avenue, Chicago, IL 60634,...</td>\n",
              "      <td>4100 North Oak Park Avenue, Chicago, IL 60634,...</td>\n",
              "    </tr>\n",
              "    <tr>\n",
              "      <th>Species</th>\n",
              "      <td>CULEX PIPIENS/RESTUANS</td>\n",
              "      <td>CULEX RESTUANS</td>\n",
              "    </tr>\n",
              "    <tr>\n",
              "      <th>Block</th>\n",
              "      <td>41</td>\n",
              "      <td>41</td>\n",
              "    </tr>\n",
              "    <tr>\n",
              "      <th>Street</th>\n",
              "      <td>N OAK PARK AVE</td>\n",
              "      <td>N OAK PARK AVE</td>\n",
              "    </tr>\n",
              "    <tr>\n",
              "      <th>Trap</th>\n",
              "      <td>T002</td>\n",
              "      <td>T002</td>\n",
              "    </tr>\n",
              "    <tr>\n",
              "      <th>AddressNumberAndStreet</th>\n",
              "      <td>4100  N OAK PARK AVE, Chicago, IL</td>\n",
              "      <td>4100  N OAK PARK AVE, Chicago, IL</td>\n",
              "    </tr>\n",
              "    <tr>\n",
              "      <th>Latitude</th>\n",
              "      <td>41.9547</td>\n",
              "      <td>41.9547</td>\n",
              "    </tr>\n",
              "    <tr>\n",
              "      <th>Longitude</th>\n",
              "      <td>-87.801</td>\n",
              "      <td>-87.801</td>\n",
              "    </tr>\n",
              "    <tr>\n",
              "      <th>AddressAccuracy</th>\n",
              "      <td>9</td>\n",
              "      <td>9</td>\n",
              "    </tr>\n",
              "    <tr>\n",
              "      <th>NumMosquitos</th>\n",
              "      <td>1</td>\n",
              "      <td>1</td>\n",
              "    </tr>\n",
              "    <tr>\n",
              "      <th>WnvPresent</th>\n",
              "      <td>0</td>\n",
              "      <td>0</td>\n",
              "    </tr>\n",
              "    <tr>\n",
              "      <th>Year</th>\n",
              "      <td>2007</td>\n",
              "      <td>2007</td>\n",
              "    </tr>\n",
              "    <tr>\n",
              "      <th>Year-Month</th>\n",
              "      <td>2007-05</td>\n",
              "      <td>2007-05</td>\n",
              "    </tr>\n",
              "    <tr>\n",
              "      <th>Year-Week</th>\n",
              "      <td>2007-05-28/2007-06-03</td>\n",
              "      <td>2007-05-28/2007-06-03</td>\n",
              "    </tr>\n",
              "  </tbody>\n",
              "</table>\n",
              "</div>"
            ],
            "text/plain": [
              "                                                                        0                                                  1\n",
              "Date                                                  2007-05-29 00:00:00                                2007-05-29 00:00:00\n",
              "Address                 4100 North Oak Park Avenue, Chicago, IL 60634,...  4100 North Oak Park Avenue, Chicago, IL 60634,...\n",
              "Species                                            CULEX PIPIENS/RESTUANS                                     CULEX RESTUANS\n",
              "Block                                                                  41                                                 41\n",
              "Street                                                     N OAK PARK AVE                                     N OAK PARK AVE\n",
              "Trap                                                                 T002                                               T002\n",
              "AddressNumberAndStreet                  4100  N OAK PARK AVE, Chicago, IL                  4100  N OAK PARK AVE, Chicago, IL\n",
              "Latitude                                                          41.9547                                            41.9547\n",
              "Longitude                                                         -87.801                                            -87.801\n",
              "AddressAccuracy                                                         9                                                  9\n",
              "NumMosquitos                                                            1                                                  1\n",
              "WnvPresent                                                              0                                                  0\n",
              "Year                                                                 2007                                               2007\n",
              "Year-Month                                                        2007-05                                            2007-05\n",
              "Year-Week                                           2007-05-28/2007-06-03                              2007-05-28/2007-06-03"
            ]
          },
          "metadata": {
            "tags": []
          },
          "execution_count": 899
        }
      ]
    },
    {
      "cell_type": "code",
      "metadata": {
        "colab": {
          "base_uri": "https://localhost:8080/",
          "height": 321
        },
        "id": "InW-uqGyEnCU",
        "outputId": "39197013-f188-4ecd-fcc8-ce1a5f0ff870"
      },
      "source": [
        "#merging rows with mosquitos in the trap > 50\r\n",
        "train_grouped = train_raw.groupby(['Date', 'Address', 'Species', 'Block', 'Street', 'Trap',\r\n",
        "       'AddressNumberAndStreet', 'Latitude', 'Longitude', 'AddressAccuracy', 'WnvPresent',\r\n",
        "       'Year', 'Year-Month', 'Year-Week'])['NumMosquitos'].sum().reset_index()\r\n",
        "train_grouped.head(2)"
      ],
      "execution_count": 900,
      "outputs": [
        {
          "output_type": "execute_result",
          "data": {
            "text/html": [
              "<div>\n",
              "<style scoped>\n",
              "    .dataframe tbody tr th:only-of-type {\n",
              "        vertical-align: middle;\n",
              "    }\n",
              "\n",
              "    .dataframe tbody tr th {\n",
              "        vertical-align: top;\n",
              "    }\n",
              "\n",
              "    .dataframe thead th {\n",
              "        text-align: right;\n",
              "    }\n",
              "</style>\n",
              "<table border=\"1\" class=\"dataframe\">\n",
              "  <thead>\n",
              "    <tr style=\"text-align: right;\">\n",
              "      <th></th>\n",
              "      <th>Date</th>\n",
              "      <th>Address</th>\n",
              "      <th>Species</th>\n",
              "      <th>Block</th>\n",
              "      <th>Street</th>\n",
              "      <th>Trap</th>\n",
              "      <th>AddressNumberAndStreet</th>\n",
              "      <th>Latitude</th>\n",
              "      <th>Longitude</th>\n",
              "      <th>AddressAccuracy</th>\n",
              "      <th>WnvPresent</th>\n",
              "      <th>Year</th>\n",
              "      <th>Year-Month</th>\n",
              "      <th>Year-Week</th>\n",
              "      <th>NumMosquitos</th>\n",
              "    </tr>\n",
              "  </thead>\n",
              "  <tbody>\n",
              "    <tr>\n",
              "      <th>0</th>\n",
              "      <td>2007-05-29</td>\n",
              "      <td>1100 Roosevelt Road, Chicago, IL 60608, USA</td>\n",
              "      <td>CULEX PIPIENS/RESTUANS</td>\n",
              "      <td>11</td>\n",
              "      <td>W ROOSEVELT</td>\n",
              "      <td>T048</td>\n",
              "      <td>1100  W ROOSEVELT, Chicago, IL</td>\n",
              "      <td>41.867108</td>\n",
              "      <td>-87.654224</td>\n",
              "      <td>8</td>\n",
              "      <td>0</td>\n",
              "      <td>2007</td>\n",
              "      <td>2007-05</td>\n",
              "      <td>2007-05-28/2007-06-03</td>\n",
              "      <td>1</td>\n",
              "    </tr>\n",
              "    <tr>\n",
              "      <th>1</th>\n",
              "      <td>2007-05-29</td>\n",
              "      <td>1100 Roosevelt Road, Chicago, IL 60608, USA</td>\n",
              "      <td>CULEX RESTUANS</td>\n",
              "      <td>11</td>\n",
              "      <td>W ROOSEVELT</td>\n",
              "      <td>T048</td>\n",
              "      <td>1100  W ROOSEVELT, Chicago, IL</td>\n",
              "      <td>41.867108</td>\n",
              "      <td>-87.654224</td>\n",
              "      <td>8</td>\n",
              "      <td>0</td>\n",
              "      <td>2007</td>\n",
              "      <td>2007-05</td>\n",
              "      <td>2007-05-28/2007-06-03</td>\n",
              "      <td>2</td>\n",
              "    </tr>\n",
              "  </tbody>\n",
              "</table>\n",
              "</div>"
            ],
            "text/plain": [
              "        Date  ... NumMosquitos\n",
              "0 2007-05-29  ...            1\n",
              "1 2007-05-29  ...            2\n",
              "\n",
              "[2 rows x 15 columns]"
            ]
          },
          "metadata": {
            "tags": []
          },
          "execution_count": 900
        }
      ]
    },
    {
      "cell_type": "code",
      "metadata": {
        "colab": {
          "base_uri": "https://localhost:8080/"
        },
        "id": "LPXKUE_-M9OM",
        "outputId": "1f43f6d8-e890-4ed3-afe9-8d0e40621978"
      },
      "source": [
        "train_grouped.shape"
      ],
      "execution_count": 901,
      "outputs": [
        {
          "output_type": "execute_result",
          "data": {
            "text/plain": [
              "(8610, 15)"
            ]
          },
          "metadata": {
            "tags": []
          },
          "execution_count": 901
        }
      ]
    },
    {
      "cell_type": "markdown",
      "metadata": {
        "id": "d81yWKcCN9wP"
      },
      "source": [
        "## **1.2) The Weather Data**\r\n",
        "\r\n",
        "\r\n"
      ]
    },
    {
      "cell_type": "code",
      "metadata": {
        "colab": {
          "base_uri": "https://localhost:8080/"
        },
        "id": "TP-ATqrwN9Yo",
        "outputId": "0f026f68-3c55-4d8a-8fb1-29efb39d56c1"
      },
      "source": [
        "#understanding the date range of the weather data\r\n",
        "weather_raw['Date'].min(), weather_raw['Date'].max()"
      ],
      "execution_count": 902,
      "outputs": [
        {
          "output_type": "execute_result",
          "data": {
            "text/plain": [
              "(Timestamp('2007-05-01 00:00:00'), Timestamp('2014-10-31 00:00:00'))"
            ]
          },
          "metadata": {
            "tags": []
          },
          "execution_count": 902
        }
      ]
    },
    {
      "cell_type": "code",
      "metadata": {
        "colab": {
          "base_uri": "https://localhost:8080/"
        },
        "id": "NELFm2WkOh0i",
        "outputId": "66c252d6-5a84-42b2-e2d7-ffa2bd83a0df"
      },
      "source": [
        "#if there are null values in the weather data\r\n",
        "weather_raw.isnull().sum()"
      ],
      "execution_count": 903,
      "outputs": [
        {
          "output_type": "execute_result",
          "data": {
            "text/plain": [
              "Station        0\n",
              "Date           0\n",
              "Tmax           0\n",
              "Tmin           0\n",
              "Tavg           0\n",
              "Depart         0\n",
              "DewPoint       0\n",
              "WetBulb        0\n",
              "Heat           0\n",
              "Cool           0\n",
              "Sunrise        0\n",
              "Sunset         0\n",
              "CodeSum        0\n",
              "Depth          0\n",
              "Water1         0\n",
              "SnowFall       0\n",
              "PrecipTotal    0\n",
              "StnPressure    0\n",
              "SeaLevel       0\n",
              "ResultSpeed    0\n",
              "ResultDir      0\n",
              "AvgSpeed       0\n",
              "dtype: int64"
            ]
          },
          "metadata": {
            "tags": []
          },
          "execution_count": 903
        }
      ]
    },
    {
      "cell_type": "code",
      "metadata": {
        "colab": {
          "base_uri": "https://localhost:8080/"
        },
        "id": "GfuXfS8xOhlY",
        "outputId": "51260de5-b05c-40a8-fa1f-3c4c9b97f300"
      },
      "source": [
        "#check for duplicated columns - defined as all records in the row is identical\r\n",
        "weather_raw_duplicated = weather_raw[weather_raw.duplicated()].value_counts().sum()\r\n",
        "print(f'Number of duplicated rows: {weather_raw_duplicated}')"
      ],
      "execution_count": 904,
      "outputs": [
        {
          "output_type": "stream",
          "text": [
            "Number of duplicated rows: 0\n"
          ],
          "name": "stdout"
        }
      ]
    },
    {
      "cell_type": "code",
      "metadata": {
        "colab": {
          "base_uri": "https://localhost:8080/"
        },
        "id": "4N7OIB4ifYBG",
        "outputId": "0fad06ed-81e9-4216-ab88-d3174f04cacc"
      },
      "source": [
        "weather_raw.shape"
      ],
      "execution_count": 905,
      "outputs": [
        {
          "output_type": "execute_result",
          "data": {
            "text/plain": [
              "(2944, 22)"
            ]
          },
          "metadata": {
            "tags": []
          },
          "execution_count": 905
        }
      ]
    },
    {
      "cell_type": "code",
      "metadata": {
        "colab": {
          "base_uri": "https://localhost:8080/"
        },
        "id": "MV5I_N_-evBA",
        "outputId": "30d67a09-74b7-4cf7-d462-b0cd16d7a8b5"
      },
      "source": [
        "#check for missing data where value 'M' identified in a column\r\n",
        "weather_raw.isin(['M']).sum()"
      ],
      "execution_count": 906,
      "outputs": [
        {
          "output_type": "execute_result",
          "data": {
            "text/plain": [
              "Station           0\n",
              "Date              0\n",
              "Tmax              0\n",
              "Tmin              0\n",
              "Tavg             11\n",
              "Depart         1472\n",
              "DewPoint          0\n",
              "WetBulb           4\n",
              "Heat             11\n",
              "Cool             11\n",
              "Sunrise           0\n",
              "Sunset            0\n",
              "CodeSum           0\n",
              "Depth          1472\n",
              "Water1         2944\n",
              "SnowFall       1472\n",
              "PrecipTotal       2\n",
              "StnPressure       4\n",
              "SeaLevel          9\n",
              "ResultSpeed       0\n",
              "ResultDir         0\n",
              "AvgSpeed          3\n",
              "dtype: int64"
            ]
          },
          "metadata": {
            "tags": []
          },
          "execution_count": 906
        }
      ]
    },
    {
      "cell_type": "markdown",
      "metadata": {
        "id": "XprWOnvElKRi"
      },
      "source": [
        "As there are two different weather stations, checking to see if the dataset differs if being split by stations."
      ]
    },
    {
      "cell_type": "code",
      "metadata": {
        "id": "a59N3ZTjlSGR"
      },
      "source": [
        "station_1 = weather_raw[weather_raw['Station']==1]\r\n",
        "station_2 = weather_raw[weather_raw['Station']==2]"
      ],
      "execution_count": 907,
      "outputs": []
    },
    {
      "cell_type": "code",
      "metadata": {
        "colab": {
          "base_uri": "https://localhost:8080/"
        },
        "id": "67MX4KpIlrpw",
        "outputId": "0b02b9dd-8dfa-469a-d663-1fcbecfa6b9b"
      },
      "source": [
        "station_1.isin(['M']).sum()"
      ],
      "execution_count": 908,
      "outputs": [
        {
          "output_type": "execute_result",
          "data": {
            "text/plain": [
              "Station           0\n",
              "Date              0\n",
              "Tmax              0\n",
              "Tmin              0\n",
              "Tavg              0\n",
              "Depart            0\n",
              "DewPoint          0\n",
              "WetBulb           3\n",
              "Heat              0\n",
              "Cool              0\n",
              "Sunrise           0\n",
              "Sunset            0\n",
              "CodeSum           0\n",
              "Depth             0\n",
              "Water1         1472\n",
              "SnowFall          0\n",
              "PrecipTotal       0\n",
              "StnPressure       2\n",
              "SeaLevel          5\n",
              "ResultSpeed       0\n",
              "ResultDir         0\n",
              "AvgSpeed          0\n",
              "dtype: int64"
            ]
          },
          "metadata": {
            "tags": []
          },
          "execution_count": 908
        }
      ]
    },
    {
      "cell_type": "code",
      "metadata": {
        "colab": {
          "base_uri": "https://localhost:8080/"
        },
        "id": "5U1NK9sklwYd",
        "outputId": "8b25d37c-d90a-4981-c630-39a4d19e959a"
      },
      "source": [
        "station_2.isin(['M']).sum()"
      ],
      "execution_count": 909,
      "outputs": [
        {
          "output_type": "execute_result",
          "data": {
            "text/plain": [
              "Station           0\n",
              "Date              0\n",
              "Tmax              0\n",
              "Tmin              0\n",
              "Tavg             11\n",
              "Depart         1472\n",
              "DewPoint          0\n",
              "WetBulb           1\n",
              "Heat             11\n",
              "Cool             11\n",
              "Sunrise           0\n",
              "Sunset            0\n",
              "CodeSum           0\n",
              "Depth          1472\n",
              "Water1         1472\n",
              "SnowFall       1472\n",
              "PrecipTotal       2\n",
              "StnPressure       2\n",
              "SeaLevel          4\n",
              "ResultSpeed       0\n",
              "ResultDir         0\n",
              "AvgSpeed          3\n",
              "dtype: int64"
            ]
          },
          "metadata": {
            "tags": []
          },
          "execution_count": 909
        }
      ]
    },
    {
      "cell_type": "markdown",
      "metadata": {
        "id": "P-G9-IDNC9AB"
      },
      "source": [
        "Most items missing in station 2 exists in station one, for filling in missing data, suggesting to bring forward info already existed in station 1 by forward fill. First step will require cleaning missing data under station 1."
      ]
    },
    {
      "cell_type": "code",
      "metadata": {
        "colab": {
          "base_uri": "https://localhost:8080/"
        },
        "id": "VBdWUheLEANl",
        "outputId": "d3685c9a-7fe2-468c-9aa7-4a203af6a864"
      },
      "source": [
        "station_1.info()"
      ],
      "execution_count": 910,
      "outputs": [
        {
          "output_type": "stream",
          "text": [
            "<class 'pandas.core.frame.DataFrame'>\n",
            "Int64Index: 1472 entries, 0 to 2942\n",
            "Data columns (total 22 columns):\n",
            " #   Column       Non-Null Count  Dtype         \n",
            "---  ------       --------------  -----         \n",
            " 0   Station      1472 non-null   int64         \n",
            " 1   Date         1472 non-null   datetime64[ns]\n",
            " 2   Tmax         1472 non-null   int64         \n",
            " 3   Tmin         1472 non-null   int64         \n",
            " 4   Tavg         1472 non-null   object        \n",
            " 5   Depart       1472 non-null   object        \n",
            " 6   DewPoint     1472 non-null   int64         \n",
            " 7   WetBulb      1472 non-null   object        \n",
            " 8   Heat         1472 non-null   object        \n",
            " 9   Cool         1472 non-null   object        \n",
            " 10  Sunrise      1472 non-null   object        \n",
            " 11  Sunset       1472 non-null   object        \n",
            " 12  CodeSum      1472 non-null   object        \n",
            " 13  Depth        1472 non-null   object        \n",
            " 14  Water1       1472 non-null   object        \n",
            " 15  SnowFall     1472 non-null   object        \n",
            " 16  PrecipTotal  1472 non-null   object        \n",
            " 17  StnPressure  1472 non-null   object        \n",
            " 18  SeaLevel     1472 non-null   object        \n",
            " 19  ResultSpeed  1472 non-null   float64       \n",
            " 20  ResultDir    1472 non-null   int64         \n",
            " 21  AvgSpeed     1472 non-null   object        \n",
            "dtypes: datetime64[ns](1), float64(1), int64(5), object(15)\n",
            "memory usage: 264.5+ KB\n"
          ],
          "name": "stdout"
        }
      ]
    },
    {
      "cell_type": "code",
      "metadata": {
        "colab": {
          "base_uri": "https://localhost:8080/"
        },
        "id": "PEWnHOpmDxpb",
        "outputId": "61271bae-a0da-49bc-a92f-5bcfc510505a"
      },
      "source": [
        "# filling in missing value from station 1\r\n",
        "station_1['WetBulb'] = station_1['WetBulb'].replace('M',0).astype(float)\r\n",
        "station_1['StnPressure'] = station_1['StnPressure'].replace('M',0).astype(float)\r\n",
        "station_1['SeaLevel'] = station_1['SeaLevel'].replace('M',0).astype(float)\r\n",
        "\r\n",
        "#clean up - in sunrise/ sunset column\r\n",
        "weather_raw['Sunrise'] = weather_raw['Sunrise'].replace('-', np.nan)\r\n",
        "weather_raw['Sunset'] = weather_raw['Sunset'].replace('-', np.nan)\r\n",
        "\r\n",
        "#clean up \"Trace\" amount in the data for PrecipTotal\r\n",
        "weather_raw['PrecipTotal'] = weather_raw['PrecipTotal'].replace('M', 0)\r\n",
        "weather_raw['PrecipTotal'] = weather_raw['PrecipTotal'].replace('  T', 0.01)"
      ],
      "execution_count": 911,
      "outputs": [
        {
          "output_type": "stream",
          "text": [
            "/usr/local/lib/python3.7/dist-packages/ipykernel_launcher.py:2: SettingWithCopyWarning: \n",
            "A value is trying to be set on a copy of a slice from a DataFrame.\n",
            "Try using .loc[row_indexer,col_indexer] = value instead\n",
            "\n",
            "See the caveats in the documentation: https://pandas.pydata.org/pandas-docs/stable/user_guide/indexing.html#returning-a-view-versus-a-copy\n",
            "  \n",
            "/usr/local/lib/python3.7/dist-packages/ipykernel_launcher.py:3: SettingWithCopyWarning: \n",
            "A value is trying to be set on a copy of a slice from a DataFrame.\n",
            "Try using .loc[row_indexer,col_indexer] = value instead\n",
            "\n",
            "See the caveats in the documentation: https://pandas.pydata.org/pandas-docs/stable/user_guide/indexing.html#returning-a-view-versus-a-copy\n",
            "  This is separate from the ipykernel package so we can avoid doing imports until\n",
            "/usr/local/lib/python3.7/dist-packages/ipykernel_launcher.py:4: SettingWithCopyWarning: \n",
            "A value is trying to be set on a copy of a slice from a DataFrame.\n",
            "Try using .loc[row_indexer,col_indexer] = value instead\n",
            "\n",
            "See the caveats in the documentation: https://pandas.pydata.org/pandas-docs/stable/user_guide/indexing.html#returning-a-view-versus-a-copy\n",
            "  after removing the cwd from sys.path.\n"
          ],
          "name": "stderr"
        }
      ]
    },
    {
      "cell_type": "code",
      "metadata": {
        "id": "W5v57NSbDGuh"
      },
      "source": [
        "# replace M for missing values to NaN\r\n",
        "weather_raw = weather_raw.replace('M', np.nan)"
      ],
      "execution_count": 912,
      "outputs": []
    },
    {
      "cell_type": "code",
      "metadata": {
        "id": "cPGdH-rlDiJ2"
      },
      "source": [
        "# forward fill missing values from station 1\r\n",
        "weather_raw = weather_raw.ffill(axis=1)"
      ],
      "execution_count": 913,
      "outputs": []
    },
    {
      "cell_type": "code",
      "metadata": {
        "id": "cx-pXzW1fvAs"
      },
      "source": [
        "#dropping columns Depth, Snowfall related data and CodeSum for now\r\n",
        "weather = weather_raw.drop(['Depth', 'Water1', 'SnowFall', 'CodeSum'], axis=1)"
      ],
      "execution_count": 914,
      "outputs": []
    },
    {
      "cell_type": "code",
      "metadata": {
        "id": "0on0Yg5mHDo_"
      },
      "source": [
        "# changing dtype from object to float\r\n",
        "column_headers = weather.select_dtypes(include='object').columns.tolist()\r\n",
        "\r\n",
        "for header in column_headers:\r\n",
        "  weather[header] = weather[header].astype(float)"
      ],
      "execution_count": 915,
      "outputs": []
    },
    {
      "cell_type": "code",
      "metadata": {
        "colab": {
          "base_uri": "https://localhost:8080/"
        },
        "id": "qsUblOoaKUo5",
        "outputId": "b870319e-8f3b-47b3-f68e-0fa009271c8c"
      },
      "source": [
        "weather.info()"
      ],
      "execution_count": 916,
      "outputs": [
        {
          "output_type": "stream",
          "text": [
            "<class 'pandas.core.frame.DataFrame'>\n",
            "RangeIndex: 2944 entries, 0 to 2943\n",
            "Data columns (total 18 columns):\n",
            " #   Column       Non-Null Count  Dtype         \n",
            "---  ------       --------------  -----         \n",
            " 0   Station      2944 non-null   float64       \n",
            " 1   Date         2944 non-null   datetime64[ns]\n",
            " 2   Tmax         2944 non-null   float64       \n",
            " 3   Tmin         2944 non-null   float64       \n",
            " 4   Tavg         2944 non-null   float64       \n",
            " 5   Depart       2944 non-null   float64       \n",
            " 6   DewPoint     2944 non-null   float64       \n",
            " 7   WetBulb      2944 non-null   float64       \n",
            " 8   Heat         2944 non-null   float64       \n",
            " 9   Cool         2944 non-null   float64       \n",
            " 10  Sunrise      2944 non-null   float64       \n",
            " 11  Sunset       2944 non-null   float64       \n",
            " 12  PrecipTotal  2944 non-null   float64       \n",
            " 13  StnPressure  2944 non-null   float64       \n",
            " 14  SeaLevel     2944 non-null   float64       \n",
            " 15  ResultSpeed  2944 non-null   float64       \n",
            " 16  ResultDir    2944 non-null   float64       \n",
            " 17  AvgSpeed     2944 non-null   float64       \n",
            "dtypes: datetime64[ns](1), float64(17)\n",
            "memory usage: 414.1 KB\n"
          ],
          "name": "stdout"
        }
      ]
    },
    {
      "cell_type": "code",
      "metadata": {
        "colab": {
          "base_uri": "https://localhost:8080/",
          "height": 309
        },
        "id": "OSXFUXj7buha",
        "outputId": "44148e86-ecee-4922-c53c-eb1b6484d2b4"
      },
      "source": [
        "weather.head()"
      ],
      "execution_count": 917,
      "outputs": [
        {
          "output_type": "execute_result",
          "data": {
            "text/html": [
              "<div>\n",
              "<style scoped>\n",
              "    .dataframe tbody tr th:only-of-type {\n",
              "        vertical-align: middle;\n",
              "    }\n",
              "\n",
              "    .dataframe tbody tr th {\n",
              "        vertical-align: top;\n",
              "    }\n",
              "\n",
              "    .dataframe thead th {\n",
              "        text-align: right;\n",
              "    }\n",
              "</style>\n",
              "<table border=\"1\" class=\"dataframe\">\n",
              "  <thead>\n",
              "    <tr style=\"text-align: right;\">\n",
              "      <th></th>\n",
              "      <th>Station</th>\n",
              "      <th>Date</th>\n",
              "      <th>Tmax</th>\n",
              "      <th>Tmin</th>\n",
              "      <th>Tavg</th>\n",
              "      <th>Depart</th>\n",
              "      <th>DewPoint</th>\n",
              "      <th>WetBulb</th>\n",
              "      <th>Heat</th>\n",
              "      <th>Cool</th>\n",
              "      <th>Sunrise</th>\n",
              "      <th>Sunset</th>\n",
              "      <th>PrecipTotal</th>\n",
              "      <th>StnPressure</th>\n",
              "      <th>SeaLevel</th>\n",
              "      <th>ResultSpeed</th>\n",
              "      <th>ResultDir</th>\n",
              "      <th>AvgSpeed</th>\n",
              "    </tr>\n",
              "  </thead>\n",
              "  <tbody>\n",
              "    <tr>\n",
              "      <th>0</th>\n",
              "      <td>1.0</td>\n",
              "      <td>2007-05-01</td>\n",
              "      <td>83.0</td>\n",
              "      <td>50.0</td>\n",
              "      <td>67.0</td>\n",
              "      <td>14.0</td>\n",
              "      <td>51.0</td>\n",
              "      <td>56.0</td>\n",
              "      <td>0.0</td>\n",
              "      <td>2.0</td>\n",
              "      <td>448.0</td>\n",
              "      <td>1849.0</td>\n",
              "      <td>0.0</td>\n",
              "      <td>29.10</td>\n",
              "      <td>29.82</td>\n",
              "      <td>1.7</td>\n",
              "      <td>27.0</td>\n",
              "      <td>9.2</td>\n",
              "    </tr>\n",
              "    <tr>\n",
              "      <th>1</th>\n",
              "      <td>2.0</td>\n",
              "      <td>2007-05-01</td>\n",
              "      <td>84.0</td>\n",
              "      <td>52.0</td>\n",
              "      <td>68.0</td>\n",
              "      <td>68.0</td>\n",
              "      <td>51.0</td>\n",
              "      <td>57.0</td>\n",
              "      <td>0.0</td>\n",
              "      <td>3.0</td>\n",
              "      <td>3.0</td>\n",
              "      <td>3.0</td>\n",
              "      <td>0.0</td>\n",
              "      <td>29.18</td>\n",
              "      <td>29.82</td>\n",
              "      <td>2.7</td>\n",
              "      <td>25.0</td>\n",
              "      <td>9.6</td>\n",
              "    </tr>\n",
              "    <tr>\n",
              "      <th>2</th>\n",
              "      <td>1.0</td>\n",
              "      <td>2007-05-02</td>\n",
              "      <td>59.0</td>\n",
              "      <td>42.0</td>\n",
              "      <td>51.0</td>\n",
              "      <td>-3.0</td>\n",
              "      <td>42.0</td>\n",
              "      <td>47.0</td>\n",
              "      <td>14.0</td>\n",
              "      <td>0.0</td>\n",
              "      <td>447.0</td>\n",
              "      <td>1850.0</td>\n",
              "      <td>0.0</td>\n",
              "      <td>29.38</td>\n",
              "      <td>30.09</td>\n",
              "      <td>13.0</td>\n",
              "      <td>4.0</td>\n",
              "      <td>13.4</td>\n",
              "    </tr>\n",
              "    <tr>\n",
              "      <th>3</th>\n",
              "      <td>2.0</td>\n",
              "      <td>2007-05-02</td>\n",
              "      <td>60.0</td>\n",
              "      <td>43.0</td>\n",
              "      <td>52.0</td>\n",
              "      <td>52.0</td>\n",
              "      <td>42.0</td>\n",
              "      <td>47.0</td>\n",
              "      <td>13.0</td>\n",
              "      <td>0.0</td>\n",
              "      <td>0.0</td>\n",
              "      <td>0.0</td>\n",
              "      <td>0.0</td>\n",
              "      <td>29.44</td>\n",
              "      <td>30.08</td>\n",
              "      <td>13.3</td>\n",
              "      <td>2.0</td>\n",
              "      <td>13.4</td>\n",
              "    </tr>\n",
              "    <tr>\n",
              "      <th>4</th>\n",
              "      <td>1.0</td>\n",
              "      <td>2007-05-03</td>\n",
              "      <td>66.0</td>\n",
              "      <td>46.0</td>\n",
              "      <td>56.0</td>\n",
              "      <td>2.0</td>\n",
              "      <td>40.0</td>\n",
              "      <td>48.0</td>\n",
              "      <td>9.0</td>\n",
              "      <td>0.0</td>\n",
              "      <td>446.0</td>\n",
              "      <td>1851.0</td>\n",
              "      <td>0.0</td>\n",
              "      <td>29.39</td>\n",
              "      <td>30.12</td>\n",
              "      <td>11.7</td>\n",
              "      <td>7.0</td>\n",
              "      <td>11.9</td>\n",
              "    </tr>\n",
              "  </tbody>\n",
              "</table>\n",
              "</div>"
            ],
            "text/plain": [
              "   Station       Date  Tmax  Tmin  ...  SeaLevel  ResultSpeed  ResultDir  AvgSpeed\n",
              "0      1.0 2007-05-01  83.0  50.0  ...     29.82          1.7       27.0       9.2\n",
              "1      2.0 2007-05-01  84.0  52.0  ...     29.82          2.7       25.0       9.6\n",
              "2      1.0 2007-05-02  59.0  42.0  ...     30.09         13.0        4.0      13.4\n",
              "3      2.0 2007-05-02  60.0  43.0  ...     30.08         13.3        2.0      13.4\n",
              "4      1.0 2007-05-03  66.0  46.0  ...     30.12         11.7        7.0      11.9\n",
              "\n",
              "[5 rows x 18 columns]"
            ]
          },
          "metadata": {
            "tags": []
          },
          "execution_count": 917
        }
      ]
    },
    {
      "cell_type": "code",
      "metadata": {
        "colab": {
          "base_uri": "https://localhost:8080/"
        },
        "id": "9qhWxJcoiX8F",
        "outputId": "7a34d9ea-bb6a-479f-80f3-dcdf34b93d1a"
      },
      "source": [
        "#averaging the weather data across the 2 stations, as such, it can be merged with the training data\r\n",
        "weather_agg = pd.pivot_table(weather,index=['Date'],aggfunc=np.mean)\r\n",
        "weather_agg.shape"
      ],
      "execution_count": 918,
      "outputs": [
        {
          "output_type": "execute_result",
          "data": {
            "text/plain": [
              "(1472, 17)"
            ]
          },
          "metadata": {
            "tags": []
          },
          "execution_count": 918
        }
      ]
    },
    {
      "cell_type": "markdown",
      "metadata": {
        "id": "h83bJgSppN8g"
      },
      "source": [
        "## **1.3) Merging Training & Weather Data Together**\r\n",
        "\r\n",
        "\r\n"
      ]
    },
    {
      "cell_type": "code",
      "metadata": {
        "id": "NQBqsF9CiX1N"
      },
      "source": [
        "#merging train_raw & weather_agg together\r\n",
        "df_raw = train_grouped.merge(weather_agg, on='Date')"
      ],
      "execution_count": 919,
      "outputs": []
    },
    {
      "cell_type": "code",
      "metadata": {
        "colab": {
          "base_uri": "https://localhost:8080/",
          "height": 1000
        },
        "id": "3okiB_ckiXtb",
        "outputId": "eb55d7d7-11e5-4748-b67a-8c8408c28dd8"
      },
      "source": [
        "df_raw.head(2).T"
      ],
      "execution_count": 920,
      "outputs": [
        {
          "output_type": "execute_result",
          "data": {
            "text/html": [
              "<div>\n",
              "<style scoped>\n",
              "    .dataframe tbody tr th:only-of-type {\n",
              "        vertical-align: middle;\n",
              "    }\n",
              "\n",
              "    .dataframe tbody tr th {\n",
              "        vertical-align: top;\n",
              "    }\n",
              "\n",
              "    .dataframe thead th {\n",
              "        text-align: right;\n",
              "    }\n",
              "</style>\n",
              "<table border=\"1\" class=\"dataframe\">\n",
              "  <thead>\n",
              "    <tr style=\"text-align: right;\">\n",
              "      <th></th>\n",
              "      <th>0</th>\n",
              "      <th>1</th>\n",
              "    </tr>\n",
              "  </thead>\n",
              "  <tbody>\n",
              "    <tr>\n",
              "      <th>Date</th>\n",
              "      <td>2007-05-29 00:00:00</td>\n",
              "      <td>2007-05-29 00:00:00</td>\n",
              "    </tr>\n",
              "    <tr>\n",
              "      <th>Address</th>\n",
              "      <td>1100 Roosevelt Road, Chicago, IL 60608, USA</td>\n",
              "      <td>1100 Roosevelt Road, Chicago, IL 60608, USA</td>\n",
              "    </tr>\n",
              "    <tr>\n",
              "      <th>Species</th>\n",
              "      <td>CULEX PIPIENS/RESTUANS</td>\n",
              "      <td>CULEX RESTUANS</td>\n",
              "    </tr>\n",
              "    <tr>\n",
              "      <th>Block</th>\n",
              "      <td>11</td>\n",
              "      <td>11</td>\n",
              "    </tr>\n",
              "    <tr>\n",
              "      <th>Street</th>\n",
              "      <td>W ROOSEVELT</td>\n",
              "      <td>W ROOSEVELT</td>\n",
              "    </tr>\n",
              "    <tr>\n",
              "      <th>Trap</th>\n",
              "      <td>T048</td>\n",
              "      <td>T048</td>\n",
              "    </tr>\n",
              "    <tr>\n",
              "      <th>AddressNumberAndStreet</th>\n",
              "      <td>1100  W ROOSEVELT, Chicago, IL</td>\n",
              "      <td>1100  W ROOSEVELT, Chicago, IL</td>\n",
              "    </tr>\n",
              "    <tr>\n",
              "      <th>Latitude</th>\n",
              "      <td>41.8671</td>\n",
              "      <td>41.8671</td>\n",
              "    </tr>\n",
              "    <tr>\n",
              "      <th>Longitude</th>\n",
              "      <td>-87.6542</td>\n",
              "      <td>-87.6542</td>\n",
              "    </tr>\n",
              "    <tr>\n",
              "      <th>AddressAccuracy</th>\n",
              "      <td>8</td>\n",
              "      <td>8</td>\n",
              "    </tr>\n",
              "    <tr>\n",
              "      <th>WnvPresent</th>\n",
              "      <td>0</td>\n",
              "      <td>0</td>\n",
              "    </tr>\n",
              "    <tr>\n",
              "      <th>Year</th>\n",
              "      <td>2007</td>\n",
              "      <td>2007</td>\n",
              "    </tr>\n",
              "    <tr>\n",
              "      <th>Year-Month</th>\n",
              "      <td>2007-05</td>\n",
              "      <td>2007-05</td>\n",
              "    </tr>\n",
              "    <tr>\n",
              "      <th>Year-Week</th>\n",
              "      <td>2007-05-28/2007-06-03</td>\n",
              "      <td>2007-05-28/2007-06-03</td>\n",
              "    </tr>\n",
              "    <tr>\n",
              "      <th>NumMosquitos</th>\n",
              "      <td>1</td>\n",
              "      <td>2</td>\n",
              "    </tr>\n",
              "    <tr>\n",
              "      <th>AvgSpeed</th>\n",
              "      <td>6.95</td>\n",
              "      <td>6.95</td>\n",
              "    </tr>\n",
              "    <tr>\n",
              "      <th>Cool</th>\n",
              "      <td>10.5</td>\n",
              "      <td>10.5</td>\n",
              "    </tr>\n",
              "    <tr>\n",
              "      <th>Depart</th>\n",
              "      <td>43.5</td>\n",
              "      <td>43.5</td>\n",
              "    </tr>\n",
              "    <tr>\n",
              "      <th>DewPoint</th>\n",
              "      <td>58.5</td>\n",
              "      <td>58.5</td>\n",
              "    </tr>\n",
              "    <tr>\n",
              "      <th>Heat</th>\n",
              "      <td>0</td>\n",
              "      <td>0</td>\n",
              "    </tr>\n",
              "    <tr>\n",
              "      <th>PrecipTotal</th>\n",
              "      <td>0</td>\n",
              "      <td>0</td>\n",
              "    </tr>\n",
              "    <tr>\n",
              "      <th>ResultDir</th>\n",
              "      <td>17</td>\n",
              "      <td>17</td>\n",
              "    </tr>\n",
              "    <tr>\n",
              "      <th>ResultSpeed</th>\n",
              "      <td>5.8</td>\n",
              "      <td>5.8</td>\n",
              "    </tr>\n",
              "    <tr>\n",
              "      <th>SeaLevel</th>\n",
              "      <td>30.1</td>\n",
              "      <td>30.1</td>\n",
              "    </tr>\n",
              "    <tr>\n",
              "      <th>Station</th>\n",
              "      <td>1.5</td>\n",
              "      <td>1.5</td>\n",
              "    </tr>\n",
              "    <tr>\n",
              "      <th>StnPressure</th>\n",
              "      <td>29.415</td>\n",
              "      <td>29.415</td>\n",
              "    </tr>\n",
              "    <tr>\n",
              "      <th>Sunrise</th>\n",
              "      <td>216.5</td>\n",
              "      <td>216.5</td>\n",
              "    </tr>\n",
              "    <tr>\n",
              "      <th>Sunset</th>\n",
              "      <td>964.5</td>\n",
              "      <td>964.5</td>\n",
              "    </tr>\n",
              "    <tr>\n",
              "      <th>Tavg</th>\n",
              "      <td>75.5</td>\n",
              "      <td>75.5</td>\n",
              "    </tr>\n",
              "    <tr>\n",
              "      <th>Tmax</th>\n",
              "      <td>88</td>\n",
              "      <td>88</td>\n",
              "    </tr>\n",
              "    <tr>\n",
              "      <th>Tmin</th>\n",
              "      <td>62.5</td>\n",
              "      <td>62.5</td>\n",
              "    </tr>\n",
              "    <tr>\n",
              "      <th>WetBulb</th>\n",
              "      <td>65.5</td>\n",
              "      <td>65.5</td>\n",
              "    </tr>\n",
              "  </tbody>\n",
              "</table>\n",
              "</div>"
            ],
            "text/plain": [
              "                                                                  0                                            1\n",
              "Date                                            2007-05-29 00:00:00                          2007-05-29 00:00:00\n",
              "Address                 1100 Roosevelt Road, Chicago, IL 60608, USA  1100 Roosevelt Road, Chicago, IL 60608, USA\n",
              "Species                                      CULEX PIPIENS/RESTUANS                               CULEX RESTUANS\n",
              "Block                                                            11                                           11\n",
              "Street                                                  W ROOSEVELT                                  W ROOSEVELT\n",
              "Trap                                                           T048                                         T048\n",
              "AddressNumberAndStreet               1100  W ROOSEVELT, Chicago, IL               1100  W ROOSEVELT, Chicago, IL\n",
              "Latitude                                                    41.8671                                      41.8671\n",
              "Longitude                                                  -87.6542                                     -87.6542\n",
              "AddressAccuracy                                                   8                                            8\n",
              "WnvPresent                                                        0                                            0\n",
              "Year                                                           2007                                         2007\n",
              "Year-Month                                                  2007-05                                      2007-05\n",
              "Year-Week                                     2007-05-28/2007-06-03                        2007-05-28/2007-06-03\n",
              "NumMosquitos                                                      1                                            2\n",
              "AvgSpeed                                                       6.95                                         6.95\n",
              "Cool                                                           10.5                                         10.5\n",
              "Depart                                                         43.5                                         43.5\n",
              "DewPoint                                                       58.5                                         58.5\n",
              "Heat                                                              0                                            0\n",
              "PrecipTotal                                                       0                                            0\n",
              "ResultDir                                                        17                                           17\n",
              "ResultSpeed                                                     5.8                                          5.8\n",
              "SeaLevel                                                       30.1                                         30.1\n",
              "Station                                                         1.5                                          1.5\n",
              "StnPressure                                                  29.415                                       29.415\n",
              "Sunrise                                                       216.5                                        216.5\n",
              "Sunset                                                        964.5                                        964.5\n",
              "Tavg                                                           75.5                                         75.5\n",
              "Tmax                                                             88                                           88\n",
              "Tmin                                                           62.5                                         62.5\n",
              "WetBulb                                                        65.5                                         65.5"
            ]
          },
          "metadata": {
            "tags": []
          },
          "execution_count": 920
        }
      ]
    },
    {
      "cell_type": "code",
      "metadata": {
        "colab": {
          "base_uri": "https://localhost:8080/"
        },
        "id": "uYqju7Hhsq2k",
        "outputId": "c89f9252-94d1-4bb9-e331-1d0ceae24c61"
      },
      "source": [
        "df_raw.columns"
      ],
      "execution_count": 921,
      "outputs": [
        {
          "output_type": "execute_result",
          "data": {
            "text/plain": [
              "Index(['Date', 'Address', 'Species', 'Block', 'Street', 'Trap',\n",
              "       'AddressNumberAndStreet', 'Latitude', 'Longitude', 'AddressAccuracy',\n",
              "       'WnvPresent', 'Year', 'Year-Month', 'Year-Week', 'NumMosquitos',\n",
              "       'AvgSpeed', 'Cool', 'Depart', 'DewPoint', 'Heat', 'PrecipTotal',\n",
              "       'ResultDir', 'ResultSpeed', 'SeaLevel', 'Station', 'StnPressure',\n",
              "       'Sunrise', 'Sunset', 'Tavg', 'Tmax', 'Tmin', 'WetBulb'],\n",
              "      dtype='object')"
            ]
          },
          "metadata": {
            "tags": []
          },
          "execution_count": 921
        }
      ]
    },
    {
      "cell_type": "code",
      "metadata": {
        "colab": {
          "base_uri": "https://localhost:8080/"
        },
        "id": "uqQ4Z_yrBXRK",
        "outputId": "f8f197f8-274c-4fc5-fdf1-0a942ac59422"
      },
      "source": [
        "# double check data merged correctly and number of unique values in each column\r\n",
        "items = df_raw.columns.tolist()\r\n",
        "for item in items:\r\n",
        "  print(item, ':', df_raw[item].nunique())"
      ],
      "execution_count": 922,
      "outputs": [
        {
          "output_type": "stream",
          "text": [
            "Date : 95\n",
            "Address : 138\n",
            "Species : 7\n",
            "Block : 64\n",
            "Street : 128\n",
            "Trap : 136\n",
            "AddressNumberAndStreet : 138\n",
            "Latitude : 138\n",
            "Longitude : 138\n",
            "AddressAccuracy : 4\n",
            "WnvPresent : 2\n",
            "Year : 4\n",
            "Year-Month : 20\n",
            "Year-Week : 65\n",
            "NumMosquitos : 161\n",
            "AvgSpeed : 75\n",
            "Cool : 33\n",
            "Depart : 45\n",
            "DewPoint : 53\n",
            "Heat : 14\n",
            "PrecipTotal : 32\n",
            "ResultDir : 54\n",
            "ResultSpeed : 80\n",
            "SeaLevel : 64\n",
            "Station : 1\n",
            "StnPressure : 61\n",
            "Sunrise : 62\n",
            "Sunset : 68\n",
            "Tavg : 46\n",
            "Tmax : 49\n",
            "Tmin : 48\n",
            "WetBulb : 47\n"
          ],
          "name": "stdout"
        }
      ]
    },
    {
      "cell_type": "code",
      "metadata": {
        "id": "hNhcKwCgrVk9"
      },
      "source": [
        "#dropping columns which may not facilitate further analysis\r\n",
        "df = df_raw.drop(['Address', 'Block', 'Street', 'AddressNumberAndStreet', 'Station'], axis=1)"
      ],
      "execution_count": 923,
      "outputs": []
    },
    {
      "cell_type": "code",
      "metadata": {
        "colab": {
          "base_uri": "https://localhost:8080/"
        },
        "id": "q1Ax3ZHPlLRo",
        "outputId": "77fd8841-ccfb-43ce-b0b5-d8adb5ab3c2c"
      },
      "source": [
        "df.info()"
      ],
      "execution_count": 924,
      "outputs": [
        {
          "output_type": "stream",
          "text": [
            "<class 'pandas.core.frame.DataFrame'>\n",
            "Int64Index: 8610 entries, 0 to 8609\n",
            "Data columns (total 27 columns):\n",
            " #   Column           Non-Null Count  Dtype         \n",
            "---  ------           --------------  -----         \n",
            " 0   Date             8610 non-null   datetime64[ns]\n",
            " 1   Species          8610 non-null   object        \n",
            " 2   Trap             8610 non-null   object        \n",
            " 3   Latitude         8610 non-null   float64       \n",
            " 4   Longitude        8610 non-null   float64       \n",
            " 5   AddressAccuracy  8610 non-null   int64         \n",
            " 6   WnvPresent       8610 non-null   int64         \n",
            " 7   Year             8610 non-null   int64         \n",
            " 8   Year-Month       8610 non-null   period[M]     \n",
            " 9   Year-Week        8610 non-null   period[W-SUN] \n",
            " 10  NumMosquitos     8610 non-null   int64         \n",
            " 11  AvgSpeed         8610 non-null   float64       \n",
            " 12  Cool             8610 non-null   float64       \n",
            " 13  Depart           8610 non-null   float64       \n",
            " 14  DewPoint         8610 non-null   float64       \n",
            " 15  Heat             8610 non-null   float64       \n",
            " 16  PrecipTotal      8610 non-null   float64       \n",
            " 17  ResultDir        8610 non-null   float64       \n",
            " 18  ResultSpeed      8610 non-null   float64       \n",
            " 19  SeaLevel         8610 non-null   float64       \n",
            " 20  StnPressure      8610 non-null   float64       \n",
            " 21  Sunrise          8610 non-null   float64       \n",
            " 22  Sunset           8610 non-null   float64       \n",
            " 23  Tavg             8610 non-null   float64       \n",
            " 24  Tmax             8610 non-null   float64       \n",
            " 25  Tmin             8610 non-null   float64       \n",
            " 26  WetBulb          8610 non-null   float64       \n",
            "dtypes: datetime64[ns](1), float64(18), int64(4), object(2), period[M](1), period[W-SUN](1)\n",
            "memory usage: 1.8+ MB\n"
          ],
          "name": "stdout"
        }
      ]
    },
    {
      "cell_type": "code",
      "metadata": {
        "colab": {
          "base_uri": "https://localhost:8080/",
          "height": 499
        },
        "id": "z4wRhOZ77PLX",
        "outputId": "40a0b7a7-a0c7-41de-a62e-54a0232b9f7a"
      },
      "source": [
        "df.head()"
      ],
      "execution_count": 925,
      "outputs": [
        {
          "output_type": "execute_result",
          "data": {
            "text/html": [
              "<div>\n",
              "<style scoped>\n",
              "    .dataframe tbody tr th:only-of-type {\n",
              "        vertical-align: middle;\n",
              "    }\n",
              "\n",
              "    .dataframe tbody tr th {\n",
              "        vertical-align: top;\n",
              "    }\n",
              "\n",
              "    .dataframe thead th {\n",
              "        text-align: right;\n",
              "    }\n",
              "</style>\n",
              "<table border=\"1\" class=\"dataframe\">\n",
              "  <thead>\n",
              "    <tr style=\"text-align: right;\">\n",
              "      <th></th>\n",
              "      <th>Date</th>\n",
              "      <th>Species</th>\n",
              "      <th>Trap</th>\n",
              "      <th>Latitude</th>\n",
              "      <th>Longitude</th>\n",
              "      <th>AddressAccuracy</th>\n",
              "      <th>WnvPresent</th>\n",
              "      <th>Year</th>\n",
              "      <th>Year-Month</th>\n",
              "      <th>Year-Week</th>\n",
              "      <th>NumMosquitos</th>\n",
              "      <th>AvgSpeed</th>\n",
              "      <th>Cool</th>\n",
              "      <th>Depart</th>\n",
              "      <th>DewPoint</th>\n",
              "      <th>Heat</th>\n",
              "      <th>PrecipTotal</th>\n",
              "      <th>ResultDir</th>\n",
              "      <th>ResultSpeed</th>\n",
              "      <th>SeaLevel</th>\n",
              "      <th>StnPressure</th>\n",
              "      <th>Sunrise</th>\n",
              "      <th>Sunset</th>\n",
              "      <th>Tavg</th>\n",
              "      <th>Tmax</th>\n",
              "      <th>Tmin</th>\n",
              "      <th>WetBulb</th>\n",
              "    </tr>\n",
              "  </thead>\n",
              "  <tbody>\n",
              "    <tr>\n",
              "      <th>0</th>\n",
              "      <td>2007-05-29</td>\n",
              "      <td>CULEX PIPIENS/RESTUANS</td>\n",
              "      <td>T048</td>\n",
              "      <td>41.867108</td>\n",
              "      <td>-87.654224</td>\n",
              "      <td>8</td>\n",
              "      <td>0</td>\n",
              "      <td>2007</td>\n",
              "      <td>2007-05</td>\n",
              "      <td>2007-05-28/2007-06-03</td>\n",
              "      <td>1</td>\n",
              "      <td>6.95</td>\n",
              "      <td>10.5</td>\n",
              "      <td>43.5</td>\n",
              "      <td>58.5</td>\n",
              "      <td>0.0</td>\n",
              "      <td>0.0</td>\n",
              "      <td>17.0</td>\n",
              "      <td>5.8</td>\n",
              "      <td>30.1</td>\n",
              "      <td>29.415</td>\n",
              "      <td>216.5</td>\n",
              "      <td>964.5</td>\n",
              "      <td>75.5</td>\n",
              "      <td>88.0</td>\n",
              "      <td>62.5</td>\n",
              "      <td>65.5</td>\n",
              "    </tr>\n",
              "    <tr>\n",
              "      <th>1</th>\n",
              "      <td>2007-05-29</td>\n",
              "      <td>CULEX RESTUANS</td>\n",
              "      <td>T048</td>\n",
              "      <td>41.867108</td>\n",
              "      <td>-87.654224</td>\n",
              "      <td>8</td>\n",
              "      <td>0</td>\n",
              "      <td>2007</td>\n",
              "      <td>2007-05</td>\n",
              "      <td>2007-05-28/2007-06-03</td>\n",
              "      <td>2</td>\n",
              "      <td>6.95</td>\n",
              "      <td>10.5</td>\n",
              "      <td>43.5</td>\n",
              "      <td>58.5</td>\n",
              "      <td>0.0</td>\n",
              "      <td>0.0</td>\n",
              "      <td>17.0</td>\n",
              "      <td>5.8</td>\n",
              "      <td>30.1</td>\n",
              "      <td>29.415</td>\n",
              "      <td>216.5</td>\n",
              "      <td>964.5</td>\n",
              "      <td>75.5</td>\n",
              "      <td>88.0</td>\n",
              "      <td>62.5</td>\n",
              "      <td>65.5</td>\n",
              "    </tr>\n",
              "    <tr>\n",
              "      <th>2</th>\n",
              "      <td>2007-05-29</td>\n",
              "      <td>CULEX RESTUANS</td>\n",
              "      <td>T091</td>\n",
              "      <td>41.862292</td>\n",
              "      <td>-87.648860</td>\n",
              "      <td>8</td>\n",
              "      <td>0</td>\n",
              "      <td>2007</td>\n",
              "      <td>2007-05</td>\n",
              "      <td>2007-05-28/2007-06-03</td>\n",
              "      <td>1</td>\n",
              "      <td>6.95</td>\n",
              "      <td>10.5</td>\n",
              "      <td>43.5</td>\n",
              "      <td>58.5</td>\n",
              "      <td>0.0</td>\n",
              "      <td>0.0</td>\n",
              "      <td>17.0</td>\n",
              "      <td>5.8</td>\n",
              "      <td>30.1</td>\n",
              "      <td>29.415</td>\n",
              "      <td>216.5</td>\n",
              "      <td>964.5</td>\n",
              "      <td>75.5</td>\n",
              "      <td>88.0</td>\n",
              "      <td>62.5</td>\n",
              "      <td>65.5</td>\n",
              "    </tr>\n",
              "    <tr>\n",
              "      <th>3</th>\n",
              "      <td>2007-05-29</td>\n",
              "      <td>CULEX RESTUANS</td>\n",
              "      <td>T049</td>\n",
              "      <td>41.896282</td>\n",
              "      <td>-87.655232</td>\n",
              "      <td>8</td>\n",
              "      <td>0</td>\n",
              "      <td>2007</td>\n",
              "      <td>2007-05</td>\n",
              "      <td>2007-05-28/2007-06-03</td>\n",
              "      <td>1</td>\n",
              "      <td>6.95</td>\n",
              "      <td>10.5</td>\n",
              "      <td>43.5</td>\n",
              "      <td>58.5</td>\n",
              "      <td>0.0</td>\n",
              "      <td>0.0</td>\n",
              "      <td>17.0</td>\n",
              "      <td>5.8</td>\n",
              "      <td>30.1</td>\n",
              "      <td>29.415</td>\n",
              "      <td>216.5</td>\n",
              "      <td>964.5</td>\n",
              "      <td>75.5</td>\n",
              "      <td>88.0</td>\n",
              "      <td>62.5</td>\n",
              "      <td>65.5</td>\n",
              "    </tr>\n",
              "    <tr>\n",
              "      <th>4</th>\n",
              "      <td>2007-05-29</td>\n",
              "      <td>CULEX RESTUANS</td>\n",
              "      <td>T153</td>\n",
              "      <td>41.907645</td>\n",
              "      <td>-87.760886</td>\n",
              "      <td>8</td>\n",
              "      <td>0</td>\n",
              "      <td>2007</td>\n",
              "      <td>2007-05</td>\n",
              "      <td>2007-05-28/2007-06-03</td>\n",
              "      <td>1</td>\n",
              "      <td>6.95</td>\n",
              "      <td>10.5</td>\n",
              "      <td>43.5</td>\n",
              "      <td>58.5</td>\n",
              "      <td>0.0</td>\n",
              "      <td>0.0</td>\n",
              "      <td>17.0</td>\n",
              "      <td>5.8</td>\n",
              "      <td>30.1</td>\n",
              "      <td>29.415</td>\n",
              "      <td>216.5</td>\n",
              "      <td>964.5</td>\n",
              "      <td>75.5</td>\n",
              "      <td>88.0</td>\n",
              "      <td>62.5</td>\n",
              "      <td>65.5</td>\n",
              "    </tr>\n",
              "  </tbody>\n",
              "</table>\n",
              "</div>"
            ],
            "text/plain": [
              "        Date                 Species  Trap  ...  Tmax  Tmin  WetBulb\n",
              "0 2007-05-29  CULEX PIPIENS/RESTUANS  T048  ...  88.0  62.5     65.5\n",
              "1 2007-05-29          CULEX RESTUANS  T048  ...  88.0  62.5     65.5\n",
              "2 2007-05-29          CULEX RESTUANS  T091  ...  88.0  62.5     65.5\n",
              "3 2007-05-29          CULEX RESTUANS  T049  ...  88.0  62.5     65.5\n",
              "4 2007-05-29          CULEX RESTUANS  T153  ...  88.0  62.5     65.5\n",
              "\n",
              "[5 rows x 27 columns]"
            ]
          },
          "metadata": {
            "tags": []
          },
          "execution_count": 925
        }
      ]
    },
    {
      "cell_type": "code",
      "metadata": {
        "colab": {
          "base_uri": "https://localhost:8080/"
        },
        "id": "gBenTDcyqnk6",
        "outputId": "ccacc1e1-3525-4c72-fb60-0691c8bd4c64"
      },
      "source": [
        "df.shape"
      ],
      "execution_count": 926,
      "outputs": [
        {
          "output_type": "execute_result",
          "data": {
            "text/plain": [
              "(8610, 27)"
            ]
          },
          "metadata": {
            "tags": []
          },
          "execution_count": 926
        }
      ]
    },
    {
      "cell_type": "markdown",
      "metadata": {
        "id": "Ii8t5C-3rbEr"
      },
      "source": [
        "## **2) EDA & Visualization**\r\n",
        "\r\n",
        "\r\n"
      ]
    },
    {
      "cell_type": "code",
      "metadata": {
        "colab": {
          "base_uri": "https://localhost:8080/",
          "height": 313
        },
        "id": "AT5kKCszXVGK",
        "outputId": "3326a3e9-d2cc-482b-da62-67e23a456704"
      },
      "source": [
        "#presence of mosquitos across years\r\n",
        "sns.barplot(x='Year', y='NumMosquitos', data=df, palette='Blues_d')\r\n",
        "plt.title('Presence of Mosquitos in Chicago (2007-2013)')"
      ],
      "execution_count": 927,
      "outputs": [
        {
          "output_type": "execute_result",
          "data": {
            "text/plain": [
              "Text(0.5, 1.0, 'Presence of Mosquitos in Chicago (2007-2013)')"
            ]
          },
          "metadata": {
            "tags": []
          },
          "execution_count": 927
        },
        {
          "output_type": "display_data",
          "data": {
            "image/png": "[encoded data removed]",
            "text/plain": [
              "<Figure size 432x288 with 1 Axes>"
            ]
          },
          "metadata": {
            "tags": [],
            "needs_background": "light"
          }
        }
      ]
    },
    {
      "cell_type": "code",
      "metadata": {
        "colab": {
          "base_uri": "https://localhost:8080/",
          "height": 299
        },
        "id": "l9e5GpwhDLxp",
        "outputId": "4a1bd25e-6175-4640-f9a3-d20d58c9d2e7"
      },
      "source": [
        "#Types of mosquitos discovered in the traps\r\n",
        "df['Species'].value_counts().sort_values().plot(kind='barh')\r\n",
        "plt.title('Types of Mosquitos Recorded in the Traps')"
      ],
      "execution_count": 928,
      "outputs": [
        {
          "output_type": "execute_result",
          "data": {
            "text/plain": [
              "Text(0.5, 1.0, 'Types of Mosquitos Recorded in the Traps')"
            ]
          },
          "metadata": {
            "tags": []
          },
          "execution_count": 928
        },
        {
          "output_type": "display_data",
          "data": {
            "image/png": "[encoded data removed]",
            "text/plain": [
              "<Figure size 432x288 with 1 Axes>"
            ]
          },
          "metadata": {
            "tags": [],
            "needs_background": "light"
          }
        }
      ]
    },
    {
      "cell_type": "code",
      "metadata": {
        "colab": {
          "base_uri": "https://localhost:8080/",
          "height": 299
        },
        "id": "3FYKLgJrtgyu",
        "outputId": "1fe57482-052c-4d3a-c7c1-209e0376000c"
      },
      "source": [
        "# Types of mosquitos identified where Wnv is positive\r\n",
        "Wnv_present = df['Species'].where(df['WnvPresent']==1)\r\n",
        "Wnv_present.value_counts().sort_values().plot(kind='barh')\r\n",
        "plt.title('Types of Mosquitos in Wnv Positive Samples')"
      ],
      "execution_count": 929,
      "outputs": [
        {
          "output_type": "execute_result",
          "data": {
            "text/plain": [
              "Text(0.5, 1.0, 'Types of Mosquitos in Wnv Positive Samples')"
            ]
          },
          "metadata": {
            "tags": []
          },
          "execution_count": 929
        },
        {
          "output_type": "display_data",
          "data": {
            "image/png": "[encoded data removed]",
            "text/plain": [
              "<Figure size 432x288 with 1 Axes>"
            ]
          },
          "metadata": {
            "tags": [],
            "needs_background": "light"
          }
        }
      ]
    },
    {
      "cell_type": "code",
      "metadata": {
        "colab": {
          "base_uri": "https://localhost:8080/",
          "height": 281
        },
        "id": "y-1fvPyWvguY",
        "outputId": "e735388b-ef79-4fb7-ec30-bc291a663faf"
      },
      "source": [
        "#Presence of WnV\r\n",
        "labels = ['0', 'Wnv Present'] \r\n",
        "df['WnvPresent'].value_counts().plot(kind='pie', labels=labels, autopct='%.2f%%')\r\n",
        "plt.title('% Samples with West Nile Virus')"
      ],
      "execution_count": 930,
      "outputs": [
        {
          "output_type": "execute_result",
          "data": {
            "text/plain": [
              "Text(0.5, 1.0, '% Samples with West Nile Virus')"
            ]
          },
          "metadata": {
            "tags": []
          },
          "execution_count": 930
        },
        {
          "output_type": "display_data",
          "data": {
            "image/png": "[encoded data removed]",
            "text/plain": [
              "<Figure size 432x288 with 1 Axes>"
            ]
          },
          "metadata": {
            "tags": []
          }
        }
      ]
    },
    {
      "cell_type": "markdown",
      "metadata": {
        "id": "blk7czMJwem8"
      },
      "source": [
        "The data suggests that Culex Pipens or Restuans were the mosquito breeds which causes Wnv in Chicago area."
      ]
    },
    {
      "cell_type": "markdown",
      "metadata": {
        "id": "xDeMIlTG8C08"
      },
      "source": [
        "## **3) Pre-Processing & Modelling**\r\n",
        "\r\n",
        "\r\n"
      ]
    },
    {
      "cell_type": "markdown",
      "metadata": {
        "id": "1FYwHAzC8FgW"
      },
      "source": [
        "## **3.1) Features Engineering**\r\n",
        "\r\n",
        "\r\n"
      ]
    },
    {
      "cell_type": "markdown",
      "metadata": {
        "id": "agVZUl5kMl-1"
      },
      "source": [
        "This section focuses on cleaning up and building new features from the dataset to facilitate further modelling. In summary, these tasks will be performed to improve the features to be used for model prediction: <br>\r\n",
        "\r\n",
        "\r\n",
        "*   *Mosquito types* - one hot coding mosquito breeds. Breeds which contributes to Wnv will be coded while non-Wnv breeds will be classified into \"others\".\r\n",
        "*   *Latitude and Longitude* - asigning clusters to make sense of the lon/ lat numeric features\r\n",
        "*   Transforming Sunrise & Sunset timestamps into daylight duration\r\n",
        "*   Adding new features by transofmring existing features in the dataset (e.g. max temperature + precipitation)\r\n",
        "\r\n",
        "\r\n"
      ]
    },
    {
      "cell_type": "markdown",
      "metadata": {
        "id": "0wRJhhPBz2yC"
      },
      "source": [
        "**3.1.1) Hot coding Mosquito Types**"
      ]
    },
    {
      "cell_type": "code",
      "metadata": {
        "colab": {
          "base_uri": "https://localhost:8080/"
        },
        "id": "Fkf2OMKNMu32",
        "outputId": "5288e956-a831-4392-f09b-20f7e601569a"
      },
      "source": [
        "df['Species'].unique()"
      ],
      "execution_count": 931,
      "outputs": [
        {
          "output_type": "execute_result",
          "data": {
            "text/plain": [
              "array(['CULEX PIPIENS/RESTUANS', 'CULEX RESTUANS', 'CULEX PIPIENS',\n",
              "       'CULEX SALINARIUS', 'CULEX TERRITANS', 'CULEX TARSALIS',\n",
              "       'CULEX ERRATICUS'], dtype=object)"
            ]
          },
          "metadata": {
            "tags": []
          },
          "execution_count": 931
        }
      ]
    },
    {
      "cell_type": "code",
      "metadata": {
        "id": "nM9s2g38M7hE"
      },
      "source": [
        "df['Species'] = df['Species'].replace(['CULEX SALINARIUS', 'CULEX TERRITANS', 'CULEX TARSALIS', 'CULEX ERRATICUS'], 'OTHERS')"
      ],
      "execution_count": 932,
      "outputs": []
    },
    {
      "cell_type": "code",
      "metadata": {
        "colab": {
          "base_uri": "https://localhost:8080/",
          "height": 202
        },
        "id": "2sFx9tCHeYJE",
        "outputId": "29dc9999-6493-4e55-825c-05e542044d27"
      },
      "source": [
        "#one hot coding mosquito types\r\n",
        "mos_code = pd.get_dummies(df['Species'], prefix= 'Species')\r\n",
        "mos_code.head()"
      ],
      "execution_count": 933,
      "outputs": [
        {
          "output_type": "execute_result",
          "data": {
            "text/html": [
              "<div>\n",
              "<style scoped>\n",
              "    .dataframe tbody tr th:only-of-type {\n",
              "        vertical-align: middle;\n",
              "    }\n",
              "\n",
              "    .dataframe tbody tr th {\n",
              "        vertical-align: top;\n",
              "    }\n",
              "\n",
              "    .dataframe thead th {\n",
              "        text-align: right;\n",
              "    }\n",
              "</style>\n",
              "<table border=\"1\" class=\"dataframe\">\n",
              "  <thead>\n",
              "    <tr style=\"text-align: right;\">\n",
              "      <th></th>\n",
              "      <th>Species_CULEX PIPIENS</th>\n",
              "      <th>Species_CULEX PIPIENS/RESTUANS</th>\n",
              "      <th>Species_CULEX RESTUANS</th>\n",
              "      <th>Species_OTHERS</th>\n",
              "    </tr>\n",
              "  </thead>\n",
              "  <tbody>\n",
              "    <tr>\n",
              "      <th>0</th>\n",
              "      <td>0</td>\n",
              "      <td>1</td>\n",
              "      <td>0</td>\n",
              "      <td>0</td>\n",
              "    </tr>\n",
              "    <tr>\n",
              "      <th>1</th>\n",
              "      <td>0</td>\n",
              "      <td>0</td>\n",
              "      <td>1</td>\n",
              "      <td>0</td>\n",
              "    </tr>\n",
              "    <tr>\n",
              "      <th>2</th>\n",
              "      <td>0</td>\n",
              "      <td>0</td>\n",
              "      <td>1</td>\n",
              "      <td>0</td>\n",
              "    </tr>\n",
              "    <tr>\n",
              "      <th>3</th>\n",
              "      <td>0</td>\n",
              "      <td>0</td>\n",
              "      <td>1</td>\n",
              "      <td>0</td>\n",
              "    </tr>\n",
              "    <tr>\n",
              "      <th>4</th>\n",
              "      <td>0</td>\n",
              "      <td>0</td>\n",
              "      <td>1</td>\n",
              "      <td>0</td>\n",
              "    </tr>\n",
              "  </tbody>\n",
              "</table>\n",
              "</div>"
            ],
            "text/plain": [
              "   Species_CULEX PIPIENS  ...  Species_OTHERS\n",
              "0                      0  ...               0\n",
              "1                      0  ...               0\n",
              "2                      0  ...               0\n",
              "3                      0  ...               0\n",
              "4                      0  ...               0\n",
              "\n",
              "[5 rows x 4 columns]"
            ]
          },
          "metadata": {
            "tags": []
          },
          "execution_count": 933
        }
      ]
    },
    {
      "cell_type": "code",
      "metadata": {
        "id": "T-d5qD0o1wc_"
      },
      "source": [
        "# changing dtype from object to int\r\n",
        "column_headers = mos_code.columns.tolist()\r\n",
        "\r\n",
        "for header in column_headers:\r\n",
        "  mos_code[header] = mos_code[header].astype(int)"
      ],
      "execution_count": 934,
      "outputs": []
    },
    {
      "cell_type": "code",
      "metadata": {
        "id": "lxKK56f3z-Av"
      },
      "source": [
        "#join the dataframes together\r\n",
        "df = df.join(mos_code, how='outer')"
      ],
      "execution_count": 935,
      "outputs": []
    },
    {
      "cell_type": "markdown",
      "metadata": {
        "id": "q5McPgGJ1Omu"
      },
      "source": [
        "**3.1.2) Transforming Latitude and Longitude data into Clusters**"
      ]
    },
    {
      "cell_type": "markdown",
      "metadata": {
        "id": "2WZTNXjA1e11"
      },
      "source": [
        "DBscan has been chosen as the method to perform clustering on the lon/ lat data, as it differentiates high-density vs low-desnity points. "
      ]
    },
    {
      "cell_type": "code",
      "metadata": {
        "id": "uN8w1fUp5HsD"
      },
      "source": [
        "#clustering the lon/lat data \r\n",
        "coords = df[['Longitude', 'Latitude']].to_numpy()\r\n",
        "dbscan = DBSCAN(eps=2/6371., min_samples=10, algorithm='ball_tree', metric='haversine')\r\n",
        "clusters = pd.DataFrame(dbscan.fit_predict(coords))\r\n",
        "df['Cluster'] = clusters"
      ],
      "execution_count": 936,
      "outputs": []
    },
    {
      "cell_type": "markdown",
      "metadata": {
        "id": "EQcLMXU9biwI"
      },
      "source": [
        "**3.1.3) Transforming Sunrise and Sunset timestamps into daylight duration**"
      ]
    },
    {
      "cell_type": "code",
      "metadata": {
        "id": "tR9x_JHlbgfq"
      },
      "source": [
        "#calculating the daylight duration\r\n",
        "\r\n",
        "#cleaning up the timestamps\r\n",
        "df['Daylight_raw'] = df['Sunset']-df['Sunrise']\r\n",
        "df['Hours of daylight'] = df['Daylight_raw']//100\r\n",
        "df['Minute'] = df['Daylight_raw']%100\r\n",
        "\r\n",
        "#convert numbers into minutes\r\n",
        "df['Daylight minutes'] = df['Hours of daylight']*60 + df['Minute']\r\n",
        "\r\n",
        "#cleaning up the columns\r\n",
        "df.drop(['Daylight_raw', 'Hours of daylight', 'Minute'], axis=1, inplace=True)"
      ],
      "execution_count": 937,
      "outputs": []
    },
    {
      "cell_type": "markdown",
      "metadata": {
        "id": "nwE1liHIxKSI"
      },
      "source": [
        "**3.1.4) Adding additional features into the dataset for further exploratory analysis:**\r\n",
        "\r\n",
        "*   Maximum Temperature and precipitation\r\n",
        "*   Maximum Temperature and pressure\r\n",
        "*   Windspeed and wind direction\r\n",
        "*   Relative Humidity\r\n",
        "\r\n",
        "\r\n",
        "\r\n",
        "\r\n",
        "\r\n",
        "\r\n",
        "\r\n",
        "\r\n",
        "\r\n",
        "\r\n"
      ]
    },
    {
      "cell_type": "code",
      "metadata": {
        "id": "GZjj7SJmYnyh"
      },
      "source": [
        "# Max Temp and precipitation\r\n",
        "df['Tmax_Precip'] = df['Tmax']*df['PrecipTotal']\r\n",
        "\r\n",
        "# Max Temp and pressure\r\n",
        "df['Tmax_StnPressure'] = df['Tmax']*df['StnPressure']\r\n",
        "\r\n",
        "# Precipitation, windspeed and direction\r\n",
        "df['Speed_dir'] = df['ResultSpeed']*df['ResultDir']"
      ],
      "execution_count": 938,
      "outputs": []
    },
    {
      "cell_type": "code",
      "metadata": {
        "id": "fbzgvpSDiKLI"
      },
      "source": [
        "#scaling the newly added features\r\n",
        "scaler = MinMaxScaler()\r\n",
        "df[['Tmax_Precip', 'Tmax_StnPressure', 'Speed_dir']] = scaler.fit_transform(df[['Tmax_Precip', 'Tmax_StnPressure', 'Speed_dir']])"
      ],
      "execution_count": 939,
      "outputs": []
    },
    {
      "cell_type": "markdown",
      "metadata": {
        "id": "8u7p8PzlzBb3"
      },
      "source": [
        "Calculating Relative Humidity (RH) from Dew Point and Temperature Data<br>\r\n",
        "\r\n",
        "E = 6.11*10.0**(7.5 * Dew Point Temp./(237.7 + Dew Point Temp.))<br>\r\n",
        "Es = 6.11*10.0**(7.5 * Temp./(237.7 + Temp.))<br>\r\n",
        "Rh = (E/Es)*100 --> to convert to percentage"
      ]
    },
    {
      "cell_type": "code",
      "metadata": {
        "id": "ah6G-rmFtcl0"
      },
      "source": [
        "#calculating relative humidity\r\n",
        "df['Rh'] = ((6.11*10.0**(7.5*df['DewPoint']/(237.7+df['DewPoint'])))/(6.11*10.0**(7.5*df['Tavg']/(237.7+df['Tavg']))))"
      ],
      "execution_count": 940,
      "outputs": []
    },
    {
      "cell_type": "code",
      "metadata": {
        "colab": {
          "base_uri": "https://localhost:8080/",
          "height": 799
        },
        "id": "QnfTtPrVgNf3",
        "outputId": "9807b11b-a88d-4475-91ac-237eee30085b"
      },
      "source": [
        "#understanding the correlation between the features\r\n",
        "matrix = np.triu(df.corr())\r\n",
        "plt.figure(figsize=(22,12))\r\n",
        "plt.title('Correlation Among Different Features')\r\n",
        "sns.heatmap(df.corr(), annot=True, mask=matrix)"
      ],
      "execution_count": 941,
      "outputs": [
        {
          "output_type": "execute_result",
          "data": {
            "text/plain": [
              "<matplotlib.axes._subplots.AxesSubplot at 0x7fe58929b0d0>"
            ]
          },
          "metadata": {
            "tags": []
          },
          "execution_count": 941
        },
        {
          "output_type": "display_data",
          "data": {
            "image/png": "[encoded data removed]",
            "text/plain": [
              "<Figure size 1584x864 with 2 Axes>"
            ]
          },
          "metadata": {
            "tags": [],
            "needs_background": "light"
          }
        }
      ]
    },
    {
      "cell_type": "markdown",
      "metadata": {
        "id": "Kgi4mUX6D2bY"
      },
      "source": [
        "## **3.2) Pre-Processing**\r\n",
        "\r\n",
        "\r\n"
      ]
    },
    {
      "cell_type": "markdown",
      "metadata": {
        "id": "_pjrjpd8oQVQ"
      },
      "source": [
        "**3.2.2) Undersampling - Part 1**"
      ]
    },
    {
      "cell_type": "markdown",
      "metadata": {
        "id": "jmIImbt6rIFC"
      },
      "source": [
        "Since it is know that among all mosquito samples collected in the traps. There are only specific mosquito breeds which contributed to West Nile virus. To improve predictiblity of the model, records with other mosquito types were being taken out for modelling."
      ]
    },
    {
      "cell_type": "code",
      "metadata": {
        "id": "crOuTYwVoOOY"
      },
      "source": [
        "#dropping rows and columns with mosquitos not contributing to Wnv\r\n",
        "df_moswnv = df.loc[df['Species'] != 'OTHERS']"
      ],
      "execution_count": 942,
      "outputs": []
    },
    {
      "cell_type": "code",
      "metadata": {
        "colab": {
          "base_uri": "https://localhost:8080/"
        },
        "id": "QbEheWFIop2B",
        "outputId": "e6455c4f-78bc-43f6-ec92-0a6c7a037e24"
      },
      "source": [
        "df_moswnv['Species'].unique()"
      ],
      "execution_count": 943,
      "outputs": [
        {
          "output_type": "execute_result",
          "data": {
            "text/plain": [
              "array(['CULEX PIPIENS/RESTUANS', 'CULEX RESTUANS', 'CULEX PIPIENS'],\n",
              "      dtype=object)"
            ]
          },
          "metadata": {
            "tags": []
          },
          "execution_count": 943
        }
      ]
    },
    {
      "cell_type": "code",
      "metadata": {
        "colab": {
          "base_uri": "https://localhost:8080/",
          "height": 281
        },
        "id": "cb9_CCFTq02P",
        "outputId": "527efdcc-7caa-4862-8eb1-0b26b762e1dd"
      },
      "source": [
        "#Presence of WnV\r\n",
        "labels = ['0', 'Wnv Present'] \r\n",
        "df_moswnv['WnvPresent'].value_counts().plot(kind='pie', labels=labels, autopct='%.2f%%')\r\n",
        "plt.title('% Samples with West Nile Virus')"
      ],
      "execution_count": 944,
      "outputs": [
        {
          "output_type": "execute_result",
          "data": {
            "text/plain": [
              "Text(0.5, 1.0, '% Samples with West Nile Virus')"
            ]
          },
          "metadata": {
            "tags": []
          },
          "execution_count": 944
        },
        {
          "output_type": "display_data",
          "data": {
            "image/png": "[encoded data removed]",
            "text/plain": [
              "<Figure size 432x288 with 1 Axes>"
            ]
          },
          "metadata": {
            "tags": []
          }
        }
      ]
    },
    {
      "cell_type": "markdown",
      "metadata": {
        "id": "dzIhCOt4Fem4"
      },
      "source": [
        "**3.2.2) Train/ Test Split**"
      ]
    },
    {
      "cell_type": "code",
      "metadata": {
        "id": "v6tG8bhEohvs"
      },
      "source": [
        "#dropping rows and columns with mosquitos not contributing to Wnv\r\n",
        "features_test2 = df_moswnv.drop(['Date', 'Species', 'Trap', 'Latitude', 'Longitude', 'Year-Month', 'Year-Week', \r\n",
        "                                'Sunrise', 'Sunset', 'Species_OTHERS'], axis=1)"
      ],
      "execution_count": 945,
      "outputs": []
    },
    {
      "cell_type": "code",
      "metadata": {
        "colab": {
          "base_uri": "https://localhost:8080/"
        },
        "id": "cAjaOFYHpAu1",
        "outputId": "3b4c9965-ae91-415c-c323-6ce331e5f4ff"
      },
      "source": [
        "features_test2.shape"
      ],
      "execution_count": 946,
      "outputs": [
        {
          "output_type": "execute_result",
          "data": {
            "text/plain": [
              "(8304, 27)"
            ]
          },
          "metadata": {
            "tags": []
          },
          "execution_count": 946
        }
      ]
    },
    {
      "cell_type": "code",
      "metadata": {
        "id": "iMwLpn_npttK"
      },
      "source": [
        "features = features_test2.drop(['WnvPresent'], axis=1)"
      ],
      "execution_count": 947,
      "outputs": []
    },
    {
      "cell_type": "code",
      "metadata": {
        "id": "DgmDmXGbpyom"
      },
      "source": [
        "X = features\r\n",
        "y = features_test2['WnvPresent']"
      ],
      "execution_count": 948,
      "outputs": []
    },
    {
      "cell_type": "code",
      "metadata": {
        "id": "PdVBl5wSp1QX"
      },
      "source": [
        "# Train Test split\r\n",
        "X_train, X_test, y_train, y_test = train_test_split(X, y, test_size = 0.25, random_state=1)"
      ],
      "execution_count": 949,
      "outputs": []
    },
    {
      "cell_type": "markdown",
      "metadata": {
        "id": "Ky5WJ-1m7BEO"
      },
      "source": [
        "**3.2.3) Examining the Predictive Power of different features & removing Colinearity**"
      ]
    },
    {
      "cell_type": "code",
      "metadata": {
        "id": "EHQe89m-y5HU"
      },
      "source": [
        "import statsmodels.api as sm\r\n",
        "from statsmodels.stats.outliers_influence import variance_inflation_factor\r\n",
        "import pandas.core.algorithms as algos\r\n",
        "from pandas import Series\r\n",
        "import scipy.stats.stats as stats\r\n",
        "import re\r\n",
        "import traceback\r\n",
        "import string"
      ],
      "execution_count": 950,
      "outputs": []
    },
    {
      "cell_type": "markdown",
      "metadata": {
        "id": "KUnMNjkKj6Qw"
      },
      "source": [
        "Method - Variance Inflation Factor (VIF) and subsequently also test for colinearity and remove features which is less important for model prediction."
      ]
    },
    {
      "cell_type": "code",
      "metadata": {
        "id": "QAwhbdHfunmz"
      },
      "source": [
        "max_bin = 20\r\n",
        "force_bin = 3\r\n",
        "\r\n",
        "# define a binning function\r\n",
        "def mono_bin(Y, X, n = max_bin):\r\n",
        "    \r\n",
        "    df1 = pd.DataFrame({\"X\": X, \"Y\": Y})\r\n",
        "    justmiss = df1[['X','Y']][df1.X.isnull()]\r\n",
        "    notmiss = df1[['X','Y']][df1.X.notnull()]\r\n",
        "    r = 0\r\n",
        "    while np.abs(r) < 1:\r\n",
        "        try:\r\n",
        "            d1 = pd.DataFrame({\"X\": notmiss.X, \"Y\": notmiss.Y, \"Bucket\": pd.qcut(notmiss.X, n)})\r\n",
        "            d2 = d1.groupby('Bucket', as_index=True)\r\n",
        "            r, p = stats.spearmanr(d2.mean().X, d2.mean().Y)\r\n",
        "            n = n - 1 \r\n",
        "        except Exception as e:\r\n",
        "            n = n - 1\r\n",
        "\r\n",
        "    if len(d2) == 1:\r\n",
        "        n = force_bin         \r\n",
        "        bins = algos.quantile(notmiss.X, np.linspace(0, 1, n))\r\n",
        "        if len(np.unique(bins)) == 2:\r\n",
        "            bins = np.insert(bins, 0, 1)\r\n",
        "            bins[1] = bins[1]-(bins[1]/2)\r\n",
        "        d1 = pd.DataFrame({\"X\": notmiss.X, \"Y\": notmiss.Y, \"Bucket\": pd.cut(notmiss.X, np.unique(bins),include_lowest=True)}) \r\n",
        "        d2 = d1.groupby('Bucket', as_index=True)\r\n",
        "    \r\n",
        "    d3 = pd.DataFrame({},index=[])\r\n",
        "    d3[\"MIN_VALUE\"] = d2.min().X\r\n",
        "    d3[\"MAX_VALUE\"] = d2.max().X\r\n",
        "    d3[\"COUNT\"] = d2.count().Y\r\n",
        "    d3[\"EVENT\"] = d2.sum().Y\r\n",
        "    d3[\"NONEVENT\"] = d2.count().Y - d2.sum().Y\r\n",
        "    d3=d3.reset_index(drop=True)\r\n",
        "    \r\n",
        "    if len(justmiss.index) > 0:\r\n",
        "        d4 = pd.DataFrame({'MIN_VALUE':np.nan},index=[0])\r\n",
        "        d4[\"MAX_VALUE\"] = np.nan\r\n",
        "        d4[\"COUNT\"] = justmiss.count().Y\r\n",
        "        d4[\"EVENT\"] = justmiss.sum().Y\r\n",
        "        d4[\"NONEVENT\"] = justmiss.count().Y - justmiss.sum().Y\r\n",
        "        d3 = d3.append(d4,ignore_index=True)\r\n",
        "    \r\n",
        "    d3[\"EVENT_RATE\"] = d3.EVENT/d3.COUNT\r\n",
        "    d3[\"NON_EVENT_RATE\"] = d3.NONEVENT/d3.COUNT\r\n",
        "    d3[\"DIST_EVENT\"] = d3.EVENT/d3.sum().EVENT\r\n",
        "    d3[\"DIST_NON_EVENT\"] = d3.NONEVENT/d3.sum().NONEVENT\r\n",
        "    d3[\"WOE\"] = np.log(d3.DIST_EVENT/d3.DIST_NON_EVENT)\r\n",
        "    d3[\"IV\"] = (d3.DIST_EVENT-d3.DIST_NON_EVENT)*np.log(d3.DIST_EVENT/d3.DIST_NON_EVENT)\r\n",
        "    d3[\"VAR_NAME\"] = \"VAR\"\r\n",
        "    d3 = d3[['VAR_NAME','MIN_VALUE', 'MAX_VALUE', 'COUNT', 'EVENT', 'EVENT_RATE', 'NONEVENT', 'NON_EVENT_RATE', 'DIST_EVENT','DIST_NON_EVENT','WOE', 'IV']]       \r\n",
        "    d3 = d3.replace([np.inf, -np.inf], 0)\r\n",
        "    d3.IV = d3.IV.sum()\r\n",
        "    \r\n",
        "    return(d3)\r\n",
        "\r\n",
        "def char_bin(Y, X):\r\n",
        "        \r\n",
        "    df1 = pd.DataFrame({\"X\": X, \"Y\": Y})\r\n",
        "    justmiss = df1[['X','Y']][df1.X.isnull()]\r\n",
        "    notmiss = df1[['X','Y']][df1.X.notnull()]    \r\n",
        "    df2 = notmiss.groupby('X',as_index=True)\r\n",
        "    \r\n",
        "    d3 = pd.DataFrame({},index=[])\r\n",
        "    d3[\"COUNT\"] = df2.count().Y\r\n",
        "    d3[\"MIN_VALUE\"] = df2.sum().Y.index\r\n",
        "    d3[\"MAX_VALUE\"] = d3[\"MIN_VALUE\"]\r\n",
        "    d3[\"EVENT\"] = df2.sum().Y\r\n",
        "    d3[\"NONEVENT\"] = df2.count().Y - df2.sum().Y\r\n",
        "    \r\n",
        "    if len(justmiss.index) > 0:\r\n",
        "        d4 = pd.DataFrame({'MIN_VALUE':np.nan},index=[0])\r\n",
        "        d4[\"MAX_VALUE\"] = np.nan\r\n",
        "        d4[\"COUNT\"] = justmiss.count().Y\r\n",
        "        d4[\"EVENT\"] = justmiss.sum().Y\r\n",
        "        d4[\"NONEVENT\"] = justmiss.count().Y - justmiss.sum().Y\r\n",
        "        d3 = d3.append(d4,ignore_index=True)\r\n",
        "    \r\n",
        "    d3[\"EVENT_RATE\"] = d3.EVENT/d3.COUNT\r\n",
        "    d3[\"NON_EVENT_RATE\"] = d3.NONEVENT/d3.COUNT\r\n",
        "    d3[\"DIST_EVENT\"] = d3.EVENT/d3.sum().EVENT\r\n",
        "    d3[\"DIST_NON_EVENT\"] = d3.NONEVENT/d3.sum().NONEVENT\r\n",
        "    d3[\"WOE\"] = np.log(d3.DIST_EVENT/d3.DIST_NON_EVENT)\r\n",
        "    d3[\"IV\"] = (d3.DIST_EVENT-d3.DIST_NON_EVENT)*np.log(d3.DIST_EVENT/d3.DIST_NON_EVENT)\r\n",
        "    d3[\"VAR_NAME\"] = \"VAR\"\r\n",
        "    d3 = d3[['VAR_NAME','MIN_VALUE', 'MAX_VALUE', 'COUNT', 'EVENT', 'EVENT_RATE', 'NONEVENT', 'NON_EVENT_RATE', 'DIST_EVENT','DIST_NON_EVENT','WOE', 'IV']]      \r\n",
        "    d3 = d3.replace([np.inf, -np.inf], 0)\r\n",
        "    d3.IV = d3.IV.sum()\r\n",
        "    d3 = d3.reset_index(drop=True)\r\n",
        "    \r\n",
        "    return(d3)\r\n",
        "\r\n",
        "def data_vars(df1, target):\r\n",
        "    \r\n",
        "    stack = traceback.extract_stack()\r\n",
        "    filename, lineno, function_name, code = stack[-2]\r\n",
        "    vars_name = re.compile(r'\\((.*?)\\).*$').search(code).groups()[0]\r\n",
        "    final = (re.findall(r\"[\\w']+\", vars_name))[-1]\r\n",
        "    \r\n",
        "    x = df1.dtypes.index\r\n",
        "    count = -1\r\n",
        "    \r\n",
        "    for i in x:\r\n",
        "        if i.upper() not in (final.upper()):\r\n",
        "            if np.issubdtype(df1[i], np.number) and len(Series.unique(df1[i])) > 2:\r\n",
        "                conv = mono_bin(target, df1[i])\r\n",
        "                conv[\"VAR_NAME\"] = i\r\n",
        "                count = count + 1\r\n",
        "            else:\r\n",
        "                conv = char_bin(target, df1[i])\r\n",
        "                conv[\"VAR_NAME\"] = i            \r\n",
        "                count = count + 1\r\n",
        "                \r\n",
        "            if count == 0:\r\n",
        "                iv_df = conv\r\n",
        "            else:\r\n",
        "                iv_df = iv_df.append(conv,ignore_index=True)\r\n",
        "    \r\n",
        "    iv = pd.DataFrame({'IV':iv_df.groupby('VAR_NAME').IV.max()})\r\n",
        "    iv = iv.reset_index()\r\n",
        "    return(iv_df,iv)"
      ],
      "execution_count": 951,
      "outputs": []
    },
    {
      "cell_type": "code",
      "metadata": {
        "colab": {
          "base_uri": "https://localhost:8080/"
        },
        "id": "7Kh-R-NBzGLb",
        "outputId": "45906b21-4d14-4d97-c90f-f26fd00cf425"
      },
      "source": [
        "final_iv, IV = data_vars(X_train, y_train)"
      ],
      "execution_count": 952,
      "outputs": [
        {
          "output_type": "stream",
          "text": [
            "/usr/local/lib/python3.7/dist-packages/pandas/core/series.py:726: RuntimeWarning: divide by zero encountered in log\n",
            "  result = getattr(ufunc, method)(*inputs, **kwargs)\n"
          ],
          "name": "stderr"
        }
      ]
    },
    {
      "cell_type": "code",
      "metadata": {
        "id": "oC8Ci8Gruq-f"
      },
      "source": [
        "features = list(IV[(IV['IV'] >= 0.01) & (IV['IV'] <= 0.8)]['VAR_NAME'])\r\n",
        "X2 = X_train[features]"
      ],
      "execution_count": 953,
      "outputs": []
    },
    {
      "cell_type": "code",
      "metadata": {
        "colab": {
          "base_uri": "https://localhost:8080/"
        },
        "id": "I9Daq5DM5P2m",
        "outputId": "f39e4b72-cddf-485f-b7d2-3218e1452550"
      },
      "source": [
        "def iterate_vif(df, vif_threshold=5, max_vif=6):\r\n",
        "  count = 0\r\n",
        "  while max_vif > vif_threshold:\r\n",
        "    count += 1\r\n",
        "    print(\"Iteration # \"+str(count))\r\n",
        "    vif = pd.DataFrame()\r\n",
        "    vif[\"VIFactor\"] = [variance_inflation_factor(df.values, i) for i in range(df.shape[1])]\r\n",
        "    vif[\"features\"] = df.columns\r\n",
        "\r\n",
        "    if vif['VIFactor'].max() > vif_threshold:\r\n",
        "      print('Removing %s with VIF of %f' % (vif[vif['VIFactor'] == vif['VIFactor'].max()]['features'].values[0], vif['VIFactor'].max()))\r\n",
        "      df = df.drop(vif[vif['VIFactor'] == vif['VIFactor'].max()]['features'].values[0], axis=1)\r\n",
        "      max_vif = vif['VIFactor'].max()\r\n",
        "    else:\r\n",
        "      print('Complete')\r\n",
        "      return df, vif.sort_values('VIFactor')\r\n",
        "\r\n",
        "final_df, final_vif = iterate_vif(X_train)"
      ],
      "execution_count": 954,
      "outputs": [
        {
          "output_type": "stream",
          "text": [
            "Iteration # 1\n"
          ],
          "name": "stdout"
        },
        {
          "output_type": "stream",
          "text": [
            "/usr/local/lib/python3.7/dist-packages/statsmodels/stats/outliers_influence.py:185: RuntimeWarning: divide by zero encountered in double_scalars\n",
            "  vif = 1. / (1. - r_squared_i)\n"
          ],
          "name": "stderr"
        },
        {
          "output_type": "stream",
          "text": [
            "Removing Cool with VIF of inf\n",
            "Iteration # 2\n",
            "Removing Species_CULEX PIPIENS/RESTUANS with VIF of 8844745.705322\n",
            "Iteration # 3\n",
            "Removing Year with VIF of 922721.220309\n",
            "Iteration # 4\n",
            "Removing Tavg with VIF of 364273.015434\n",
            "Iteration # 5\n",
            "Removing SeaLevel with VIF of 156209.928183\n",
            "Iteration # 6\n",
            "Removing DewPoint with VIF of 37353.287589\n",
            "Iteration # 7\n",
            "Removing WetBulb with VIF of 25682.188598\n",
            "Iteration # 8\n",
            "Removing Tmax with VIF of 1924.285233\n",
            "Iteration # 9\n",
            "Removing Tmin with VIF of 507.769162\n",
            "Iteration # 10\n",
            "Removing StnPressure with VIF of 362.031755\n",
            "Iteration # 11\n",
            "Removing PrecipTotal with VIF of 223.112677\n",
            "Iteration # 12\n",
            "Removing Depart with VIF of 107.371456\n",
            "Iteration # 13\n",
            "Removing Daylight minutes with VIF of 83.849047\n",
            "Iteration # 14\n",
            "Removing AvgSpeed with VIF of 66.820905\n",
            "Iteration # 15\n",
            "Removing Speed_dir with VIF of 32.290768\n",
            "Iteration # 16\n",
            "Removing AddressAccuracy with VIF of 27.750913\n",
            "Iteration # 17\n",
            "Removing Rh with VIF of 19.699225\n",
            "Iteration # 18\n",
            "Removing Tmax_StnPressure with VIF of 9.587634\n",
            "Iteration # 19\n",
            "Complete\n"
          ],
          "name": "stdout"
        }
      ]
    },
    {
      "cell_type": "code",
      "metadata": {
        "colab": {
          "base_uri": "https://localhost:8080/",
          "height": 202
        },
        "id": "JYRH-WiK8hYM",
        "outputId": "b5f8281b-a054-450c-cf8e-087a30f704e8"
      },
      "source": [
        "final_df.head()"
      ],
      "execution_count": 955,
      "outputs": [
        {
          "output_type": "execute_result",
          "data": {
            "text/html": [
              "<div>\n",
              "<style scoped>\n",
              "    .dataframe tbody tr th:only-of-type {\n",
              "        vertical-align: middle;\n",
              "    }\n",
              "\n",
              "    .dataframe tbody tr th {\n",
              "        vertical-align: top;\n",
              "    }\n",
              "\n",
              "    .dataframe thead th {\n",
              "        text-align: right;\n",
              "    }\n",
              "</style>\n",
              "<table border=\"1\" class=\"dataframe\">\n",
              "  <thead>\n",
              "    <tr style=\"text-align: right;\">\n",
              "      <th></th>\n",
              "      <th>NumMosquitos</th>\n",
              "      <th>Heat</th>\n",
              "      <th>ResultDir</th>\n",
              "      <th>ResultSpeed</th>\n",
              "      <th>Species_CULEX PIPIENS</th>\n",
              "      <th>Species_CULEX RESTUANS</th>\n",
              "      <th>Cluster</th>\n",
              "      <th>Tmax_Precip</th>\n",
              "    </tr>\n",
              "  </thead>\n",
              "  <tbody>\n",
              "    <tr>\n",
              "      <th>8283</th>\n",
              "      <td>17</td>\n",
              "      <td>0.0</td>\n",
              "      <td>18.5</td>\n",
              "      <td>4.50</td>\n",
              "      <td>0</td>\n",
              "      <td>0</td>\n",
              "      <td>110</td>\n",
              "      <td>0.000000</td>\n",
              "    </tr>\n",
              "    <tr>\n",
              "      <th>138</th>\n",
              "      <td>2</td>\n",
              "      <td>0.0</td>\n",
              "      <td>21.5</td>\n",
              "      <td>6.70</td>\n",
              "      <td>0</td>\n",
              "      <td>1</td>\n",
              "      <td>56</td>\n",
              "      <td>0.036941</td>\n",
              "    </tr>\n",
              "    <tr>\n",
              "      <th>2820</th>\n",
              "      <td>34</td>\n",
              "      <td>1.5</td>\n",
              "      <td>28.0</td>\n",
              "      <td>11.80</td>\n",
              "      <td>0</td>\n",
              "      <td>0</td>\n",
              "      <td>93</td>\n",
              "      <td>0.000000</td>\n",
              "    </tr>\n",
              "    <tr>\n",
              "      <th>2089</th>\n",
              "      <td>38</td>\n",
              "      <td>0.0</td>\n",
              "      <td>19.0</td>\n",
              "      <td>6.40</td>\n",
              "      <td>1</td>\n",
              "      <td>0</td>\n",
              "      <td>31</td>\n",
              "      <td>0.002149</td>\n",
              "    </tr>\n",
              "    <tr>\n",
              "      <th>4485</th>\n",
              "      <td>1</td>\n",
              "      <td>3.0</td>\n",
              "      <td>6.5</td>\n",
              "      <td>3.95</td>\n",
              "      <td>0</td>\n",
              "      <td>0</td>\n",
              "      <td>5</td>\n",
              "      <td>0.000000</td>\n",
              "    </tr>\n",
              "  </tbody>\n",
              "</table>\n",
              "</div>"
            ],
            "text/plain": [
              "      NumMosquitos  Heat  ...  Cluster  Tmax_Precip\n",
              "8283            17   0.0  ...      110     0.000000\n",
              "138              2   0.0  ...       56     0.036941\n",
              "2820            34   1.5  ...       93     0.000000\n",
              "2089            38   0.0  ...       31     0.002149\n",
              "4485             1   3.0  ...        5     0.000000\n",
              "\n",
              "[5 rows x 8 columns]"
            ]
          },
          "metadata": {
            "tags": []
          },
          "execution_count": 955
        }
      ]
    },
    {
      "cell_type": "code",
      "metadata": {
        "colab": {
          "base_uri": "https://localhost:8080/",
          "height": 294
        },
        "id": "Ee9_vE8_8EKn",
        "outputId": "2ba5f01f-fc5a-4108-de0c-90b38065f0ad"
      },
      "source": [
        "final_vif.sort_values(by='VIFactor', ascending=False)"
      ],
      "execution_count": 956,
      "outputs": [
        {
          "output_type": "execute_result",
          "data": {
            "text/html": [
              "<div>\n",
              "<style scoped>\n",
              "    .dataframe tbody tr th:only-of-type {\n",
              "        vertical-align: middle;\n",
              "    }\n",
              "\n",
              "    .dataframe tbody tr th {\n",
              "        vertical-align: top;\n",
              "    }\n",
              "\n",
              "    .dataframe thead th {\n",
              "        text-align: right;\n",
              "    }\n",
              "</style>\n",
              "<table border=\"1\" class=\"dataframe\">\n",
              "  <thead>\n",
              "    <tr style=\"text-align: right;\">\n",
              "      <th></th>\n",
              "      <th>VIFactor</th>\n",
              "      <th>features</th>\n",
              "    </tr>\n",
              "  </thead>\n",
              "  <tbody>\n",
              "    <tr>\n",
              "      <th>3</th>\n",
              "      <td>4.852720</td>\n",
              "      <td>ResultSpeed</td>\n",
              "    </tr>\n",
              "    <tr>\n",
              "      <th>2</th>\n",
              "      <td>4.176164</td>\n",
              "      <td>ResultDir</td>\n",
              "    </tr>\n",
              "    <tr>\n",
              "      <th>6</th>\n",
              "      <td>3.146559</td>\n",
              "      <td>Cluster</td>\n",
              "    </tr>\n",
              "    <tr>\n",
              "      <th>5</th>\n",
              "      <td>1.547871</td>\n",
              "      <td>Species_CULEX RESTUANS</td>\n",
              "    </tr>\n",
              "    <tr>\n",
              "      <th>4</th>\n",
              "      <td>1.398903</td>\n",
              "      <td>Species_CULEX PIPIENS</td>\n",
              "    </tr>\n",
              "    <tr>\n",
              "      <th>0</th>\n",
              "      <td>1.324866</td>\n",
              "      <td>NumMosquitos</td>\n",
              "    </tr>\n",
              "    <tr>\n",
              "      <th>7</th>\n",
              "      <td>1.243089</td>\n",
              "      <td>Tmax_Precip</td>\n",
              "    </tr>\n",
              "    <tr>\n",
              "      <th>1</th>\n",
              "      <td>1.128209</td>\n",
              "      <td>Heat</td>\n",
              "    </tr>\n",
              "  </tbody>\n",
              "</table>\n",
              "</div>"
            ],
            "text/plain": [
              "   VIFactor                features\n",
              "3  4.852720             ResultSpeed\n",
              "2  4.176164               ResultDir\n",
              "6  3.146559                 Cluster\n",
              "5  1.547871  Species_CULEX RESTUANS\n",
              "4  1.398903   Species_CULEX PIPIENS\n",
              "0  1.324866            NumMosquitos\n",
              "7  1.243089             Tmax_Precip\n",
              "1  1.128209                    Heat"
            ]
          },
          "metadata": {
            "tags": []
          },
          "execution_count": 956
        }
      ]
    },
    {
      "cell_type": "markdown",
      "metadata": {
        "id": "xbJhuHndFyaE"
      },
      "source": [
        "**3.2.4) Building final features and Train/Test Split**"
      ]
    },
    {
      "cell_type": "markdown",
      "metadata": {
        "id": "_vjfXniI_zzC"
      },
      "source": [
        "First of all, clean up required after retaining the final dataframe with only the mot important features"
      ]
    },
    {
      "cell_type": "code",
      "metadata": {
        "id": "4IeOR0GHDvNm"
      },
      "source": [
        "final_features = final_df.columns.tolist()"
      ],
      "execution_count": 957,
      "outputs": []
    },
    {
      "cell_type": "code",
      "metadata": {
        "id": "ls7taH49-8jL"
      },
      "source": [
        "X = df_moswnv[final_features]\r\n",
        "y = df_moswnv['WnvPresent']"
      ],
      "execution_count": 958,
      "outputs": []
    },
    {
      "cell_type": "code",
      "metadata": {
        "colab": {
          "base_uri": "https://localhost:8080/"
        },
        "id": "pHseuxLGBi-P",
        "outputId": "6174dbc2-8587-4db1-f844-3410643aa0d0"
      },
      "source": [
        "X.shape, y.shape"
      ],
      "execution_count": 959,
      "outputs": [
        {
          "output_type": "execute_result",
          "data": {
            "text/plain": [
              "((8304, 8), (8304,))"
            ]
          },
          "metadata": {
            "tags": []
          },
          "execution_count": 959
        }
      ]
    },
    {
      "cell_type": "code",
      "metadata": {
        "id": "_jOGikklAwgw"
      },
      "source": [
        "#scaling the data - not normally distributed therefore using MinMax Scaler\r\n",
        "scaler = MinMaxScaler().fit(X)\r\n",
        "X_scaled = scaler.transform(X)"
      ],
      "execution_count": 960,
      "outputs": []
    },
    {
      "cell_type": "code",
      "metadata": {
        "id": "DtsPL5mvA1Gl"
      },
      "source": [
        "# Train Test split\r\n",
        "X_train, X_test, y_train, y_test = train_test_split(X_scaled, y, test_size = 0.25, random_state=1)"
      ],
      "execution_count": 961,
      "outputs": []
    },
    {
      "cell_type": "markdown",
      "metadata": {
        "id": "Ts3SCx_tpMLq"
      },
      "source": [
        "Undersampling and Oversampling is required as the data is very imbalanced for Wnv presence."
      ]
    },
    {
      "cell_type": "code",
      "metadata": {
        "colab": {
          "base_uri": "https://localhost:8080/"
        },
        "id": "FXIGFAa7n_ZF",
        "outputId": "6d2ed774-c0da-4048-88f9-93785da86baf"
      },
      "source": [
        "from imblearn.combine import SMOTEENN\r\n",
        "smoteenn = SMOTEENN(random_state=1, ratio='minority')\r\n",
        "X_train, y_train = smoteenn.fit_resample(X_train, y_train)\r\n",
        "X_test, y_test = smoteenn.fit_resample(X_test, y_test)"
      ],
      "execution_count": 962,
      "outputs": [
        {
          "output_type": "stream",
          "text": [
            "/usr/local/lib/python3.7/dist-packages/sklearn/utils/deprecation.py:87: FutureWarning: Function safe_indexing is deprecated; safe_indexing is deprecated in version 0.22 and will be removed in version 0.24.\n",
            "  warnings.warn(msg, category=FutureWarning)\n",
            "/usr/local/lib/python3.7/dist-packages/sklearn/utils/deprecation.py:87: FutureWarning: Function safe_indexing is deprecated; safe_indexing is deprecated in version 0.22 and will be removed in version 0.24.\n",
            "  warnings.warn(msg, category=FutureWarning)\n",
            "/usr/local/lib/python3.7/dist-packages/sklearn/utils/deprecation.py:87: FutureWarning: Function safe_indexing is deprecated; safe_indexing is deprecated in version 0.22 and will be removed in version 0.24.\n",
            "  warnings.warn(msg, category=FutureWarning)\n",
            "/usr/local/lib/python3.7/dist-packages/sklearn/utils/deprecation.py:87: FutureWarning: Function safe_indexing is deprecated; safe_indexing is deprecated in version 0.22 and will be removed in version 0.24.\n",
            "  warnings.warn(msg, category=FutureWarning)\n",
            "/usr/local/lib/python3.7/dist-packages/sklearn/utils/deprecation.py:87: FutureWarning: Function safe_indexing is deprecated; safe_indexing is deprecated in version 0.22 and will be removed in version 0.24.\n",
            "  warnings.warn(msg, category=FutureWarning)\n",
            "/usr/local/lib/python3.7/dist-packages/sklearn/utils/deprecation.py:87: FutureWarning: Function safe_indexing is deprecated; safe_indexing is deprecated in version 0.22 and will be removed in version 0.24.\n",
            "  warnings.warn(msg, category=FutureWarning)\n",
            "/usr/local/lib/python3.7/dist-packages/sklearn/utils/deprecation.py:87: FutureWarning: Function safe_indexing is deprecated; safe_indexing is deprecated in version 0.22 and will be removed in version 0.24.\n",
            "  warnings.warn(msg, category=FutureWarning)\n",
            "/usr/local/lib/python3.7/dist-packages/sklearn/utils/deprecation.py:87: FutureWarning: Function safe_indexing is deprecated; safe_indexing is deprecated in version 0.22 and will be removed in version 0.24.\n",
            "  warnings.warn(msg, category=FutureWarning)\n"
          ],
          "name": "stderr"
        }
      ]
    },
    {
      "cell_type": "markdown",
      "metadata": {
        "id": "ojM_b_My8JxP"
      },
      "source": [
        "## **3.3) Building the Model**\r\n",
        "\r\n",
        "\r\n"
      ]
    },
    {
      "cell_type": "markdown",
      "metadata": {
        "id": "jY1syLOv6ZhE"
      },
      "source": [
        "Several models will be used initially to test the effectiveness in the prediction:<br>\r\n",
        "\r\n",
        "\r\n",
        "*   Logistic Regression\r\n",
        "*   Random Foreset\r\n",
        "*   K-Nearest Neighbor\r\n",
        "*   XGBoost Classifier\r\n",
        "\r\n",
        "\r\n",
        "\r\n"
      ]
    },
    {
      "cell_type": "markdown",
      "metadata": {
        "id": "1f5T2tSIm9YY"
      },
      "source": [
        "**3.3.1) Logistic Regression Model**"
      ]
    },
    {
      "cell_type": "code",
      "metadata": {
        "id": "iOdBbrLvoRgl"
      },
      "source": [
        "# Linear Regression Model\r\n",
        "lr = LogisticRegression(random_state=1, solver='lbfgs', max_iter=500)\r\n",
        "lr_model = lr.fit(X_train, y_train)\r\n",
        "y_pred = lr.predict(X_test)"
      ],
      "execution_count": 963,
      "outputs": []
    },
    {
      "cell_type": "code",
      "metadata": {
        "id": "qSi3RDROngVs",
        "colab": {
          "base_uri": "https://localhost:8080/"
        },
        "outputId": "3fe7166b-79a4-434d-c9ca-3e902f3cb5db"
      },
      "source": [
        "#Linear Regression Scores\r\n",
        "lr_ac_train = lr.score(X_train, y_train)\r\n",
        "lr_ac_test = lr.score(X_test, y_test)\r\n",
        "lr_rocscore = roc_auc_score(y_test, y_pred)\r\n",
        "lr_f1 = f1_score(y_test, y_pred)\r\n",
        "lr_recall = recall_score(y_test, y_pred)\r\n",
        "\r\n",
        "print('Score - Logistic Regression:')\r\n",
        "print(f'On Training data: {lr_ac_train.round(3)}')\r\n",
        "print(f'On Testing data: {lr_ac_test.round(3)}')\r\n",
        "print(f'On ROC Score: {lr_rocscore.round(3)}')\r\n",
        "print(f'On F1 score: {lr_f1.round(3)}')\r\n",
        "print(f'On Recall score: {lr_recall.round(3)}')"
      ],
      "execution_count": 964,
      "outputs": [
        {
          "output_type": "stream",
          "text": [
            "Score - Logistic Regression:\n",
            "On Training data: 0.814\n",
            "On Testing data: 0.786\n",
            "On ROC Score: 0.786\n",
            "On F1 score: 0.798\n",
            "On Recall score: 0.787\n"
          ],
          "name": "stdout"
        }
      ]
    },
    {
      "cell_type": "code",
      "metadata": {
        "id": "U7SUymQPpGQn",
        "colab": {
          "base_uri": "https://localhost:8080/",
          "height": 295
        },
        "outputId": "2e293189-7057-48a6-b4c2-fdb9663f9bb0"
      },
      "source": [
        "#Confusion matrix on test set - Non-normalized\r\n",
        "cm = confusion_matrix(y_test, y_pred)\r\n",
        "\r\n",
        "#ax = plt.axes()\r\n",
        "sns.heatmap(cm, annot=True, cbar=False, fmt='g', cmap='Blues')\r\n",
        "plt.ylabel('True Labels')\r\n",
        "plt.xlabel('Predicted Labels')\r\n",
        "plt.title('Confusion Matrix - Logistic Regression')\r\n",
        "plt.show()"
      ],
      "execution_count": 965,
      "outputs": [
        {
          "output_type": "display_data",
          "data": {
            "image/png": "[encoded data removed]",
            "text/plain": [
              "<Figure size 432x288 with 1 Axes>"
            ]
          },
          "metadata": {
            "tags": [],
            "needs_background": "light"
          }
        }
      ]
    },
    {
      "cell_type": "code",
      "metadata": {
        "id": "PppikB3hpKH-",
        "colab": {
          "base_uri": "https://localhost:8080/",
          "height": 313
        },
        "outputId": "5cd971a6-ca46-4d91-f100-edbc0e5a1d23"
      },
      "source": [
        "#ROC Curve\r\n",
        "plot_roc_curve(lr, X_test, y_test)\r\n",
        "plt.plot([0, 1], [0, 1], color='navy', linestyle='--')\r\n",
        "plt.title('ROC for Logistic Regression')\r\n",
        "plt.xlabel('False Positive Rate')\r\n",
        "plt.ylabel('True Positive Rate')"
      ],
      "execution_count": 966,
      "outputs": [
        {
          "output_type": "execute_result",
          "data": {
            "text/plain": [
              "Text(0, 0.5, 'True Positive Rate')"
            ]
          },
          "metadata": {
            "tags": []
          },
          "execution_count": 966
        },
        {
          "output_type": "display_data",
          "data": {
            "image/png": "[encoded data removed]",
            "text/plain": [
              "<Figure size 432x288 with 1 Axes>"
            ]
          },
          "metadata": {
            "tags": [],
            "needs_background": "light"
          }
        }
      ]
    },
    {
      "cell_type": "markdown",
      "metadata": {
        "id": "cOWLQO9Ck231"
      },
      "source": [
        "**3.3.2) Random Forest Classifier**"
      ]
    },
    {
      "cell_type": "code",
      "metadata": {
        "id": "f6Rz67Itl-O4"
      },
      "source": [
        "#Random Forest Model\r\n",
        "rf = RandomForestClassifier(random_state=1)\r\n",
        "rf_model = rf.fit(X_train, y_train)\r\n",
        "y_pred = rf_model.predict(X_test)"
      ],
      "execution_count": 967,
      "outputs": []
    },
    {
      "cell_type": "code",
      "metadata": {
        "id": "kcsIeDDimRC8",
        "colab": {
          "base_uri": "https://localhost:8080/"
        },
        "outputId": "2bd448c3-7d7c-4ed7-cf23-b7542fad5daf"
      },
      "source": [
        "#Random Forest - Scores\r\n",
        "rf_ac_train = rf.score(X_train, y_train) \r\n",
        "rf_ac_test = rf.score(X_test, y_test)\r\n",
        "rf_rocscore = roc_auc_score(y_test, y_pred)\r\n",
        "rf_f1 = f1_score(y_test, y_pred)\r\n",
        "rf_recall = recall_score(y_test, y_pred)\r\n",
        "\r\n",
        "print('Scores - Random Forest Classifier:')\r\n",
        "print(f'On Training data: {rf_ac_train.round(3)}')\r\n",
        "print(f'On Testing data: {rf_ac_test.round(3)}')\r\n",
        "print(f'On ROC Score: {rf_rocscore.round(3)}')\r\n",
        "print(f'On F1 score: {rf_f1.round(3)}')\r\n",
        "print(f'On Recall score: {rf_recall.round(3)}')"
      ],
      "execution_count": 968,
      "outputs": [
        {
          "output_type": "stream",
          "text": [
            "Scores - Random Forest Classifier:\n",
            "On Training data: 1.0\n",
            "On Testing data: 0.854\n",
            "On ROC Score: 0.86\n",
            "On F1 score: 0.851\n",
            "On Recall score: 0.779\n"
          ],
          "name": "stdout"
        }
      ]
    },
    {
      "cell_type": "code",
      "metadata": {
        "id": "Q0zl9GhfpfkJ",
        "colab": {
          "base_uri": "https://localhost:8080/",
          "height": 295
        },
        "outputId": "72d9e66b-6920-4f11-c54a-84ed04f5021e"
      },
      "source": [
        "#Confusion matrix on test set - Non-normalized\r\n",
        "cm = confusion_matrix(y_test, y_pred)\r\n",
        "\r\n",
        "#ax = plt.axes()\r\n",
        "sns.heatmap(cm, annot=True, cbar=False, fmt='g', cmap='Blues')\r\n",
        "plt.ylabel('True Labels')\r\n",
        "plt.xlabel('Predicted Labels')\r\n",
        "plt.title('Confusion Matrix - Random Forest Classifier')\r\n",
        "plt.show()"
      ],
      "execution_count": 969,
      "outputs": [
        {
          "output_type": "display_data",
          "data": {
            "image/png": "[encoded data removed]",
            "text/plain": [
              "<Figure size 432x288 with 1 Axes>"
            ]
          },
          "metadata": {
            "tags": [],
            "needs_background": "light"
          }
        }
      ]
    },
    {
      "cell_type": "code",
      "metadata": {
        "id": "VGIJM_EAkJRG",
        "colab": {
          "base_uri": "https://localhost:8080/",
          "height": 313
        },
        "outputId": "1cf2f834-1a05-4132-a84f-c04a4b7c7634"
      },
      "source": [
        "#ROC Curve\r\n",
        "plot_roc_curve(rf, X_test, y_test)\r\n",
        "plt.plot([0, 1], [0, 1], color='navy', linestyle='--')\r\n",
        "plt.title('ROC for Random Forest Classifier')\r\n",
        "plt.xlabel('False Positive Rate')\r\n",
        "plt.ylabel('True Positive Rate')"
      ],
      "execution_count": 970,
      "outputs": [
        {
          "output_type": "execute_result",
          "data": {
            "text/plain": [
              "Text(0, 0.5, 'True Positive Rate')"
            ]
          },
          "metadata": {
            "tags": []
          },
          "execution_count": 970
        },
        {
          "output_type": "display_data",
          "data": {
            "image/png": "[encoded data removed]",
            "text/plain": [
              "<Figure size 432x288 with 1 Axes>"
            ]
          },
          "metadata": {
            "tags": [],
            "needs_background": "light"
          }
        }
      ]
    },
    {
      "cell_type": "markdown",
      "metadata": {
        "id": "PbB26C8bQ_qx"
      },
      "source": [
        "**3.3.3) K-Nearest Neighbour Classifier**"
      ]
    },
    {
      "cell_type": "code",
      "metadata": {
        "id": "kKoSaWPUfe-o"
      },
      "source": [
        "#KNN Classifier\r\n",
        "knn = KNeighborsClassifier()\r\n",
        "knn_model = knn.fit(X_train, y_train)\r\n",
        "y_pred = knn_model.predict(X_test)"
      ],
      "execution_count": 971,
      "outputs": []
    },
    {
      "cell_type": "code",
      "metadata": {
        "id": "jQ9knvuc3uUJ",
        "colab": {
          "base_uri": "https://localhost:8080/"
        },
        "outputId": "372afdb4-8abc-434a-901f-00eebcd69837"
      },
      "source": [
        "#KNN Classifier Scores\r\n",
        "knn_ac_train = knn.score(X_train, y_train) \r\n",
        "knn_ac_test = knn.score(X_test, y_test)\r\n",
        "knn_rocscore = roc_auc_score(y_test, y_pred)\r\n",
        "knn_f1 = f1_score(y_test, y_pred)\r\n",
        "knn_recall = recall_score(y_test, y_pred)\r\n",
        "\r\n",
        "print('Scores - K-Nearest Neighbour Classifier:')\r\n",
        "print(f'On Training data: {knn_ac_train.round(3)}')\r\n",
        "print(f'On Testing data: {knn_ac_test.round(3)}')\r\n",
        "print(f'On ROC Score: {knn_rocscore.round(3)}')\r\n",
        "print(f'On F1 score: {knn_f1.round(3)}')\r\n",
        "print(f'On Recall score: {knn_recall.round(3)}')"
      ],
      "execution_count": 972,
      "outputs": [
        {
          "output_type": "stream",
          "text": [
            "Scores - K-Nearest Neighbour Classifier:\n",
            "On Training data: 0.993\n",
            "On Testing data: 0.76\n",
            "On ROC Score: 0.768\n",
            "On F1 score: 0.749\n",
            "On Recall score: 0.664\n"
          ],
          "name": "stdout"
        }
      ]
    },
    {
      "cell_type": "code",
      "metadata": {
        "id": "oNeW4PtLf244",
        "colab": {
          "base_uri": "https://localhost:8080/",
          "height": 295
        },
        "outputId": "60ab640e-0912-45be-e9b3-d2f2155407ae"
      },
      "source": [
        "#Confusion matrix on test set - Non-normalized\r\n",
        "cm = confusion_matrix(y_test, y_pred)\r\n",
        "\r\n",
        "#ax = plt.axes()\r\n",
        "sns.heatmap(cm, annot=True, cbar=False, fmt='g', cmap='Blues')\r\n",
        "plt.ylabel('True Labels')\r\n",
        "plt.xlabel('Predicted Labels')\r\n",
        "plt.title('Confusion Matrix - K-Nearest Neighbor Classifier')\r\n",
        "plt.show()"
      ],
      "execution_count": 973,
      "outputs": [
        {
          "output_type": "display_data",
          "data": {
            "image/png": "[encoded data removed]",
            "text/plain": [
              "<Figure size 432x288 with 1 Axes>"
            ]
          },
          "metadata": {
            "tags": [],
            "needs_background": "light"
          }
        }
      ]
    },
    {
      "cell_type": "code",
      "metadata": {
        "id": "tWnmU7-4pU1b",
        "colab": {
          "base_uri": "https://localhost:8080/",
          "height": 313
        },
        "outputId": "5c7d2fdd-5523-455f-e7f1-6ca0b1c9c9ac"
      },
      "source": [
        "#ROC Curve\r\n",
        "plot_roc_curve(knn, X_test, y_test)\r\n",
        "plt.plot([0, 1], [0, 1], color='navy', linestyle='--')\r\n",
        "plt.title('ROC for K-Nearest Neighbor Classifier')\r\n",
        "plt.xlabel('False Positive Rate')\r\n",
        "plt.ylabel('True Positive Rate')"
      ],
      "execution_count": 974,
      "outputs": [
        {
          "output_type": "execute_result",
          "data": {
            "text/plain": [
              "Text(0, 0.5, 'True Positive Rate')"
            ]
          },
          "metadata": {
            "tags": []
          },
          "execution_count": 974
        },
        {
          "output_type": "display_data",
          "data": {
            "image/png": "[encoded data removed]",
            "text/plain": [
              "<Figure size 432x288 with 1 Axes>"
            ]
          },
          "metadata": {
            "tags": [],
            "needs_background": "light"
          }
        }
      ]
    },
    {
      "cell_type": "markdown",
      "metadata": {
        "id": "vT3EFdVF5ktz"
      },
      "source": [
        "**3.3.4) XGBoost Classifier**"
      ]
    },
    {
      "cell_type": "code",
      "metadata": {
        "id": "lFinnZ3IUTjE"
      },
      "source": [
        "#XGBoost Classifier\r\n",
        "xgb = XGBClassifier(n_estimator=500, random_state=1)\r\n",
        "xgb_model = xgb.fit(X_train, y_train)\r\n",
        "y_pred = xgb_model.predict(X_test)"
      ],
      "execution_count": 975,
      "outputs": []
    },
    {
      "cell_type": "code",
      "metadata": {
        "id": "Hmoz-Ydqd7px",
        "colab": {
          "base_uri": "https://localhost:8080/"
        },
        "outputId": "161b24ed-b840-47dc-e19e-d0d75c362b03"
      },
      "source": [
        "#XGBoost Scores\r\n",
        "xgb_ac_train = xgb.score(X_train, y_train)\r\n",
        "xgb_ac_test = xgb.score(X_test, y_test)\r\n",
        "xgb_rocscore = roc_auc_score(y_test, y_pred)\r\n",
        "xgb_f1 = f1_score(y_test, y_pred)\r\n",
        "xgb_recall = recall_score(y_test, y_pred)\r\n",
        "\r\n",
        "print('Score - XGBoost Classifier:')\r\n",
        "print(f'On Training data: {xgb_ac_train.round(3)}')\r\n",
        "print(f'On Testing data: {xgb_ac_test.round(3)}')\r\n",
        "print(f'On ROC Score: {xgb_rocscore.round(3)}')\r\n",
        "print(f'On F1 score: {xgb_f1.round(3)}')\r\n",
        "print(f'On Recall score: {xgb_recall.round(3)}')"
      ],
      "execution_count": 976,
      "outputs": [
        {
          "output_type": "stream",
          "text": [
            "Score - XGBoost Classifier:\n",
            "On Training data: 0.931\n",
            "On Testing data: 0.9\n",
            "On ROC Score: 0.898\n",
            "On F1 score: 0.909\n",
            "On Recall score: 0.924\n"
          ],
          "name": "stdout"
        }
      ]
    },
    {
      "cell_type": "code",
      "metadata": {
        "id": "vVb--5Z_9HFT",
        "colab": {
          "base_uri": "https://localhost:8080/",
          "height": 295
        },
        "outputId": "f1e9f757-a5fd-403d-abb9-30bc0dcc7e65"
      },
      "source": [
        "#Confusion matrix on test set - Non-normalized\r\n",
        "cm = confusion_matrix(y_test, y_pred)\r\n",
        "\r\n",
        "#ax = plt.axes()\r\n",
        "sns.heatmap(cm, annot=True, cbar=False, fmt='g', cmap='Blues')\r\n",
        "plt.ylabel('True Labels')\r\n",
        "plt.xlabel('Predicted Labels')\r\n",
        "plt.title('Confusion Matrix - XGBoost Classifier')\r\n",
        "plt.show()"
      ],
      "execution_count": 977,
      "outputs": [
        {
          "output_type": "display_data",
          "data": {
            "image/png": "[encoded data removed]",
            "text/plain": [
              "<Figure size 432x288 with 1 Axes>"
            ]
          },
          "metadata": {
            "tags": [],
            "needs_background": "light"
          }
        }
      ]
    },
    {
      "cell_type": "code",
      "metadata": {
        "id": "-WbUU0HnpZN5",
        "colab": {
          "base_uri": "https://localhost:8080/",
          "height": 313
        },
        "outputId": "1abd563e-0484-48e8-c256-a9fde805dd48"
      },
      "source": [
        "#ROC Curve\r\n",
        "plot_roc_curve(xgb, X_test, y_test)\r\n",
        "plt.plot([0, 1], [0, 1], color='navy', linestyle='--')\r\n",
        "plt.title('ROC for XGBoost Classifier')\r\n",
        "plt.xlabel('False Positive Rate')\r\n",
        "plt.ylabel('True Positive Rate')"
      ],
      "execution_count": 978,
      "outputs": [
        {
          "output_type": "execute_result",
          "data": {
            "text/plain": [
              "Text(0, 0.5, 'True Positive Rate')"
            ]
          },
          "metadata": {
            "tags": []
          },
          "execution_count": 978
        },
        {
          "output_type": "display_data",
          "data": {
            "image/png": "[encoded data removed]",
            "text/plain": [
              "<Figure size 432x288 with 1 Axes>"
            ]
          },
          "metadata": {
            "tags": [],
            "needs_background": "light"
          }
        }
      ]
    },
    {
      "cell_type": "markdown",
      "metadata": {
        "id": "K5AufVd-rDXt"
      },
      "source": [
        "## **4) Model Evaluation & Optimization**\r\n",
        "\r\n",
        "\r\n"
      ]
    },
    {
      "cell_type": "markdown",
      "metadata": {
        "id": "jiIiQNUqCFoC"
      },
      "source": [
        "**4.1) Initial results from various Models**"
      ]
    },
    {
      "cell_type": "code",
      "metadata": {
        "id": "-cBt0y5Zr6RR"
      },
      "source": [
        "model_comp = pd.DataFrame({'Metrics/ Model': ['Accuracy Score (Test data)', 'ROC Score', 'F1 Score', 'Recall'],\r\n",
        "                           'Logistic Regression': [lr_ac_test, lr_rocscore, lr_f1, lr_recall],\r\n",
        "                           'Random Forest': [rf_ac_test, rf_rocscore, rf_f1, rf_recall],\r\n",
        "                           'K-Nearest Neighbor': [knn_ac_test, knn_rocscore, knn_f1, knn_recall],\r\n",
        "                           'XGBoost': [xgb_ac_test, xgb_rocscore, xgb_f1, xgb_recall],\r\n",
        "                          }).round(3)"
      ],
      "execution_count": 979,
      "outputs": []
    },
    {
      "cell_type": "code",
      "metadata": {
        "id": "cYOzb8xGsdZQ",
        "colab": {
          "base_uri": "https://localhost:8080/",
          "height": 171
        },
        "outputId": "d913c645-5062-449c-d80c-e195d18a9618"
      },
      "source": [
        "model_comp"
      ],
      "execution_count": 980,
      "outputs": [
        {
          "output_type": "execute_result",
          "data": {
            "text/html": [
              "<div>\n",
              "<style scoped>\n",
              "    .dataframe tbody tr th:only-of-type {\n",
              "        vertical-align: middle;\n",
              "    }\n",
              "\n",
              "    .dataframe tbody tr th {\n",
              "        vertical-align: top;\n",
              "    }\n",
              "\n",
              "    .dataframe thead th {\n",
              "        text-align: right;\n",
              "    }\n",
              "</style>\n",
              "<table border=\"1\" class=\"dataframe\">\n",
              "  <thead>\n",
              "    <tr style=\"text-align: right;\">\n",
              "      <th></th>\n",
              "      <th>Metrics/ Model</th>\n",
              "      <th>Logistic Regression</th>\n",
              "      <th>Random Forest</th>\n",
              "      <th>K-Nearest Neighbor</th>\n",
              "      <th>XGBoost</th>\n",
              "    </tr>\n",
              "  </thead>\n",
              "  <tbody>\n",
              "    <tr>\n",
              "      <th>0</th>\n",
              "      <td>Accuracy Score (Test data)</td>\n",
              "      <td>0.786</td>\n",
              "      <td>0.854</td>\n",
              "      <td>0.760</td>\n",
              "      <td>0.900</td>\n",
              "    </tr>\n",
              "    <tr>\n",
              "      <th>1</th>\n",
              "      <td>ROC Score</td>\n",
              "      <td>0.786</td>\n",
              "      <td>0.860</td>\n",
              "      <td>0.768</td>\n",
              "      <td>0.898</td>\n",
              "    </tr>\n",
              "    <tr>\n",
              "      <th>2</th>\n",
              "      <td>F1 Score</td>\n",
              "      <td>0.798</td>\n",
              "      <td>0.851</td>\n",
              "      <td>0.749</td>\n",
              "      <td>0.909</td>\n",
              "    </tr>\n",
              "    <tr>\n",
              "      <th>3</th>\n",
              "      <td>Recall</td>\n",
              "      <td>0.787</td>\n",
              "      <td>0.779</td>\n",
              "      <td>0.664</td>\n",
              "      <td>0.924</td>\n",
              "    </tr>\n",
              "  </tbody>\n",
              "</table>\n",
              "</div>"
            ],
            "text/plain": [
              "               Metrics/ Model  Logistic Regression  ...  K-Nearest Neighbor  XGBoost\n",
              "0  Accuracy Score (Test data)                0.786  ...               0.760    0.900\n",
              "1                   ROC Score                0.786  ...               0.768    0.898\n",
              "2                    F1 Score                0.798  ...               0.749    0.909\n",
              "3                      Recall                0.787  ...               0.664    0.924\n",
              "\n",
              "[4 rows x 5 columns]"
            ]
          },
          "metadata": {
            "tags": []
          },
          "execution_count": 980
        }
      ]
    },
    {
      "cell_type": "code",
      "metadata": {
        "id": "Ktf02boTuM3I",
        "colab": {
          "base_uri": "https://localhost:8080/",
          "height": 421
        },
        "outputId": "505f8fca-addd-4970-fc0e-20339fac9c41"
      },
      "source": [
        "fig, ax = plt.subplots(figsize=(8, 6))\r\n",
        "lr_plot = plot_roc_curve(lr, X_test, y_test, name='Logistic Regression',ax=ax)\r\n",
        "rf_plot = plot_roc_curve(rf, X_test, y_test, name='Random Forest',ax=ax)\r\n",
        "knn_plot = plot_roc_curve(knn, X_test, y_test, name='K-Neighbor',ax=ax)\r\n",
        "xgb_plot = plot_roc_curve(xgb, X_test, y_test, name='XGBoost',ax=ax)\r\n",
        "plt.plot(np.linspace(0, 1, 200), np.linspace(0, 1, 200), label='baseline', linestyle='--')\r\n",
        "plt.title('ROC for Various Models')\r\n",
        "plt.xlabel('False Positive Rate')\r\n",
        "plt.ylabel('True Positive Rate')"
      ],
      "execution_count": 981,
      "outputs": [
        {
          "output_type": "execute_result",
          "data": {
            "text/plain": [
              "Text(0, 0.5, 'True Positive Rate')"
            ]
          },
          "metadata": {
            "tags": []
          },
          "execution_count": 981
        },
        {
          "output_type": "display_data",
          "data": {
            "image/png": "[encoded data removed]",
            "text/plain": [
              "<Figure size 576x432 with 1 Axes>"
            ]
          },
          "metadata": {
            "tags": [],
            "needs_background": "light"
          }
        }
      ]
    },
    {
      "cell_type": "markdown",
      "metadata": {
        "id": "d7J5TpcYwVEg"
      },
      "source": [
        "Among all the models tested, XGBoos yields the best accuracy and AUC scores. Further parameters tunning will be attempted to refine the model.<br>"
      ]
    },
    {
      "cell_type": "markdown",
      "metadata": {
        "id": "Ld0nBAfJ8S0a"
      },
      "source": [
        "GridSearchCV"
      ]
    },
    {
      "cell_type": "markdown",
      "metadata": {
        "id": "aJVI_YgzBr2o"
      },
      "source": [
        "**4.2) Parameters tuning and optimizing the Model**"
      ]
    },
    {
      "cell_type": "code",
      "metadata": {
        "id": "sIJhMrMj9R6y"
      },
      "source": [
        "from sklearn import model_selection, metrics"
      ],
      "execution_count": 876,
      "outputs": []
    },
    {
      "cell_type": "code",
      "metadata": {
        "id": "kSx9XF0VBCYr"
      },
      "source": [
        "def algorithm_pipeline(X_train, X_test, y_train, y_test, \r\n",
        "                       model, param_grid, cv=5, scoring_fit='neg_mean_squared_error',\r\n",
        "                       do_probabilities = False):\r\n",
        "    gs = GridSearchCV(\r\n",
        "        estimator=model,\r\n",
        "        param_grid=param_grid, \r\n",
        "        cv=cv, \r\n",
        "        n_jobs=-1, \r\n",
        "        scoring=scoring_fit,\r\n",
        "        verbose=2\r\n",
        "    )\r\n",
        "    fitted_model = gs.fit(X_train, y_train)\r\n",
        "    \r\n",
        "    if do_probabilities:\r\n",
        "      pred = fitted_model.predict_proba(X_test)\r\n",
        "    else:\r\n",
        "      pred = fitted_model.predict(X_test)\r\n",
        "    \r\n",
        "    return fitted_model, pred"
      ],
      "execution_count": 877,
      "outputs": []
    },
    {
      "cell_type": "code",
      "metadata": {
        "colab": {
          "base_uri": "https://localhost:8080/"
        },
        "id": "zKH0uDXCDGkd",
        "outputId": "0954b6cd-fa34-46e7-c205-ce30d3c5ef4e"
      },
      "source": [
        "xgb1 = XGBClassifier()\r\n",
        "param_grid = {\r\n",
        "    'n_estimators': [500, 750, 1000],\r\n",
        "    'min_child_weight': [1, 10, 20], \r\n",
        "    'max_depth': [5, 10, 15],\r\n",
        "}\r\n",
        "\r\n",
        "model, pred = algorithm_pipeline(X_train, X_test, y_train, y_test, xgb1, \r\n",
        "                                 param_grid, cv=5)\r\n",
        "\r\n",
        "# Root Mean Squared Error\r\n",
        "print(np.sqrt(-model.best_score_))\r\n",
        "print(model.best_params_)"
      ],
      "execution_count": 992,
      "outputs": [
        {
          "output_type": "stream",
          "text": [
            "Fitting 5 folds for each of 27 candidates, totalling 135 fits\n"
          ],
          "name": "stdout"
        },
        {
          "output_type": "stream",
          "text": [
            "[Parallel(n_jobs=-1)]: Using backend LokyBackend with 2 concurrent workers.\n",
            "[Parallel(n_jobs=-1)]: Done  37 tasks      | elapsed:  2.1min\n",
            "[Parallel(n_jobs=-1)]: Done 135 out of 135 | elapsed: 10.7min finished\n"
          ],
          "name": "stderr"
        },
        {
          "output_type": "stream",
          "text": [
            "0.13406356865062555\n",
            "{'max_depth': 15, 'min_child_weight': 1, 'n_estimators': 750}\n"
          ],
          "name": "stdout"
        }
      ]
    },
    {
      "cell_type": "markdown",
      "metadata": {
        "id": "0I0jQMzSFSxn"
      },
      "source": [
        "**4.2.1) Re-running the model with improved parameters**"
      ]
    },
    {
      "cell_type": "code",
      "metadata": {
        "id": "gqFA6OB5FQmw"
      },
      "source": [
        "#XGBoost Classifier (optimized parameters)\r\n",
        "xgb_opt = XGBClassifier(n_estimator=750, max_depth=15, min_child_weight=1, random_state=1)\r\n",
        "xgb_model_opt = xgb_opt.fit(X_train, y_train)\r\n",
        "y_pred = xgb_model_opt.predict(X_test)"
      ],
      "execution_count": 993,
      "outputs": []
    },
    {
      "cell_type": "code",
      "metadata": {
        "colab": {
          "base_uri": "https://localhost:8080/"
        },
        "id": "D3-OTiQFFQmw",
        "outputId": "6bfc85de-6dac-4eca-93ac-3eb6a73cd343"
      },
      "source": [
        "#XGBoost Scores (optimized parameters)\r\n",
        "xgb_opt_ac_test = xgb_opt.score(X_test, y_test)\r\n",
        "xgb_opt_rocscore = roc_auc_score(y_test, y_pred)\r\n",
        "xgb_opt_f1 = f1_score(y_test, y_pred)\r\n",
        "xgb_opt_recall = recall_score(y_test, y_pred)\r\n",
        "\r\n",
        "print('Score - XGBoost Classifier (optimized):')\r\n",
        "print(f'On Testing data: {xgb_ac_test.round(3)}')\r\n",
        "print(f'On ROC Score: {xgb_rocscore.round(3)}')\r\n",
        "print(f'On F1 score: {xgb_f1.round(3)}')\r\n",
        "print(f'On Recall score: {xgb_recall.round(3)}')"
      ],
      "execution_count": 994,
      "outputs": [
        {
          "output_type": "stream",
          "text": [
            "Score - XGBoost Classifier (optimized):\n",
            "On Testing data: 0.9\n",
            "On ROC Score: 0.898\n",
            "On F1 score: 0.909\n",
            "On Recall score: 0.924\n"
          ],
          "name": "stdout"
        }
      ]
    },
    {
      "cell_type": "code",
      "metadata": {
        "colab": {
          "base_uri": "https://localhost:8080/",
          "height": 313
        },
        "id": "a8u-2L-2GHSH",
        "outputId": "ac9e1070-9b11-4679-c4b8-174c64fb79b4"
      },
      "source": [
        "#ROC Curve\r\n",
        "plot_roc_curve(xgb, X_test, y_test)\r\n",
        "plt.plot([0, 1], [0, 1], color='navy', linestyle='--')\r\n",
        "plt.title('ROC for XGBoost Classifier')\r\n",
        "plt.xlabel('False Positive Rate')\r\n",
        "plt.ylabel('True Positive Rate')"
      ],
      "execution_count": 995,
      "outputs": [
        {
          "output_type": "execute_result",
          "data": {
            "text/plain": [
              "Text(0, 0.5, 'True Positive Rate')"
            ]
          },
          "metadata": {
            "tags": []
          },
          "execution_count": 995
        },
        {
          "output_type": "display_data",
          "data": {
            "image/png": "[encoded data removed]",
            "text/plain": [
              "<Figure size 432x288 with 1 Axes>"
            ]
          },
          "metadata": {
            "tags": [],
            "needs_background": "light"
          }
        }
      ]
    },
    {
      "cell_type": "code",
      "metadata": {
        "colab": {
          "base_uri": "https://localhost:8080/"
        },
        "id": "ge0wLmmeMCn0",
        "outputId": "f2943617-456d-4e4b-d350-e8ddac1cb047"
      },
      "source": [
        "from sklearn.model_selection import cross_val_score\r\n",
        "\r\n",
        "cross_val_accuracy = cross_val_score(xgb_model_opt, X, y, scoring='accuracy', cv=5)\r\n",
        "print('Accuracy of the model with cross-validation is: ', (np.mean(cross_val_accuracy)*100).round(2),'%')"
      ],
      "execution_count": 1012,
      "outputs": [
        {
          "output_type": "stream",
          "text": [
            "Accuracy of the model with cross-validation is:  85.04 %\n"
          ],
          "name": "stdout"
        }
      ]
    },
    {
      "cell_type": "code",
      "metadata": {
        "id": "486nr3fOfqS8"
      },
      "source": [
        "labels = final_df.columns.tolist()\r\n",
        "imp_feat_score = xgb_model_opt.feature_importances_\r\n",
        "comb_list = list(zip(labels, imp_feat_score))\r\n",
        "\r\n",
        "feat_rank = pd.DataFrame(comb_list,columns=['labels', 'imp_feat_score']).sort_values(by='imp_feat_score', ascending=False)\r\n",
        "#feat_rank.sort_values(by='imp_feat_score', ascending=False)"
      ],
      "execution_count": 1036,
      "outputs": []
    },
    {
      "cell_type": "code",
      "metadata": {
        "colab": {
          "base_uri": "https://localhost:8080/",
          "height": 435
        },
        "id": "G9a_8UGGh3O0",
        "outputId": "7d12ae87-6086-47f0-8d0f-37878cde5a7c"
      },
      "source": [
        "sns.barplot(x='labels', y='imp_feat_score', data=feat_rank)\r\n",
        "plt.xticks(rotation=90)\r\n",
        "plt.title('Feature importance of the final model')"
      ],
      "execution_count": 1044,
      "outputs": [
        {
          "output_type": "execute_result",
          "data": {
            "text/plain": [
              "Text(0.5, 1.0, 'Feature importance of the final model')"
            ]
          },
          "metadata": {
            "tags": []
          },
          "execution_count": 1044
        },
        {
          "output_type": "display_data",
          "data": {
            "image/png": "[encoded data removed]",
            "text/plain": [
              "<Figure size 432x288 with 1 Axes>"
            ]
          },
          "metadata": {
            "tags": [],
            "needs_background": "light"
          }
        }
      ]
    },
    {
      "cell_type": "markdown",
      "metadata": {
        "id": "OEhzXcevXXgi"
      },
      "source": [
        "## **5) Conclusion**"
      ]
    },
    {
      "cell_type": "markdown",
      "metadata": {
        "id": "sLHfW4PEXgms"
      },
      "source": [
        "Severl models were analyzed in order to identify the most optimal model to predict if West Nile Virus will be predicted in the area. Models analyzed:<br>\r\n",
        "*   Logistic Regression\r\n",
        "*   Random Foreset\r\n",
        "*   K-Nearest Neighbor\r\n",
        "*   XGBoost Classifier\r\n",
        "<br>\r\n",
        "\r\n",
        "These models were applied towards the historic data across year 2007, 2009, 2011 and 2013 in Chicago. The model's result were then evaluated based on its accurcy score on the test data and ROC metrics.<br>\r\n",
        "\r\n",
        "Among all models used for prediction, XGBoost Classifier yields the best predictive results. GridSearch has been performed to tune the parameters for model optimization. Final XGBoost model yields an AUC score of 0.97 with cross-validation accuracy score t 0.85.<br> "
      ]
    },
    {
      "cell_type": "markdown",
      "metadata": {
        "id": "pyXqQSHnZWO3"
      },
      "source": [
        "*Limitations to the Model/ Further Considerations:*<br>\r\n",
        "*   The model assumed the environment where sample has been collected is reltively static over the period from 2007 to 2013\r\n",
        "*   In cleaning up the weather data - simple forward fill has been adopted in approaching station 2's missing data, a simple average has been taken between the 2 stations. If the weather station's data does vary, this may impact the model's predictibility\r\n",
        "*   Spraying data was not considered through the modelling. This could imply an assumption which spraying does not disort the mosquito growth patterns in the training/ testing dataset \r\n",
        "*   Current model is built based on the most important features, either retrieved or engineered using the training and weather data.  \r\n",
        "\r\n",
        "\r\n",
        "\r\n"
      ]
    },
    {
      "cell_type": "code",
      "metadata": {
        "id": "JVIB0gHzdX6O"
      },
      "source": [
        ""
      ],
      "execution_count": null,
      "outputs": []
    }
  ]
}